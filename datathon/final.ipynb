{
 "cells": [
  {
   "cell_type": "markdown",
   "id": "c7cbf3ba",
   "metadata": {},
   "source": [
    "## Contents\n",
    "\n",
    "- EDA by Year\n",
    "- EDA by Country\n",
    "- Tv Show -vs- Movie"
   ]
  },
  {
   "cell_type": "code",
   "execution_count": 1,
   "id": "f92b4014",
   "metadata": {},
   "outputs": [],
   "source": [
    "import warnings\n",
    "import numpy as np\n",
    "import pandas as pd\n",
    "import seaborn as sns\n",
    "import matplotlib.pyplot as plt\n",
    "import matplotlib.gridspec as gridspec\n",
    "import matplotlib.font_manager as fm\n",
    "import plotly.graph_objects as go\n",
    "warnings.filterwarnings(action='ignore')"
   ]
  },
  {
   "cell_type": "markdown",
   "id": "329c9a10",
   "metadata": {},
   "source": [
    "## load dataset\n",
    "- [Netflix dataset](https://www.kaggle.com/shivamb/netflix-shows)\n",
    "- [IMDB dataset](https://www.imdb.com/interfaces/)\n",
    "    - ratings\n",
    "    - basics"
   ]
  },
  {
   "cell_type": "markdown",
   "id": "cacfd7f4",
   "metadata": {},
   "source": [
    "## Netflix 연도별 컨텐츠 분석"
   ]
  },
  {
   "cell_type": "code",
   "execution_count": 2,
   "id": "d0396a09",
   "metadata": {},
   "outputs": [
    {
     "data": {
      "text/html": [
       "<div>\n",
       "<style scoped>\n",
       "    .dataframe tbody tr th:only-of-type {\n",
       "        vertical-align: middle;\n",
       "    }\n",
       "\n",
       "    .dataframe tbody tr th {\n",
       "        vertical-align: top;\n",
       "    }\n",
       "\n",
       "    .dataframe thead th {\n",
       "        text-align: right;\n",
       "    }\n",
       "</style>\n",
       "<table border=\"1\" class=\"dataframe\">\n",
       "  <thead>\n",
       "    <tr style=\"text-align: right;\">\n",
       "      <th></th>\n",
       "      <th>show_id</th>\n",
       "      <th>type</th>\n",
       "      <th>title</th>\n",
       "      <th>director</th>\n",
       "      <th>cast</th>\n",
       "      <th>country</th>\n",
       "      <th>date_added</th>\n",
       "      <th>release_year</th>\n",
       "      <th>rating</th>\n",
       "      <th>duration</th>\n",
       "      <th>listed_in</th>\n",
       "      <th>description</th>\n",
       "    </tr>\n",
       "  </thead>\n",
       "  <tbody>\n",
       "    <tr>\n",
       "      <th>0</th>\n",
       "      <td>s1</td>\n",
       "      <td>Movie</td>\n",
       "      <td>Dick Johnson Is Dead</td>\n",
       "      <td>Kirsten Johnson</td>\n",
       "      <td>NaN</td>\n",
       "      <td>United States</td>\n",
       "      <td>September 25, 2021</td>\n",
       "      <td>2020</td>\n",
       "      <td>PG-13</td>\n",
       "      <td>90 min</td>\n",
       "      <td>Documentaries</td>\n",
       "      <td>As her father nears the end of his life, filmm...</td>\n",
       "    </tr>\n",
       "    <tr>\n",
       "      <th>1</th>\n",
       "      <td>s2</td>\n",
       "      <td>TV Show</td>\n",
       "      <td>Blood &amp; Water</td>\n",
       "      <td>NaN</td>\n",
       "      <td>Ama Qamata, Khosi Ngema, Gail Mabalane, Thaban...</td>\n",
       "      <td>South Africa</td>\n",
       "      <td>September 24, 2021</td>\n",
       "      <td>2021</td>\n",
       "      <td>TV-MA</td>\n",
       "      <td>2 Seasons</td>\n",
       "      <td>International TV Shows, TV Dramas, TV Mysteries</td>\n",
       "      <td>After crossing paths at a party, a Cape Town t...</td>\n",
       "    </tr>\n",
       "    <tr>\n",
       "      <th>2</th>\n",
       "      <td>s3</td>\n",
       "      <td>TV Show</td>\n",
       "      <td>Ganglands</td>\n",
       "      <td>Julien Leclercq</td>\n",
       "      <td>Sami Bouajila, Tracy Gotoas, Samuel Jouy, Nabi...</td>\n",
       "      <td>NaN</td>\n",
       "      <td>September 24, 2021</td>\n",
       "      <td>2021</td>\n",
       "      <td>TV-MA</td>\n",
       "      <td>1 Season</td>\n",
       "      <td>Crime TV Shows, International TV Shows, TV Act...</td>\n",
       "      <td>To protect his family from a powerful drug lor...</td>\n",
       "    </tr>\n",
       "    <tr>\n",
       "      <th>3</th>\n",
       "      <td>s4</td>\n",
       "      <td>TV Show</td>\n",
       "      <td>Jailbirds New Orleans</td>\n",
       "      <td>NaN</td>\n",
       "      <td>NaN</td>\n",
       "      <td>NaN</td>\n",
       "      <td>September 24, 2021</td>\n",
       "      <td>2021</td>\n",
       "      <td>TV-MA</td>\n",
       "      <td>1 Season</td>\n",
       "      <td>Docuseries, Reality TV</td>\n",
       "      <td>Feuds, flirtations and toilet talk go down amo...</td>\n",
       "    </tr>\n",
       "    <tr>\n",
       "      <th>4</th>\n",
       "      <td>s5</td>\n",
       "      <td>TV Show</td>\n",
       "      <td>Kota Factory</td>\n",
       "      <td>NaN</td>\n",
       "      <td>Mayur More, Jitendra Kumar, Ranjan Raj, Alam K...</td>\n",
       "      <td>India</td>\n",
       "      <td>September 24, 2021</td>\n",
       "      <td>2021</td>\n",
       "      <td>TV-MA</td>\n",
       "      <td>2 Seasons</td>\n",
       "      <td>International TV Shows, Romantic TV Shows, TV ...</td>\n",
       "      <td>In a city of coaching centers known to train I...</td>\n",
       "    </tr>\n",
       "  </tbody>\n",
       "</table>\n",
       "</div>"
      ],
      "text/plain": [
       "  show_id     type                  title         director  \\\n",
       "0      s1    Movie   Dick Johnson Is Dead  Kirsten Johnson   \n",
       "1      s2  TV Show          Blood & Water              NaN   \n",
       "2      s3  TV Show              Ganglands  Julien Leclercq   \n",
       "3      s4  TV Show  Jailbirds New Orleans              NaN   \n",
       "4      s5  TV Show           Kota Factory              NaN   \n",
       "\n",
       "                                                cast        country  \\\n",
       "0                                                NaN  United States   \n",
       "1  Ama Qamata, Khosi Ngema, Gail Mabalane, Thaban...   South Africa   \n",
       "2  Sami Bouajila, Tracy Gotoas, Samuel Jouy, Nabi...            NaN   \n",
       "3                                                NaN            NaN   \n",
       "4  Mayur More, Jitendra Kumar, Ranjan Raj, Alam K...          India   \n",
       "\n",
       "           date_added  release_year rating   duration  \\\n",
       "0  September 25, 2021          2020  PG-13     90 min   \n",
       "1  September 24, 2021          2021  TV-MA  2 Seasons   \n",
       "2  September 24, 2021          2021  TV-MA   1 Season   \n",
       "3  September 24, 2021          2021  TV-MA   1 Season   \n",
       "4  September 24, 2021          2021  TV-MA  2 Seasons   \n",
       "\n",
       "                                           listed_in  \\\n",
       "0                                      Documentaries   \n",
       "1    International TV Shows, TV Dramas, TV Mysteries   \n",
       "2  Crime TV Shows, International TV Shows, TV Act...   \n",
       "3                             Docuseries, Reality TV   \n",
       "4  International TV Shows, Romantic TV Shows, TV ...   \n",
       "\n",
       "                                         description  \n",
       "0  As her father nears the end of his life, filmm...  \n",
       "1  After crossing paths at a party, a Cape Town t...  \n",
       "2  To protect his family from a powerful drug lor...  \n",
       "3  Feuds, flirtations and toilet talk go down amo...  \n",
       "4  In a city of coaching centers known to train I...  "
      ]
     },
     "execution_count": 2,
     "metadata": {},
     "output_type": "execute_result"
    }
   ],
   "source": [
    "netflix_origin = pd.read_csv('../../../archive/netflix_titles.csv')\n",
    "netflix_origin.head()"
   ]
  },
  {
   "cell_type": "code",
   "execution_count": 3,
   "id": "a2de50fc",
   "metadata": {},
   "outputs": [
    {
     "data": {
      "text/plain": [
       "show_id            0\n",
       "type               0\n",
       "title              0\n",
       "director        2634\n",
       "cast             825\n",
       "country          831\n",
       "date_added        10\n",
       "release_year       0\n",
       "rating             4\n",
       "duration           3\n",
       "listed_in          0\n",
       "description        0\n",
       "dtype: int64"
      ]
     },
     "execution_count": 3,
     "metadata": {},
     "output_type": "execute_result"
    }
   ],
   "source": [
    "#결측치 확인\n",
    "netflix_origin.isnull().sum()"
   ]
  },
  {
   "cell_type": "code",
   "execution_count": 4,
   "id": "4f8b88f8",
   "metadata": {},
   "outputs": [],
   "source": [
    "netflix_origin = netflix_origin.loc[netflix_origin['date_added'].isnull() == False]\n",
    "\n",
    "netflix_origin[\"date_added\"] = pd.to_datetime(netflix_origin['date_added'])\n",
    "netflix_origin['year_added'] = netflix_origin['date_added'].dt.year\n",
    "netflix_origin['month_added'] = netflix_origin['date_added'].dt.month\n",
    "\n",
    "#실수형을 정수로변환\n",
    "netflix_origin[\"year_added\"] = netflix_origin[\"year_added\"].astype(np.int64)\n",
    "netflix_origin[\"month_added\"] = netflix_origin[\"month_added\"].astype(np.int64)"
   ]
  },
  {
   "cell_type": "code",
   "execution_count": 5,
   "id": "cfb549af",
   "metadata": {},
   "outputs": [
    {
     "data": {
      "text/html": [
       "<div>\n",
       "<style scoped>\n",
       "    .dataframe tbody tr th:only-of-type {\n",
       "        vertical-align: middle;\n",
       "    }\n",
       "\n",
       "    .dataframe tbody tr th {\n",
       "        vertical-align: top;\n",
       "    }\n",
       "\n",
       "    .dataframe thead th {\n",
       "        text-align: right;\n",
       "    }\n",
       "</style>\n",
       "<table border=\"1\" class=\"dataframe\">\n",
       "  <thead>\n",
       "    <tr style=\"text-align: right;\">\n",
       "      <th></th>\n",
       "      <th>tconst</th>\n",
       "      <th>averageRating</th>\n",
       "      <th>numVotes</th>\n",
       "    </tr>\n",
       "  </thead>\n",
       "  <tbody>\n",
       "    <tr>\n",
       "      <th>0</th>\n",
       "      <td>tt0000001</td>\n",
       "      <td>5.7</td>\n",
       "      <td>1864</td>\n",
       "    </tr>\n",
       "    <tr>\n",
       "      <th>1</th>\n",
       "      <td>tt0000002</td>\n",
       "      <td>6.0</td>\n",
       "      <td>244</td>\n",
       "    </tr>\n",
       "    <tr>\n",
       "      <th>2</th>\n",
       "      <td>tt0000003</td>\n",
       "      <td>6.5</td>\n",
       "      <td>1632</td>\n",
       "    </tr>\n",
       "    <tr>\n",
       "      <th>3</th>\n",
       "      <td>tt0000004</td>\n",
       "      <td>5.8</td>\n",
       "      <td>158</td>\n",
       "    </tr>\n",
       "    <tr>\n",
       "      <th>4</th>\n",
       "      <td>tt0000005</td>\n",
       "      <td>6.2</td>\n",
       "      <td>2459</td>\n",
       "    </tr>\n",
       "  </tbody>\n",
       "</table>\n",
       "</div>"
      ],
      "text/plain": [
       "      tconst  averageRating  numVotes\n",
       "0  tt0000001            5.7      1864\n",
       "1  tt0000002            6.0       244\n",
       "2  tt0000003            6.5      1632\n",
       "3  tt0000004            5.8       158\n",
       "4  tt0000005            6.2      2459"
      ]
     },
     "execution_count": 5,
     "metadata": {},
     "output_type": "execute_result"
    }
   ],
   "source": [
    "#Load Imdb Dataset\n",
    "imdb_ratings = pd.read_csv('../../../archive/data.tsv', sep='\\t')\n",
    "imdb_ratings.head()"
   ]
  },
  {
   "cell_type": "code",
   "execution_count": null,
   "id": "3aeba9b3",
   "metadata": {},
   "outputs": [],
   "source": [
    "imdb_basics = pd.read_csv('../../../archive/basics_data.tsv', sep='\\t')\n",
    "imdb_basics.head()"
   ]
  },
  {
   "cell_type": "code",
   "execution_count": null,
   "id": "10644b0c",
   "metadata": {},
   "outputs": [],
   "source": [
    "print(len(set(imdb_basics.tconst))) # 8749012 모두 고유한 영화 index\n",
    "print(len(set(imdb_ratings.tconst))) # 1221334 모두 고유한 영화 index"
   ]
  },
  {
   "cell_type": "code",
   "execution_count": null,
   "id": "e38cea9a",
   "metadata": {},
   "outputs": [],
   "source": [
    "#컨텐츠 타입 \n",
    "imdb_basics.titleType.unique() "
   ]
  },
  {
   "cell_type": "markdown",
   "id": "4c8a0941",
   "metadata": {},
   "source": [
    "## Dataset Join"
   ]
  },
  {
   "cell_type": "code",
   "execution_count": null,
   "id": "4f028696",
   "metadata": {},
   "outputs": [],
   "source": [
    "#컨텐츠 타입중 movie와 tvSeries만 사용\n",
    "imdb_basics=imdb_basics[ (imdb_basics.titleType=='movie') | (imdb_basics.titleType=='tvSeries') ] \n",
    "imdb_basics=imdb_basics[imdb_basics.startYear.apply(lambda x: str(x).isnumeric())] #startYear join시 사용\n",
    "imdb=pd.merge(imdb_ratings.set_index('tconst'), imdb_basics.set_index('tconst'), left_index=True, right_index=True, how='inner')"
   ]
  },
  {
   "cell_type": "code",
   "execution_count": null,
   "id": "3edb868d",
   "metadata": {},
   "outputs": [],
   "source": [
    "print(imdb.shape)\n",
    "imdb.head()"
   ]
  },
  {
   "cell_type": "code",
   "execution_count": null,
   "id": "24d6dcdd",
   "metadata": {},
   "outputs": [],
   "source": [
    "imdb.startYear = imdb.startYear.astype(np.int64)\n",
    "netflix_origin['title']=netflix_origin['title'].str.lower()\n",
    "imdb['primaryTitle']=imdb['primaryTitle'].str.lower()\n",
    "\n",
    "netfilx_imdb=pd.merge(netflix_origin, imdb, left_on=['title', 'release_year'], right_on=['primaryTitle', 'startYear'], how='inner')\n",
    "netfilx_imdb.head()"
   ]
  },
  {
   "cell_type": "code",
   "execution_count": null,
   "id": "3346dc4f",
   "metadata": {},
   "outputs": [],
   "source": [
    "df_netfilx = netfilx_imdb[['type', 'title', 'director', 'cast', 'country', 'date_added',\n",
    "       'release_year',  'description', 'year_added', 'month_added', 'averageRating', 'numVotes', \n",
    "       'primaryTitle', 'originalTitle', 'rating', 'isAdult', 'startYear', 'endYear',\n",
    "        'duration', 'runtimeMinutes', 'genres']]\n",
    "\n",
    "# Movie \n",
    "df_movie = df_netfilx[df_netfilx.type =='Movie'].reset_index(drop=True)\n",
    "# TvShow \n",
    "df_tvshow = df_netfilx[df_netfilx.type =='TV Show'].reset_index(drop=True)"
   ]
  },
  {
   "cell_type": "markdown",
   "id": "fda68753",
   "metadata": {},
   "source": [
    "## EDA by year"
   ]
  },
  {
   "cell_type": "code",
   "execution_count": null,
   "id": "d8d3086f",
   "metadata": {},
   "outputs": [],
   "source": [
    "list_added_year= list(set(df_tvshow.year_added))\n",
    "list_added_year = sorted(list_added_year)\n",
    "print(len(list_added_year), list_added_year)"
   ]
  },
  {
   "cell_type": "code",
   "execution_count": null,
   "id": "91cb92de",
   "metadata": {},
   "outputs": [],
   "source": [
    "df_netfilx"
   ]
  },
  {
   "cell_type": "code",
   "execution_count": null,
   "id": "ccd82da4",
   "metadata": {},
   "outputs": [],
   "source": [
    "# 연도별 컨텐츠 개수\n",
    "color_map = ['#b20710', '#221f1f']\n",
    "\n",
    "plt.figure(figsize=(10,7))\n",
    "sns.set_style('whitegrid')\n",
    "sns.countplot(data=df_netfilx, palette=color_map, x='year_added' , hue='type', order=list_added_year)\n",
    "plt.title('Contents over the years')"
   ]
  },
  {
   "cell_type": "markdown",
   "id": "7811c0c8",
   "metadata": {},
   "source": [
    "- 연도별 컨텐츠 등록 데이터 분석\n",
    "\n",
    "    - 2015년부터 Movie, TvShow 대해 모두 넷플릭스에 등록되는 컨텐츠가 많아지고 있습니다.\n",
    "    - TV Show의 등록수가 Movie에 비해 적은 수치이지만 이는 Tv show의 경우 시즌 1개가 하나의 카운트로 잡혔기 때문으로 넷플릭스가 Movie에 대해서만 많이 투자하는 것은 아닙니다.\n",
    "- 두 분야에 대해 상세하게 알아보면 아래의 그래프처럼 연도별에 따라 비슷한 흐름으로 컨텐츠가 등록되고 있는것을 알 수 있습니다."
   ]
  },
  {
   "cell_type": "code",
   "execution_count": null,
   "id": "ccebbcb4",
   "metadata": {},
   "outputs": [],
   "source": [
    "# 연도별 Movie 컨텐츠 개수\n",
    "plt.figure(figsize=(10,7))\n",
    "plt.subplot(211)\n",
    "sns.countplot(data=df_movie, color=color_map[0], x='year_added', order=list_added_year)\n",
    "plt.title('Contents over the years on Movie')\n",
    "\n",
    "# 연도별 TvShow 컨텐츠 개수\n",
    "plt.figure(figsize=(10,7))\n",
    "plt.subplot(212)\n",
    "sns.countplot(data=df_tvshow, color=color_map[1], x='year_added', order=list_added_year)\n",
    "plt.title('Contents over the years on a TV show')"
   ]
  },
  {
   "cell_type": "markdown",
   "id": "9d5a0a98",
   "metadata": {},
   "source": [
    "- 연도별 컨텐츠 등록 데이터 분석2\n",
    "    - 2019년에 갑자기 등록되는 컨텐츠가 늘어납니다. 코로나의 영향으로 집에서 영화를 보는 사람이 늘어나서일까요?\n",
    "    - 2018년과 2019년 월별 데이터를 분석해보겠습니다."
   ]
  },
  {
   "cell_type": "code",
   "execution_count": null,
   "id": "e991d521",
   "metadata": {},
   "outputs": [],
   "source": [
    "df_movie['month_added'] = df_movie['month_added'].apply(lambda x: \"{:0>2d}\".format(x))\n",
    "df_movie['months'] = df_movie.year_added.map(str) + \"-\" + df_movie.month_added\n",
    "df_monthmv = df_movie[(df_movie.year_added==2019 )|(df_movie.year_added==2020 )].sort_values('months')\n",
    "\n",
    "\n",
    "# 월별 Movie 컨텐츠수\n",
    "plt.figure(figsize=(15,5))\n",
    "plt.subplot(211)\n",
    "g = sns.countplot(data=df_monthmv, palette=color_map, x='months')\n",
    "g.set_xticklabels(g.get_xticklabels(), rotation=45)\n",
    "plt.title('Contents over the years on Movie')\n",
    "plt.show()"
   ]
  },
  {
   "cell_type": "markdown",
   "id": "8a8636bc",
   "metadata": {},
   "source": [
    "### 2019~ 2020년 월별 컨텐츠 등록수\n",
    "- 디즈니 플러스, 애플TV 서비스 런칭의 영향\n",
    "\n",
    "    - 코로나19는 2019년 12월 중국 우한시에서 처음 확인되었고 이후 2020년 3월에 펜데믹 즉 세계적 범유행했는데 단지 코로나의 영향으로 컨텐츠가 2019년에 늘어난것은 아닌 것으로 보입니다. 이는 2019년 11월 1일 디즈니 플러스와 애플 티비 플러스 서비스가 미국에서 동시에 런칭되었기 때문입니다.경쟁자들과의 대결이 본격화되는 시기에 이루어진 투자로 보는것이 맞겠습니다.\n",
    "- 코로나의 영향\n",
    "    - 2020년과 2021년 계속적으로 많은 컨텐츠가 등록되고 있는것은 코로나의 여파로 인 것 같습니다."
   ]
  },
  {
   "cell_type": "markdown",
   "id": "411efaaf",
   "metadata": {},
   "source": [
    "------"
   ]
  },
  {
   "cell_type": "markdown",
   "id": "a6f2d0ae",
   "metadata": {},
   "source": [
    "### 연도별 작품 평가수\n",
    "- 한 작품당 평가하는 수가 얼마나 늘고 있는지를 알아보겠습니다. 이를 통해 연도별로 컨텐츠 사용자가 컨텐츠에 대해 얼마나 소비하고 있는지 살펴볼수 있습니다."
   ]
  },
  {
   "cell_type": "code",
   "execution_count": null,
   "id": "99b51fed",
   "metadata": {},
   "outputs": [],
   "source": [
    "df_counts = df_netfilx.groupby(['year_added']).sum()\n",
    "df_counts['sizes'] = df_netfilx.groupby(['year_added']).size()\n",
    "df_counts['meanVotes'] = (df_counts.numVotes / df_counts.sizes).astype(np.int64)"
   ]
  },
  {
   "cell_type": "code",
   "execution_count": null,
   "id": "fd98ecf9",
   "metadata": {},
   "outputs": [],
   "source": [
    "plt.figure(figsize=(12,5))\n",
    "plt.subplot(121)\n",
    "plt.plot(df_counts.index, df_counts.sizes, color=color_map[0])\n",
    "plt.title('Number of contents over the years')\n",
    "\n",
    "#sns.lineplot(data=df_counts, x='sizes') #contents size\n",
    "\n",
    "plt.subplot(122)\n",
    "plt.plot(df_counts.index, df_counts.meanVotes, color=color_map[1])\n",
    "plt.title('Mean of votes over the years')"
   ]
  },
  {
   "cell_type": "markdown",
   "id": "331c50ba",
   "metadata": {},
   "source": [
    "- 작품수가 증가함에따라 평가가 늘어나는 것은 당연하지만 한 컨텐츠당 평균적으로 평가하는 수 또한 늘고 있습니다. 이는 컨텐츠를 보는 사용자(구독자)수가 컨텐츠가 늘어남에 따라 늘어난 결과입니다. 또한 사용자는 작품에 대해 평가를 남겨 컨텐츠에 대해 좀더 능동적으로 소비하는 경향을 보이고 있습니다"
   ]
  },
  {
   "cell_type": "markdown",
   "id": "2c84c5d8",
   "metadata": {},
   "source": [
    "###  인기 컨텐츠 및 평점이 높은 컨텐츠 분석"
   ]
  },
  {
   "cell_type": "code",
   "execution_count": null,
   "id": "2f1dbaf1",
   "metadata": {},
   "outputs": [],
   "source": [
    "df_movie['averageRating'].describe()"
   ]
  },
  {
   "cell_type": "code",
   "execution_count": null,
   "id": "903a6fcb",
   "metadata": {},
   "outputs": [],
   "source": [
    "plt.figure(figsize=(20, 6))\n",
    "sns.distplot(df_movie['averageRating'], fit_kws={'color':color_map[0]}, color=color_map[0])"
   ]
  },
  {
   "cell_type": "markdown",
   "id": "3f5d835b",
   "metadata": {},
   "source": [
    "- 넷플릭스 전체 컨텐츠에 대한 평점은 평균은 약 6.2점입니다.\n",
    "- 사분위 범위(Interquartile range)의 평점으로 5.5~ 7.0 사이값이 주로 나타나고 있습니다.\n",
    "연도별로 평점이 높거나 인기가 많은(votes수기준) 컨텐츠를 알아보겠습니다."
   ]
  },
  {
   "cell_type": "markdown",
   "id": "e20a4222",
   "metadata": {},
   "source": [
    "## 연도별 인기 상위 컨텐츠"
   ]
  },
  {
   "cell_type": "markdown",
   "id": "eb0f0785",
   "metadata": {},
   "source": [
    "- 인기 컨텐츠는 평점과 관계없이 사용자가 평가를 많이 남긴 것을 기준으로 했습니다. 평점이 저조해도 평점이 많이 남았다면 이슈가 되는 컨텐츠라고 생각할 수 있겠습니다."
   ]
  },
  {
   "cell_type": "code",
   "execution_count": null,
   "id": "ac600c84",
   "metadata": {},
   "outputs": [],
   "source": [
    "def get_top_mv(year, n_top=5 ):\n",
    "    topvote_mv = df_movie.sort_values(['year_added','numVotes'], ascending=[True, False]).groupby('year_added').head(n_top)\n",
    "    topvote_mv =topvote_mv[['year_added','title','country', 'averageRating', 'numVotes', 'release_year']]\n",
    "    \n",
    "    return topvote_mv[topvote_mv.year_added==year]\n",
    "    \n",
    "def get_top_tv(year, n_top=5):    \n",
    "    topvote_tv = df_tvshow.sort_values(['year_added','numVotes'], ascending=[True, False]).groupby('year_added').head(n_top)\n",
    "    topvote_tv = topvote_tv[['year_added','title','country', 'averageRating', 'numVotes','release_year']]\n",
    "    \n",
    "    return topvote_tv[topvote_tv.year_added==year]"
   ]
  },
  {
   "cell_type": "markdown",
   "id": "a40b9cea",
   "metadata": {},
   "source": [
    "## 2021년 인기 Movie Top5"
   ]
  },
  {
   "cell_type": "code",
   "execution_count": null,
   "id": "1f0d454b",
   "metadata": {},
   "outputs": [],
   "source": [
    "get_top_mv(2021, 5)"
   ]
  },
  {
   "cell_type": "markdown",
   "id": "40d43946",
   "metadata": {},
   "source": [
    "## 2020년 인기 Movie Top5"
   ]
  },
  {
   "cell_type": "code",
   "execution_count": null,
   "id": "e09bd589",
   "metadata": {},
   "outputs": [],
   "source": [
    "get_top_mv(2020, 5)"
   ]
  },
  {
   "cell_type": "markdown",
   "id": "49f8ba65",
   "metadata": {},
   "source": [
    "- 실제 영화가 출시된지 오래된 영화들이 인기 영화로 나타나는 모습입니다. 이는 넷플릭스의 추천 시스템에 의해 사용자들이 최신작이 아니어도 취향에 따라 컨텐츠를 선택하는 것 때문으로 볼수 있겠습니다. 새로운 컨텐츠를 제공하는것 만큼이나 이미 재미나 가치가 검증된 컨텐츠를 사용자가 이용할 수 있도록 하는 것이 중요한데, 넥플릭스는 추천 시스템으로 이를 잘활용하고 있는것 같습니다.\n",
    "\n",
    "- 또한 평가를 많이 받은 컨텐츠는 평점이 8점대 이상으로 좋게 나타나고 있습니다. 평가수와 평점간에 상관관계가 있다고 보입니다."
   ]
  },
  {
   "cell_type": "markdown",
   "id": "2ee2dec3",
   "metadata": {},
   "source": [
    "## 2021년 인기 Tv show Top5"
   ]
  },
  {
   "cell_type": "code",
   "execution_count": null,
   "id": "512541c4",
   "metadata": {},
   "outputs": [],
   "source": [
    "get_top_tv(2021)"
   ]
  },
  {
   "cell_type": "markdown",
   "id": "fa543eab",
   "metadata": {},
   "source": [
    "## 2020년 인기 Tv show Top5"
   ]
  },
  {
   "cell_type": "code",
   "execution_count": null,
   "id": "ca553bc0",
   "metadata": {},
   "outputs": [],
   "source": [
    "get_top_tv(2020)"
   ]
  },
  {
   "cell_type": "markdown",
   "id": "b2089969",
   "metadata": {},
   "source": [
    "- TV show의 경우는 영화와 다르게 최근에 제작된 컨텐츠의 인기도가 높습니다. 작년 이슈가 되었던 컨텐츠인 오징어 게임이 2021년 1위로 랭크된것도 확인할수 있습니다.\n",
    "- Tv show 부분에서는 넷플릭스 오리지널 컨텐츠 전략이, movie부분에서는 추천 시스템 전략이 많이 통하는 모습입니다."
   ]
  },
  {
   "cell_type": "markdown",
   "id": "0a6ba1f5",
   "metadata": {},
   "source": [
    "## 연도별 평점 상위 컨텐츠"
   ]
  },
  {
   "cell_type": "markdown",
   "id": "f7ef2e68",
   "metadata": {},
   "source": [
    "- 평점시스템에서 평가자가 적은 상태에서 나온 점수는 신빙성이 떨어질수 있습니다. 연도별로 평균 평가자수(meanVotes) 이상이 평가한 컨텐츠를 대상으로 평점을 산출하였습니다."
   ]
  },
  {
   "cell_type": "code",
   "execution_count": null,
   "id": "1d8b807d",
   "metadata": {},
   "outputs": [],
   "source": [
    "def get_meanVotes(n_year):\n",
    "    return df_counts[df_counts.index == n_year].meanVotes.values[0]\n",
    "\n",
    "df_movie_new = df_movie\n",
    "df_tvshow_new = df_tvshow\n",
    "\n",
    "df_movie_new['meanVotes'] = df_movie_new.apply(lambda x: get_meanVotes(x['year_added'])  , axis = 1 )\n",
    "df_tvshow_new['meanVotes'] = df_tvshow_new.apply(lambda x: get_meanVotes(x['year_added'])  , axis = 1 )\n",
    "\n",
    "df_movie_new = df_movie[df_movie.numVotes > df_movie.meanVotes]\n",
    "df_tvshow_new = df_tvshow[df_tvshow.numVotes > df_tvshow.meanVotes]\n",
    "\n",
    "def get_toprate_mv(year, n_top=5):    \n",
    "    topvote_mv = df_movie_new.sort_values(['year_added','averageRating'], ascending=[True, False]).groupby('year_added').head(n_top)\n",
    "    topvote_mv = topvote_mv[['year_added','title','country', 'averageRating', 'numVotes','release_year']]\n",
    "    \n",
    "    return topvote_mv[topvote_mv.year_added==year]\n",
    "\n",
    "def get_toprate_tv(year, n_top=5):    \n",
    "    toprate_tv = df_tvshow_new.sort_values(['year_added','averageRating'], ascending=[True, False]).groupby('year_added').head(n_top)\n",
    "    toprate_tv = toprate_tv[['year_added','title','country', 'averageRating', 'numVotes','release_year']]\n",
    "    \n",
    "    return toprate_tv[toprate_tv.year_added==year]"
   ]
  },
  {
   "cell_type": "markdown",
   "id": "de1ed46c",
   "metadata": {},
   "source": [
    "## 2021년 평점 상위 Movie Top5"
   ]
  },
  {
   "cell_type": "code",
   "execution_count": null,
   "id": "4c6e5367",
   "metadata": {},
   "outputs": [],
   "source": [
    "get_toprate_mv(2021, 5)"
   ]
  },
  {
   "cell_type": "markdown",
   "id": "d5d6bca9",
   "metadata": {},
   "source": [
    "## 2020년 평점 상위 Movie Top5"
   ]
  },
  {
   "cell_type": "code",
   "execution_count": null,
   "id": "c47444ed",
   "metadata": {},
   "outputs": [],
   "source": [
    "get_toprate_mv(2020, 5)"
   ]
  },
  {
   "cell_type": "markdown",
   "id": "696b64b4",
   "metadata": {},
   "source": [
    "## 2021년 평점 상위 TV show Top5"
   ]
  },
  {
   "cell_type": "code",
   "execution_count": null,
   "id": "336aa766",
   "metadata": {},
   "outputs": [],
   "source": [
    "get_toprate_tv(2021, 5)"
   ]
  },
  {
   "cell_type": "markdown",
   "id": "0d02abfb",
   "metadata": {},
   "source": [
    "## 2020년 평점 상위 TV show Top5"
   ]
  },
  {
   "cell_type": "code",
   "execution_count": null,
   "id": "b0aa0437",
   "metadata": {
    "scrolled": true
   },
   "outputs": [],
   "source": [
    "get_toprate_tv(2020, 5)"
   ]
  },
  {
   "cell_type": "markdown",
   "id": "d1d9cb20",
   "metadata": {},
   "source": [
    "- 평점 상위 컨텐츠에서도 인기컨텐츠와 비슷한 경향이 나타납니다. 영화의 경우 평점이 높은 예전영화들이 최근에도 계속 상위를 차지하고 있고, TV show의 넷플릭스 오리지널이 평점이 높게 나타나고있습니다."
   ]
  },
  {
   "cell_type": "markdown",
   "id": "555b29d6",
   "metadata": {},
   "source": [
    "## TV Show -vs- Movie"
   ]
  },
  {
   "cell_type": "code",
   "execution_count": null,
   "id": "9049d218",
   "metadata": {},
   "outputs": [],
   "source": [
    "df = pd.read_csv('../../../archive/netflix_titles.csv')\n",
    "\n",
    "# Replacments\n",
    "df['country'] = df['country'].fillna(df['country'].mode()[0])\n",
    "df['cast'].replace(np.nan, 'No Data',inplace  = True)\n",
    "df['director'].replace(np.nan, 'No Data',inplace  = True)\n",
    "\n",
    "# Drops\n",
    "df.dropna(inplace=True)\n",
    "\n",
    "# Drop Duplicates\n",
    "df.drop_duplicates(inplace= True)"
   ]
  },
  {
   "cell_type": "code",
   "execution_count": null,
   "id": "46d22bbf",
   "metadata": {},
   "outputs": [],
   "source": [
    "x=df.groupby(['type'])['type'].count()\n",
    "y=len(df)\n",
    "r=((x/y)).round(2)\n",
    "\n",
    "mf_ratio = pd.DataFrame(r).T"
   ]
  },
  {
   "cell_type": "code",
   "execution_count": null,
   "id": "a8ce5a42",
   "metadata": {
    "scrolled": false
   },
   "outputs": [],
   "source": [
    "idx = mf_ratio.index\n",
    "fig, ax = plt.subplots(1,1,figsize=(10, 5))\n",
    "\n",
    "ax.barh(mf_ratio.index, mf_ratio['Movie'], \n",
    "        color='#b20710', alpha=0.9, label='Male')\n",
    "ax.barh(mf_ratio.index, mf_ratio['TV Show'], left=mf_ratio['Movie'], \n",
    "        color='#221f1f', alpha=0.9, label='Female')\n",
    "\n",
    "ax.set_xlim(0, 1)\n",
    "ax.set_xticks([])\n",
    "ax.set_yticks([])\n",
    "\n",
    "ax.annotate(f\"{int(mf_ratio['Movie'][idx]*100)}%\", \n",
    "               xy=(mf_ratio['Movie'][idx]/2, idx),\n",
    "               va = 'center', ha='center',fontsize=40, fontweight='light', fontfamily='serif',\n",
    "               color='white')\n",
    "\n",
    "ax.annotate(\"Movie\", \n",
    "               xy=(mf_ratio['Movie'][idx]/2, -0.25),\n",
    "               va = 'center', ha='center',fontsize=15, fontweight='light', fontfamily='serif',\n",
    "               color='white')\n",
    "\n",
    "ax.annotate(f\"{int(mf_ratio['TV Show'][idx]*100)}%\", \n",
    "               xy=(mf_ratio['Movie'][idx]+mf_ratio['TV Show'][idx]/2, idx),\n",
    "               va = 'center', ha='center',fontsize=40, fontweight='light', fontfamily='serif',\n",
    "               color='white')\n",
    "ax.annotate(\"TV Show\", \n",
    "               xy=(mf_ratio['Movie'][idx]+mf_ratio['TV Show'][idx]/2, -0.25),\n",
    "               va = 'center', ha='center',fontsize=15, fontweight='light', fontfamily='serif',\n",
    "               color='white')\n",
    "\n",
    "fig.text(0.125,1.03,'Movie & TV Show distribution', fontfamily='serif',fontsize=15, fontweight='bold')\n",
    "for s in ['top', 'left', 'right', 'bottom']:\n",
    "    ax.spines[s].set_visible(False)\n",
    "plt.show()"
   ]
  },
  {
   "cell_type": "code",
   "execution_count": null,
   "id": "0e5ab570",
   "metadata": {},
   "outputs": [],
   "source": [
    "df['first_country'] = df['country'].apply(lambda x: x.split(\",\")[0])\n",
    "df['first_country'].head()\n",
    "\n",
    "# Rating ages from this notebook: https://www.kaggle.com/andreshg/eda-beginner-to-expert-plotly\n",
    "ratings_ages = {\n",
    "    'TV-PG': 'Older Kids',\n",
    "    'TV-MA': 'Adults',\n",
    "    'TV-Y7-FV': 'Older Kids',\n",
    "    'TV-Y7': 'Older Kids',\n",
    "    'TV-14': 'Teens',\n",
    "    'R': 'Adults',\n",
    "    'TV-Y': 'Kids',\n",
    "    'NR': 'Adults',\n",
    "    'PG-13': 'Teens',\n",
    "    'TV-G': 'Kids',\n",
    "    'PG': 'Older Kids',\n",
    "    'G': 'Kids',\n",
    "    'UR': 'Adults',\n",
    "    'NC-17': 'Adults'\n",
    "}\n",
    "\n",
    "df['target_ages'] = df['rating'].replace(ratings_ages)\n",
    "df['target_ages'].unique()\n",
    "\n",
    "df['genre'] = df['listed_in'].apply(lambda x :  x.replace(' ,',',').replace(', ',',').split(',')) \n",
    "\n",
    "df['first_country'].replace('United States', 'USA', inplace=True)\n",
    "df['first_country'].replace('United Kingdom', 'UK',inplace=True)\n",
    "df['first_country'].replace('South Korea', 'S. Korea',inplace=True)"
   ]
  },
  {
   "cell_type": "code",
   "execution_count": null,
   "id": "4e42ba24",
   "metadata": {},
   "outputs": [],
   "source": [
    "df['count'] = 1\n",
    "data = df.groupby('first_country')['count'].sum().sort_values(ascending=False)[:10]\n",
    "\n",
    "# Plot\n",
    "\n",
    "color_map = ['#f5f5f1' for _ in range(10)]\n",
    "color_map[0] = color_map[1] = color_map[2] = color_map[3] = color_map[4] = '#b20710' # color highlight\n",
    "color_map[5] = color_map[6] = color_map[7] = color_map[8] = color_map[9] ='#221f1f' # color highlight\n",
    "fig, ax = plt.subplots(1,1, figsize=(12, 6))\n",
    "ax.bar(data.index, data, width=0.5, \n",
    "       edgecolor='darkgray',\n",
    "       linewidth=0.6,color=color_map)\n",
    "\n",
    "#annotations\n",
    "for i in data.index:\n",
    "    ax.annotate(f\"{data[i]}\", \n",
    "                   xy=(i, data[i] + 150), #i like to change this to roughly 5% of the highest cat\n",
    "                   va = 'center', ha='center',fontweight='light', fontfamily='serif')\n",
    "\n",
    "\n",
    "\n",
    "# Remove border from plot\n",
    "\n",
    "for s in ['top', 'left', 'right']:\n",
    "    ax.spines[s].set_visible(False)\n",
    "    \n",
    "# Tick labels\n",
    "\n",
    "ax.set_xticklabels(data.index, fontfamily='serif', rotation=0)\n",
    "\n",
    "# Title and sub-title\n",
    "fig.text(0.09, 1, 'Top 5 countries on Netflix', fontsize=15, fontweight='bold', fontfamily='serif')\n",
    "fig.text(0.09, 0.95, 'The five most frequent countries have been highlighted.', fontsize=12, fontweight='light', fontfamily='serif')\n",
    "\n",
    "\n",
    "ax.grid(axis='y', linestyle='-', alpha=0.4)   \n",
    "\n",
    "grid_y_ticks = np.arange(0, 4000, 500) # y ticks, min, max, then step\n",
    "ax.set_yticks(grid_y_ticks)\n",
    "ax.set_axisbelow(True)\n",
    "\n",
    "\n",
    "plt.axhline(y = 0, color = 'black', linewidth = 1.3, alpha = .7)\n",
    "ax.tick_params(axis='both', which='major', labelsize=12)\n",
    "plt.show()"
   ]
  },
  {
   "cell_type": "code",
   "execution_count": null,
   "id": "1cbd5fbc",
   "metadata": {},
   "outputs": [],
   "source": [
    "country_order = df['first_country'].value_counts()[:11].index\n",
    "data_q2q3 = df[['type', 'first_country']].groupby('first_country')['type'].value_counts().unstack().loc[country_order]\n",
    "data_q2q3['sum'] = data_q2q3.sum(axis=1)\n",
    "data_q2q3_ratio = (data_q2q3.T / data_q2q3['sum']).T[['Movie', 'TV Show']].sort_values(by='Movie',ascending=False)[::-1]\n",
    "\n",
    "\n",
    "\n",
    "\n",
    "###\n",
    "fig, ax = plt.subplots(1,1,figsize=(15, 8),)\n",
    "\n",
    "ax.barh(data_q2q3_ratio.index, data_q2q3_ratio['Movie'], \n",
    "        color='#b20710', alpha=0.8, label='Movie')\n",
    "ax.barh(data_q2q3_ratio.index, data_q2q3_ratio['TV Show'], left=data_q2q3_ratio['Movie'], \n",
    "        color='#221f1f', alpha=0.8, label='TV Show')\n",
    "\n",
    "\n",
    "ax.set_xlim(0, 1)\n",
    "ax.set_xticks([])\n",
    "ax.set_yticklabels(data_q2q3_ratio.index, fontfamily='serif', fontsize=11)\n",
    "\n",
    "# male percentage\n",
    "for i in data_q2q3_ratio.index:\n",
    "    ax.annotate(f\"{data_q2q3_ratio['Movie'][i]*100:.3}%\", \n",
    "                   xy=(data_q2q3_ratio['Movie'][i]/2, i),\n",
    "                   va = 'center', ha='center',fontsize=12, fontweight='light', fontfamily='serif',\n",
    "                   color='white')\n",
    "\n",
    "for i in data_q2q3_ratio.index:\n",
    "    ax.annotate(f\"{data_q2q3_ratio['TV Show'][i]*100:.3}%\", \n",
    "                   xy=(data_q2q3_ratio['Movie'][i]+data_q2q3_ratio['TV Show'][i]/2, i),\n",
    "                   va = 'center', ha='center',fontsize=12, fontweight='light', fontfamily='serif',\n",
    "                   color='white')\n",
    "    \n",
    "\n",
    "fig.text(0.13, 0.93, 'Top 10 countries Movie & TV Show split', fontsize=15, fontweight='bold', fontfamily='serif')   \n",
    "fig.text(0.131, 0.89, 'Percent Stacked Bar Chart', fontsize=12,fontfamily='serif')   \n",
    "\n",
    "for s in ['top', 'left', 'right', 'bottom']:\n",
    "    ax.spines[s].set_visible(False)\n",
    "\n",
    "fig.text(0.75,0.9,\"Movie\", fontweight=\"bold\", fontfamily='serif', fontsize=15, color='#b20710')\n",
    "fig.text(0.81,0.9,\"|\", fontweight=\"bold\", fontfamily='serif', fontsize=15, color='black')\n",
    "fig.text(0.82,0.9,\"TV Show\", fontweight=\"bold\", fontfamily='serif', fontsize=15, color='#221f1f')\n",
    "\n",
    "ax.tick_params(axis='both', which='major', labelsize=12)\n",
    "ax.tick_params(axis=u'both', which=u'both',length=0)\n",
    "\n",
    "plt.show()"
   ]
  },
  {
   "cell_type": "markdown",
   "id": "99531f30",
   "metadata": {},
   "source": [
    "## Insight\n",
    "\n",
    "- 인도는 발리우드의 영향 때문 인지 Movie가 많고\n",
    "- 우리나라는 예상대로 드라마 시리즈를 선호하는 경향이 있다."
   ]
  },
  {
   "cell_type": "code",
   "execution_count": null,
   "id": "7d42cab6",
   "metadata": {},
   "outputs": [],
   "source": [
    "order = pd.DataFrame(df.groupby('target_ages')['count'].sum().sort_values(ascending=False).reset_index())\n",
    "rating_order = list(order['target_ages'])\n",
    "mf = df.groupby('type')['target_ages'].value_counts().unstack().sort_index().fillna(0).astype(int)[rating_order]\n",
    "\n",
    "movie = mf.loc['Movie']\n",
    "tv = - mf.loc['TV Show']\n",
    "\n",
    "\n",
    "fig, ax = plt.subplots(1,1, figsize=(12, 6))\n",
    "ax.bar(movie.index, movie, width=0.5, color='#b20710', alpha=0.8, label='Movie')\n",
    "ax.bar(tv.index, tv, width=0.5, color='#221f1f', alpha=0.8, label='TV Show')\n",
    "#ax.set_ylim(-35, 50)\n",
    "\n",
    "# Annotations\n",
    "for i in tv.index:\n",
    "    ax.annotate(f\"{-tv[i]}\", \n",
    "                   xy=(i, tv[i] - 60),\n",
    "                   va = 'center', ha='center',fontweight='light', fontfamily='serif',\n",
    "                   color='#4a4a4a')   \n",
    "\n",
    "for i in movie.index:\n",
    "    ax.annotate(f\"{movie[i]}\", \n",
    "                   xy=(i, movie[i] + 60),\n",
    "                   va = 'center', ha='center',fontweight='light', fontfamily='serif',\n",
    "                   color='#4a4a4a')\n",
    "    \n",
    " \n",
    "for s in ['top', 'left', 'right', 'bottom']:\n",
    "    ax.spines[s].set_visible(False)\n",
    "\n",
    "ax.set_xticklabels(mf.columns, fontfamily='serif', fontsize=15)\n",
    "ax.set_yticks([])    \n",
    "\n",
    "ax.legend().set_visible(False)\n",
    "fig.text(0.16, 1, 'Rating distribution by Film & TV Show', fontsize=15, fontweight='bold', fontfamily='serif')\n",
    "\n",
    "\n",
    "\n",
    "fig.text(0.755,0.924,\"Movie\", fontweight=\"bold\", fontfamily='serif', fontsize=15, color='#b20710')\n",
    "fig.text(0.815,0.924,\"|\", fontweight=\"bold\", fontfamily='serif', fontsize=15, color='black')\n",
    "fig.text(0.825,0.924,\"TV Show\", fontweight=\"bold\", fontfamily='serif', fontsize=15, color='#221f1f')\n",
    "\n",
    "plt.show()"
   ]
  },
  {
   "cell_type": "markdown",
   "id": "a2857353",
   "metadata": {},
   "source": [
    "## Insight\n",
    "\n",
    "- 성인컨텐츠가 가장 많은 것을 확인할 수 있다.\n",
    "- kids 컨텐츠의 경우 running time이 긴 컨텐츠(movie)가 적은 것을 확인할 수 있다."
   ]
  },
  {
   "cell_type": "code",
   "execution_count": null,
   "id": "b447f83c",
   "metadata": {
    "scrolled": false
   },
   "outputs": [],
   "source": [
    "type_data = df[['type','release_year']]\n",
    "TV_show = type_data[type_data['type'] =='TV Show'].groupby('release_year')['type'].count()\n",
    "Movie = type_data[type_data['type'] =='Movie'].groupby('release_year')['type'].count()\n",
    "\n",
    "fig, ax = plt.subplots(figsize=(25,20),facecolor=\"#363336\")\n",
    "ax.patch.set_facecolor('#363336')\n",
    "\n",
    "spec = gridspec.GridSpec(ncols=21, nrows=21, figure=fig)\n",
    "ax1 = fig.add_subplot(spec[:10, :],facecolor=\"#363336\")\n",
    "ax2 = fig.add_subplot(spec[11:, :10],facecolor=\"#363336\")\n",
    "ax3 = fig.add_subplot(spec[11:, 11:],facecolor=\"#363336\")\n",
    "\n",
    "\n",
    "ax1.scatter(x= list(dict(TV_show).keys())[-3],y=list(dict(TV_show).values())[-3],s=300, color='#F5E9F5')\n",
    "ax1.scatter(x= list(dict(Movie).keys())[-3],y=list(dict(Movie).values())[-3],s=300, color='red')\n",
    "sns.lineplot(x= list(dict(TV_show).keys())[:-2],y=list(dict(TV_show).values())[:-2],lw=5, color='#F5E9F5',ax=ax1)\n",
    "sns.lineplot(x= list(dict(Movie).keys())[:-2],y=list(dict(Movie).values())[:-2],lw=5, color='red',ax=ax1)\n",
    "ax1.text(s=\"Movie\", x=2013.5, y= 600,color='red', va=\"center\",ha=\"left\",fontsize=40)\n",
    "ax1.text(s=\"TV show\", x=2015.5, y= 400,color='#F5E9F5', va=\"center\",ha=\"left\",fontsize=40)\n",
    "ax1.set_xticks(list(range(2000,2022,2)))\n",
    "ax1.tick_params(axis='x', colors='#F5E9F5',labelsize=15) \n",
    "ax1.tick_params(axis='y', colors='#F5E9F5',labelsize=15)\n",
    "ax1.spines['bottom'].set_color('white')\n",
    "ax1.spines['left'].set_color('white')\n",
    "ax1.set_xlabel(\"\")\n",
    "ax1.set_ylabel(\"\")\n",
    "ax1.set_xlim(2000,2020)\n",
    "ax1.spines['right'].set_visible(False)\n",
    "ax1.spines['top'].set_visible(False)\n",
    "ax1.grid(True, alpha=0.4)\n",
    "ax1.text(s=\"Movie vs TV Show, Trend analysis\", x= 2000.5,y=700,color='#F5E9F5',fontsize=50)\n",
    "\n",
    "\n",
    "moive_running_time = df[df['type'] =='Movie']['duration'].apply(lambda x : x.split(\" \")[0])\n",
    "moive_running_time = pd.to_numeric(moive_running_time)\n",
    "movie_running_time = pd.DataFrame(moive_running_time)\n",
    "def make_range(x):\n",
    "    return x//15\n",
    "\n",
    "moive_running_time = moive_running_time.apply(make_range)\n",
    "moive_running_time = pd.DataFrame(moive_running_time.value_counts())\n",
    "moive_running_time['index'] = moive_running_time.reset_index()['index']*15\n",
    "\n",
    "ax2.bar(x = moive_running_time['index'], height = moive_running_time['duration'],width=13,color ='red',alpha=0.5)\n",
    "ax2.spines['right'].set_visible(False)\n",
    "ax2.spines['top'].set_visible(False)\n",
    "ax2.spines['left'].set_visible(False)\n",
    "ax2.set_xlabel(\"Moive's Running time\",  color='#F5E9F5', fontsize=30)\n",
    "ax2.tick_params(axis='x', colors='#F5E9F5',labelsize=20)\n",
    "ax2.set_ylabel(\"\")\n",
    "ax2.set_ylabel(\"\")\n",
    "ax2.grid(True, alpha=0.4,axis='y')\n",
    "ax2.tick_params(axis='y', colors='#F5E9F5',labelsize=15)\n",
    "\n",
    "\n",
    "TV_seasons = df[df['type'] =='TV Show']['duration'].apply(lambda x : x.split(\" \")[0])\n",
    "TV_seasons = pd.to_numeric(TV_seasons)\n",
    "TV_seasons = pd.DataFrame(TV_seasons.value_counts())\n",
    "ax3.bar(x = TV_seasons.index, height = TV_seasons.duration,width=0.9,color ='red',alpha=0.5)\n",
    "ax3.spines['right'].set_visible(False)\n",
    "ax3.spines['top'].set_visible(False)\n",
    "ax3.spines['left'].set_visible(False)\n",
    "ax3.set_xlabel(\"TV Show's Seasons\", color='#F5E9F5', fontsize=30)\n",
    "ax3.tick_params(axis='x', colors='#F5E9F5',labelsize=20)\n",
    "ax3.set_ylabel(\"\")\n",
    "ax3.set_ylabel(\"\")\n",
    "ax3.grid(True, alpha=0.4,axis='y')\n",
    "ax3.tick_params(axis='y', colors='#F5E9F5',labelsize=15)\n",
    "\n",
    "ax.set_xticks([])\n",
    "ax.set_yticks([])\n",
    "\n",
    "plt.show()"
   ]
  },
  {
   "cell_type": "code",
   "execution_count": null,
   "id": "ac0acf7a",
   "metadata": {},
   "outputs": [],
   "source": [
    "df[\"date_added\"] = pd.to_datetime(df['date_added'])\n",
    "df['year_added'] = df['date_added'].dt.year\n",
    "df['month_added'] = df['date_added'].dt.month\n",
    "df['month_name_added']=df['date_added'].dt.month_name()"
   ]
  },
  {
   "cell_type": "code",
   "execution_count": null,
   "id": "c9f951dd",
   "metadata": {},
   "outputs": [],
   "source": [
    "fig, ax = plt.subplots(1, 1, figsize=(12, 6))\n",
    "color = [\"#b20710\", \"#221f1f\"]\n",
    "\n",
    "for i, mtv in enumerate(df['type'].value_counts().index):\n",
    "    mtv_rel = df[df['type']==mtv]['year_added'].value_counts().sort_index()\n",
    "    ax.plot(mtv_rel.index, mtv_rel, color=color[i], label=mtv)\n",
    "    ax.fill_between(mtv_rel.index, 0, mtv_rel, color=color[i], alpha=0.9)\n",
    "    \n",
    "ax.yaxis.tick_right()\n",
    "    \n",
    "ax.axhline(y = 0, color = 'black', linewidth = 1.3, alpha = .7)\n",
    "\n",
    "\n",
    "for s in ['top', 'right','bottom','left']:\n",
    "    ax.spines[s].set_visible(False)\n",
    "\n",
    "ax.grid(False)\n",
    "\n",
    "ax.set_xlim(2008,2020)\n",
    "plt.xticks(np.arange(2008, 2021, 1))\n",
    "\n",
    "fig.text(0.13, 0.85, 'Movies & TV Shows added over time', fontsize=15, fontweight='bold', fontfamily='serif')\n",
    "\n",
    "\n",
    "fig.text(0.13,0.2,\"Movie\", fontweight=\"bold\", fontfamily='serif', fontsize=15, color='#b20710')\n",
    "fig.text(0.19,0.2,\"|\", fontweight=\"bold\", fontfamily='serif', fontsize=15, color='black')\n",
    "fig.text(0.2,0.2,\"TV Show\", fontweight=\"bold\", fontfamily='serif', fontsize=15, color='#221f1f')\n",
    "\n",
    "ax.tick_params(axis=u'both', which=u'both',length=0)\n",
    "\n",
    "plt.show()"
   ]
  },
  {
   "cell_type": "markdown",
   "id": "36f2e4ef",
   "metadata": {},
   "source": [
    "## Insight\n",
    "\n",
    "- 2019 covid 이후로 컨텐츠 제작이 줄어든 것을 확인할 수 있다."
   ]
  },
  {
   "cell_type": "code",
   "execution_count": null,
   "id": "736789f0",
   "metadata": {},
   "outputs": [],
   "source": [
    "month_order = ['January',\n",
    " 'February',\n",
    " 'March',\n",
    " 'April',\n",
    " 'May',\n",
    " 'June',\n",
    " 'July',\n",
    " 'August',\n",
    " 'September',\n",
    " 'October',\n",
    " 'November',\n",
    " 'December']\n",
    "\n",
    "df['month_name_added'] = pd.Categorical(df['month_name_added'], categories=month_order, ordered=True)"
   ]
  },
  {
   "cell_type": "code",
   "execution_count": null,
   "id": "abc01881",
   "metadata": {},
   "outputs": [],
   "source": [
    "data_sub = df.groupby('type')['month_name_added'].value_counts().unstack().fillna(0).loc[['TV Show','Movie']].cumsum(axis=0).T\n",
    "data_sub2 = data_sub\n",
    "\n",
    "data_sub2['Value'] = data_sub2['Movie'] + data_sub2['TV Show']\n",
    "data_sub2 = data_sub2.reset_index()\n",
    "\n",
    "df_polar = data_sub2.sort_values(by='month_name_added',ascending=False)\n",
    "\n",
    "\n",
    "color_map = ['#221f1f' for _ in range(12)]\n",
    "color_map[0] = color_map[11] =  '#b20710' # color highlight\n",
    "\n",
    "\n",
    "# initialize the figure\n",
    "plt.figure(figsize=(8,8))\n",
    "ax = plt.subplot(111, polar=True)\n",
    "plt.axis('off')\n",
    "\n",
    "# Constants = parameters controling the plot layout:\n",
    "upperLimit = 30\n",
    "lowerLimit = 1\n",
    "labelPadding = 30\n",
    "\n",
    "# Compute max and min in the dataset\n",
    "max = df_polar['Value'].max()\n",
    "\n",
    "# Let's compute heights: they are a conversion of each item value in those new coordinates\n",
    "# In our example, 0 in the dataset will be converted to the lowerLimit (10)\n",
    "# The maximum will be converted to the upperLimit (100)\n",
    "slope = (max - lowerLimit) / max\n",
    "heights = slope * df_polar.Value + lowerLimit\n",
    "\n",
    "# Compute the width of each bar. In total we have 2*Pi = 360°\n",
    "width = 2*np.pi / len(df_polar.index)\n",
    "\n",
    "# Compute the angle each bar is centered on:\n",
    "indexes = list(range(1, len(df_polar.index)+1))\n",
    "angles = [element * width for element in indexes]\n",
    "angles\n",
    "\n",
    "# Draw bars\n",
    "bars = ax.bar(\n",
    "    x=angles, \n",
    "    height=heights, \n",
    "    width=width, \n",
    "    bottom=lowerLimit,\n",
    "    linewidth=2, \n",
    "    edgecolor=\"white\",\n",
    "    color=color_map,alpha=0.8\n",
    ")\n",
    "\n",
    "# Add labels\n",
    "for bar, angle, height, label in zip(bars,angles, heights, df_polar[\"month_name_added\"]):\n",
    "\n",
    "    # Labels are rotated. Rotation must be specified in degrees :(\n",
    "    rotation = np.rad2deg(angle)\n",
    "\n",
    "    # Flip some labels upside down\n",
    "    alignment = \"\"\n",
    "    if angle >= np.pi/2 and angle < 3*np.pi/2:\n",
    "        alignment = \"right\"\n",
    "        rotation = rotation + 180\n",
    "    else: \n",
    "        alignment = \"left\"\n",
    "\n",
    "    # Finally add the labels\n",
    "    ax.text(\n",
    "        x=angle, \n",
    "        y=lowerLimit + bar.get_height() + labelPadding, \n",
    "        s=label, \n",
    "        ha=alignment, fontsize=10,fontfamily='serif',\n",
    "        va='center', \n",
    "        rotation=rotation, \n",
    "        rotation_mode=\"anchor\")"
   ]
  },
  {
   "cell_type": "markdown",
   "id": "6b3798c7",
   "metadata": {},
   "source": [
    "## Insight\n",
    "- 겨울인 12월과 1월에 사람들이 시청을 많이 하므로 컨텐츠가 가장 많이 추가되는 것을 확인할 수 있다."
   ]
  },
  {
   "cell_type": "code",
   "execution_count": null,
   "id": "5355bc03",
   "metadata": {},
   "outputs": [],
   "source": [
    "from collections import Counter\n",
    "\n",
    "def find_genre(df, country, c):\n",
    "    gc = Counter()\n",
    "    for genre in df[df['first_country']==country]['genre']:\n",
    "        gc += Counter(genre)\n",
    "    \n",
    "    return gc.most_common(c)\n",
    "\n",
    "def visualize(df):\n",
    "    color_map = ['#b20710', '#221f1f']\n",
    "    fig, ax = plt.subplots(1,1, figsize=(12, 6))\n",
    "    sns.barplot(data=pd.DataFrame(df, columns=['Genre','Count']),palette=color_map, x='Genre',y='Count')"
   ]
  },
  {
   "cell_type": "code",
   "execution_count": null,
   "id": "a793ba55",
   "metadata": {},
   "outputs": [],
   "source": [
    "temp=find_genre(df, 'S. Korea', 5)\n",
    "visualize(temp)"
   ]
  },
  {
   "cell_type": "code",
   "execution_count": null,
   "id": "55613a6c",
   "metadata": {},
   "outputs": [],
   "source": [
    "temp=find_genre(df, 'USA', 5)\n",
    "visualize(temp)"
   ]
  },
  {
   "cell_type": "code",
   "execution_count": null,
   "id": "7a0d20a1",
   "metadata": {},
   "outputs": [],
   "source": [
    "temp=find_genre(df, 'UK', 5)\n",
    "visualize(temp)"
   ]
  },
  {
   "cell_type": "code",
   "execution_count": null,
   "id": "c7e80efc",
   "metadata": {},
   "outputs": [],
   "source": [
    "temp=find_genre(df, 'Japan', 5)\n",
    "visualize(temp)"
   ]
  },
  {
   "cell_type": "code",
   "execution_count": null,
   "id": "b7c8ebca",
   "metadata": {},
   "outputs": [],
   "source": [
    "temp=find_genre(df, 'India', 5)\n",
    "visualize(temp)"
   ]
  },
  {
   "cell_type": "code",
   "execution_count": null,
   "id": "36f910ce",
   "metadata": {},
   "outputs": [],
   "source": []
  }
 ],
 "metadata": {
  "kernelspec": {
   "display_name": "Python 3",
   "language": "python",
   "name": "python3"
  },
  "language_info": {
   "codemirror_mode": {
    "name": "ipython",
    "version": 3
   },
   "file_extension": ".py",
   "mimetype": "text/x-python",
   "name": "python",
   "nbconvert_exporter": "python",
   "pygments_lexer": "ipython3",
   "version": "3.8.8"
  }
 },
 "nbformat": 4,
 "nbformat_minor": 5
}
