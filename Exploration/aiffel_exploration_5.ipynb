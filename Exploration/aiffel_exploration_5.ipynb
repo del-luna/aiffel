{
 "cells": [
  {
   "cell_type": "code",
   "execution_count": 1,
   "id": "1ee96bcb",
   "metadata": {},
   "outputs": [],
   "source": [
    "import pandas as pd #Analysis \n",
    "import matplotlib.pyplot as plt #Visulization\n",
    "import seaborn as sns #Visulization\n",
    "import numpy as np #Analysis \n",
    "from scipy.stats import norm #Analysis \n",
    "from sklearn.preprocessing import StandardScaler #Analysis \n",
    "from scipy import stats #Analysis \n",
    "import warnings \n",
    "warnings.filterwarnings('ignore')\n",
    "%matplotlib inline\n",
    "import gc"
   ]
  },
  {
   "cell_type": "code",
   "execution_count": 2,
   "id": "888a6ef6",
   "metadata": {},
   "outputs": [],
   "source": [
    "df_train = pd.read_csv('./data/train.csv')\n",
    "df_test  = pd.read_csv('./data/test.csv')"
   ]
  },
  {
   "cell_type": "code",
   "execution_count": 3,
   "id": "d23fcfcd",
   "metadata": {},
   "outputs": [
    {
     "name": "stdout",
     "output_type": "stream",
     "text": [
      "train.csv. Shape:  (15035, 21)\n",
      "test.csv. Shape:  (6468, 20)\n"
     ]
    }
   ],
   "source": [
    "print(\"train.csv. Shape: \",df_train.shape)\n",
    "print(\"test.csv. Shape: \",df_test.shape)"
   ]
  },
  {
   "cell_type": "code",
   "execution_count": 4,
   "id": "c007d2f1",
   "metadata": {},
   "outputs": [
    {
     "data": {
      "text/html": [
       "<div>\n",
       "<style scoped>\n",
       "    .dataframe tbody tr th:only-of-type {\n",
       "        vertical-align: middle;\n",
       "    }\n",
       "\n",
       "    .dataframe tbody tr th {\n",
       "        vertical-align: top;\n",
       "    }\n",
       "\n",
       "    .dataframe thead th {\n",
       "        text-align: right;\n",
       "    }\n",
       "</style>\n",
       "<table border=\"1\" class=\"dataframe\">\n",
       "  <thead>\n",
       "    <tr style=\"text-align: right;\">\n",
       "      <th></th>\n",
       "      <th>id</th>\n",
       "      <th>date</th>\n",
       "      <th>price</th>\n",
       "      <th>bedrooms</th>\n",
       "      <th>bathrooms</th>\n",
       "      <th>sqft_living</th>\n",
       "      <th>sqft_lot</th>\n",
       "      <th>floors</th>\n",
       "      <th>waterfront</th>\n",
       "      <th>view</th>\n",
       "      <th>...</th>\n",
       "      <th>grade</th>\n",
       "      <th>sqft_above</th>\n",
       "      <th>sqft_basement</th>\n",
       "      <th>yr_built</th>\n",
       "      <th>yr_renovated</th>\n",
       "      <th>zipcode</th>\n",
       "      <th>lat</th>\n",
       "      <th>long</th>\n",
       "      <th>sqft_living15</th>\n",
       "      <th>sqft_lot15</th>\n",
       "    </tr>\n",
       "  </thead>\n",
       "  <tbody>\n",
       "    <tr>\n",
       "      <th>0</th>\n",
       "      <td>0</td>\n",
       "      <td>20141013T000000</td>\n",
       "      <td>221900.0</td>\n",
       "      <td>3</td>\n",
       "      <td>1.00</td>\n",
       "      <td>1180</td>\n",
       "      <td>5650</td>\n",
       "      <td>1.0</td>\n",
       "      <td>0</td>\n",
       "      <td>0</td>\n",
       "      <td>...</td>\n",
       "      <td>7</td>\n",
       "      <td>1180</td>\n",
       "      <td>0</td>\n",
       "      <td>1955</td>\n",
       "      <td>0</td>\n",
       "      <td>98178</td>\n",
       "      <td>47.5112</td>\n",
       "      <td>-122.257</td>\n",
       "      <td>1340</td>\n",
       "      <td>5650</td>\n",
       "    </tr>\n",
       "    <tr>\n",
       "      <th>1</th>\n",
       "      <td>1</td>\n",
       "      <td>20150225T000000</td>\n",
       "      <td>180000.0</td>\n",
       "      <td>2</td>\n",
       "      <td>1.00</td>\n",
       "      <td>770</td>\n",
       "      <td>10000</td>\n",
       "      <td>1.0</td>\n",
       "      <td>0</td>\n",
       "      <td>0</td>\n",
       "      <td>...</td>\n",
       "      <td>6</td>\n",
       "      <td>770</td>\n",
       "      <td>0</td>\n",
       "      <td>1933</td>\n",
       "      <td>0</td>\n",
       "      <td>98028</td>\n",
       "      <td>47.7379</td>\n",
       "      <td>-122.233</td>\n",
       "      <td>2720</td>\n",
       "      <td>8062</td>\n",
       "    </tr>\n",
       "    <tr>\n",
       "      <th>2</th>\n",
       "      <td>2</td>\n",
       "      <td>20150218T000000</td>\n",
       "      <td>510000.0</td>\n",
       "      <td>3</td>\n",
       "      <td>2.00</td>\n",
       "      <td>1680</td>\n",
       "      <td>8080</td>\n",
       "      <td>1.0</td>\n",
       "      <td>0</td>\n",
       "      <td>0</td>\n",
       "      <td>...</td>\n",
       "      <td>8</td>\n",
       "      <td>1680</td>\n",
       "      <td>0</td>\n",
       "      <td>1987</td>\n",
       "      <td>0</td>\n",
       "      <td>98074</td>\n",
       "      <td>47.6168</td>\n",
       "      <td>-122.045</td>\n",
       "      <td>1800</td>\n",
       "      <td>7503</td>\n",
       "    </tr>\n",
       "    <tr>\n",
       "      <th>3</th>\n",
       "      <td>3</td>\n",
       "      <td>20140627T000000</td>\n",
       "      <td>257500.0</td>\n",
       "      <td>3</td>\n",
       "      <td>2.25</td>\n",
       "      <td>1715</td>\n",
       "      <td>6819</td>\n",
       "      <td>2.0</td>\n",
       "      <td>0</td>\n",
       "      <td>0</td>\n",
       "      <td>...</td>\n",
       "      <td>7</td>\n",
       "      <td>1715</td>\n",
       "      <td>0</td>\n",
       "      <td>1995</td>\n",
       "      <td>0</td>\n",
       "      <td>98003</td>\n",
       "      <td>47.3097</td>\n",
       "      <td>-122.327</td>\n",
       "      <td>2238</td>\n",
       "      <td>6819</td>\n",
       "    </tr>\n",
       "    <tr>\n",
       "      <th>4</th>\n",
       "      <td>4</td>\n",
       "      <td>20150115T000000</td>\n",
       "      <td>291850.0</td>\n",
       "      <td>3</td>\n",
       "      <td>1.50</td>\n",
       "      <td>1060</td>\n",
       "      <td>9711</td>\n",
       "      <td>1.0</td>\n",
       "      <td>0</td>\n",
       "      <td>0</td>\n",
       "      <td>...</td>\n",
       "      <td>7</td>\n",
       "      <td>1060</td>\n",
       "      <td>0</td>\n",
       "      <td>1963</td>\n",
       "      <td>0</td>\n",
       "      <td>98198</td>\n",
       "      <td>47.4095</td>\n",
       "      <td>-122.315</td>\n",
       "      <td>1650</td>\n",
       "      <td>9711</td>\n",
       "    </tr>\n",
       "  </tbody>\n",
       "</table>\n",
       "<p>5 rows × 21 columns</p>\n",
       "</div>"
      ],
      "text/plain": [
       "   id             date     price  bedrooms  bathrooms  sqft_living  sqft_lot  \\\n",
       "0   0  20141013T000000  221900.0         3       1.00         1180      5650   \n",
       "1   1  20150225T000000  180000.0         2       1.00          770     10000   \n",
       "2   2  20150218T000000  510000.0         3       2.00         1680      8080   \n",
       "3   3  20140627T000000  257500.0         3       2.25         1715      6819   \n",
       "4   4  20150115T000000  291850.0         3       1.50         1060      9711   \n",
       "\n",
       "   floors  waterfront  view  ...  grade  sqft_above  sqft_basement  yr_built  \\\n",
       "0     1.0           0     0  ...      7        1180              0      1955   \n",
       "1     1.0           0     0  ...      6         770              0      1933   \n",
       "2     1.0           0     0  ...      8        1680              0      1987   \n",
       "3     2.0           0     0  ...      7        1715              0      1995   \n",
       "4     1.0           0     0  ...      7        1060              0      1963   \n",
       "\n",
       "   yr_renovated  zipcode      lat     long  sqft_living15  sqft_lot15  \n",
       "0             0    98178  47.5112 -122.257           1340        5650  \n",
       "1             0    98028  47.7379 -122.233           2720        8062  \n",
       "2             0    98074  47.6168 -122.045           1800        7503  \n",
       "3             0    98003  47.3097 -122.327           2238        6819  \n",
       "4             0    98198  47.4095 -122.315           1650        9711  \n",
       "\n",
       "[5 rows x 21 columns]"
      ]
     },
     "execution_count": 4,
     "metadata": {},
     "output_type": "execute_result"
    }
   ],
   "source": [
    "df_train.head()"
   ]
  },
  {
   "cell_type": "code",
   "execution_count": 5,
   "id": "7f08dd5a",
   "metadata": {},
   "outputs": [
    {
     "data": {
      "text/plain": [
       "<AxesSubplot:xlabel='price', ylabel='Density'>"
      ]
     },
     "execution_count": 5,
     "metadata": {},
     "output_type": "execute_result"
    },
    {
     "data": {
      "image/png": "[encoded data removed]",
      "text/plain": [
       "<Figure size 576x432 with 1 Axes>"
      ]
     },
     "metadata": {
      "needs_background": "light"
     },
     "output_type": "display_data"
    }
   ],
   "source": [
    "f, ax = plt.subplots(figsize=(8, 6))\n",
    "sns.distplot(df_train['price'])"
   ]
  },
  {
   "cell_type": "code",
   "execution_count": 6,
   "id": "98839f8f",
   "metadata": {},
   "outputs": [
    {
     "data": {
      "image/png": "[encoded data removed]",
      "text/plain": [
       "<Figure size 1080x720 with 2 Axes>"
      ]
     },
     "metadata": {
      "needs_background": "light"
     },
     "output_type": "display_data"
    }
   ],
   "source": [
    "fig = plt.figure(figsize = (15,10))\n",
    "\n",
    "fig.add_subplot(1,2,1)\n",
    "res = stats.probplot(df_train['price'], plot=plt)\n",
    "\n",
    "fig.add_subplot(1,2,2)\n",
    "res = stats.probplot(np.log1p(df_train['price']), plot=plt)"
   ]
  },
  {
   "cell_type": "code",
   "execution_count": 7,
   "id": "52ae26a6",
   "metadata": {},
   "outputs": [
    {
     "data": {
      "text/plain": [
       "<AxesSubplot:xlabel='price', ylabel='Density'>"
      ]
     },
     "execution_count": 7,
     "metadata": {},
     "output_type": "execute_result"
    },
    {
     "data": {
      "image/png": "[encoded data removed]",
      "text/plain": [
       "<Figure size 576x432 with 1 Axes>"
      ]
     },
     "metadata": {
      "needs_background": "light"
     },
     "output_type": "display_data"
    }
   ],
   "source": [
    "df_train['price'] = np.log1p(df_train['price'])\n",
    "#histogram\n",
    "f, ax = plt.subplots(figsize=(8, 6))\n",
    "sns.distplot(df_train['price'])"
   ]
  },
  {
   "cell_type": "code",
   "execution_count": 8,
   "id": "a251eb3d",
   "metadata": {},
   "outputs": [
    {
     "name": "stdout",
     "output_type": "stream",
     "text": [
      "['price' 'grade' 'sqft_living' 'sqft_living15' 'sqft_above' 'bathrooms'\n",
      " 'lat' 'bedrooms' 'floors' 'view']\n"
     ]
    },
    {
     "data": {
      "text/plain": [
       "<AxesSubplot:>"
      ]
     },
     "execution_count": 8,
     "metadata": {},
     "output_type": "execute_result"
    },
    {
     "data": {
      "image/png": "[encoded data removed]",
      "text/plain": [
       "<Figure size 720x720 with 2 Axes>"
      ]
     },
     "metadata": {
      "needs_background": "light"
     },
     "output_type": "display_data"
    }
   ],
   "source": [
    "import scipy as sp\n",
    "\n",
    "cor_abs = abs(df_train.corr(method='spearman')) \n",
    "cor_cols = cor_abs.nlargest(n=10, columns='price').index # price과 correlation이 높은 column 10개 뽑기(내림차순)\n",
    "# spearman coefficient matrix\n",
    "cor = np.array(sp.stats.spearmanr(df_train[cor_cols].values))[0] # 10 x 10\n",
    "print(cor_cols.values)\n",
    "plt.figure(figsize=(10,10))\n",
    "sns.set(font_scale=1.25)\n",
    "sns.heatmap(cor, fmt='.2f', annot=True, square=True , annot_kws={'size' : 8} ,xticklabels=cor_cols.values, yticklabels=cor_cols.values)"
   ]
  },
  {
   "cell_type": "markdown",
   "id": "4e0fcf48",
   "metadata": {},
   "source": [
    "## Outlier"
   ]
  },
  {
   "cell_type": "code",
   "execution_count": 9,
   "id": "ec0ed5ce",
   "metadata": {},
   "outputs": [
    {
     "data": {
      "image/png": "[encoded data removed]",
      "text/plain": [
       "<Figure size 576x432 with 1 Axes>"
      ]
     },
     "metadata": {},
     "output_type": "display_data"
    }
   ],
   "source": [
    "data = pd.concat([df_train['price'], df_train['sqft_living']], axis=1)\n",
    "f, ax = plt.subplots(figsize=(8, 6))\n",
    "fig = sns.regplot(x='sqft_living', y=\"price\", data=data)"
   ]
  },
  {
   "cell_type": "code",
   "execution_count": 10,
   "id": "8aab38db",
   "metadata": {},
   "outputs": [
    {
     "data": {
      "text/html": [
       "<div>\n",
       "<style scoped>\n",
       "    .dataframe tbody tr th:only-of-type {\n",
       "        vertical-align: middle;\n",
       "    }\n",
       "\n",
       "    .dataframe tbody tr th {\n",
       "        vertical-align: top;\n",
       "    }\n",
       "\n",
       "    .dataframe thead th {\n",
       "        text-align: right;\n",
       "    }\n",
       "</style>\n",
       "<table border=\"1\" class=\"dataframe\">\n",
       "  <thead>\n",
       "    <tr style=\"text-align: right;\">\n",
       "      <th></th>\n",
       "      <th>id</th>\n",
       "      <th>date</th>\n",
       "      <th>price</th>\n",
       "      <th>bedrooms</th>\n",
       "      <th>bathrooms</th>\n",
       "      <th>sqft_living</th>\n",
       "      <th>sqft_lot</th>\n",
       "      <th>floors</th>\n",
       "      <th>waterfront</th>\n",
       "      <th>view</th>\n",
       "      <th>...</th>\n",
       "      <th>grade</th>\n",
       "      <th>sqft_above</th>\n",
       "      <th>sqft_basement</th>\n",
       "      <th>yr_built</th>\n",
       "      <th>yr_renovated</th>\n",
       "      <th>zipcode</th>\n",
       "      <th>lat</th>\n",
       "      <th>long</th>\n",
       "      <th>sqft_living15</th>\n",
       "      <th>sqft_lot15</th>\n",
       "    </tr>\n",
       "  </thead>\n",
       "  <tbody>\n",
       "    <tr>\n",
       "      <th>8912</th>\n",
       "      <td>8912</td>\n",
       "      <td>20140505T000000</td>\n",
       "      <td>14.639686</td>\n",
       "      <td>7</td>\n",
       "      <td>8.0</td>\n",
       "      <td>13540</td>\n",
       "      <td>307752</td>\n",
       "      <td>3.0</td>\n",
       "      <td>0</td>\n",
       "      <td>4</td>\n",
       "      <td>...</td>\n",
       "      <td>12</td>\n",
       "      <td>9410</td>\n",
       "      <td>4130</td>\n",
       "      <td>1999</td>\n",
       "      <td>0</td>\n",
       "      <td>98053</td>\n",
       "      <td>47.6675</td>\n",
       "      <td>-121.986</td>\n",
       "      <td>4850</td>\n",
       "      <td>217800</td>\n",
       "    </tr>\n",
       "  </tbody>\n",
       "</table>\n",
       "<p>1 rows × 21 columns</p>\n",
       "</div>"
      ],
      "text/plain": [
       "        id             date      price  bedrooms  bathrooms  sqft_living  \\\n",
       "8912  8912  20140505T000000  14.639686         7        8.0        13540   \n",
       "\n",
       "      sqft_lot  floors  waterfront  view  ...  grade  sqft_above  \\\n",
       "8912    307752     3.0           0     4  ...     12        9410   \n",
       "\n",
       "      sqft_basement  yr_built  yr_renovated  zipcode      lat     long  \\\n",
       "8912           4130      1999             0    98053  47.6675 -121.986   \n",
       "\n",
       "      sqft_living15  sqft_lot15  \n",
       "8912           4850      217800  \n",
       "\n",
       "[1 rows x 21 columns]"
      ]
     },
     "execution_count": 10,
     "metadata": {},
     "output_type": "execute_result"
    }
   ],
   "source": [
    "df_train.loc[df_train['sqft_living'] > 13000]"
   ]
  },
  {
   "cell_type": "code",
   "execution_count": 11,
   "id": "bfc3acb2",
   "metadata": {},
   "outputs": [],
   "source": [
    "df_train = df_train.loc[df_train['id']!=8990]"
   ]
  },
  {
   "cell_type": "markdown",
   "id": "c5c9e1a4",
   "metadata": {},
   "source": [
    "## grade"
   ]
  },
  {
   "cell_type": "code",
   "execution_count": 12,
   "id": "49041be4",
   "metadata": {},
   "outputs": [
    {
     "data": {
      "image/png": "[encoded data removed]",
      "text/plain": [
       "<Figure size 576x432 with 1 Axes>"
      ]
     },
     "metadata": {},
     "output_type": "display_data"
    }
   ],
   "source": [
    "data = pd.concat([df_train['price'], df_train['grade']], axis=1)\n",
    "f, ax = plt.subplots(figsize=(8, 6))\n",
    "fig = sns.boxplot(x='grade', y=\"price\", data=data)"
   ]
  },
  {
   "cell_type": "code",
   "execution_count": 13,
   "id": "40c93078",
   "metadata": {},
   "outputs": [
    {
     "data": {
      "text/html": [
       "<div>\n",
       "<style scoped>\n",
       "    .dataframe tbody tr th:only-of-type {\n",
       "        vertical-align: middle;\n",
       "    }\n",
       "\n",
       "    .dataframe tbody tr th {\n",
       "        vertical-align: top;\n",
       "    }\n",
       "\n",
       "    .dataframe thead th {\n",
       "        text-align: right;\n",
       "    }\n",
       "</style>\n",
       "<table border=\"1\" class=\"dataframe\">\n",
       "  <thead>\n",
       "    <tr style=\"text-align: right;\">\n",
       "      <th></th>\n",
       "      <th>id</th>\n",
       "      <th>date</th>\n",
       "      <th>price</th>\n",
       "      <th>bedrooms</th>\n",
       "      <th>bathrooms</th>\n",
       "      <th>sqft_living</th>\n",
       "      <th>sqft_lot</th>\n",
       "      <th>floors</th>\n",
       "      <th>waterfront</th>\n",
       "      <th>view</th>\n",
       "      <th>...</th>\n",
       "      <th>grade</th>\n",
       "      <th>sqft_above</th>\n",
       "      <th>sqft_basement</th>\n",
       "      <th>yr_built</th>\n",
       "      <th>yr_renovated</th>\n",
       "      <th>zipcode</th>\n",
       "      <th>lat</th>\n",
       "      <th>long</th>\n",
       "      <th>sqft_living15</th>\n",
       "      <th>sqft_lot15</th>\n",
       "    </tr>\n",
       "  </thead>\n",
       "  <tbody>\n",
       "    <tr>\n",
       "      <th>2302</th>\n",
       "      <td>2302</td>\n",
       "      <td>20150225T000000</td>\n",
       "      <td>12.476104</td>\n",
       "      <td>1</td>\n",
       "      <td>0.75</td>\n",
       "      <td>520</td>\n",
       "      <td>12981</td>\n",
       "      <td>1.0</td>\n",
       "      <td>0</td>\n",
       "      <td>0</td>\n",
       "      <td>...</td>\n",
       "      <td>3</td>\n",
       "      <td>520</td>\n",
       "      <td>0</td>\n",
       "      <td>1920</td>\n",
       "      <td>0</td>\n",
       "      <td>98022</td>\n",
       "      <td>47.2082</td>\n",
       "      <td>-121.995</td>\n",
       "      <td>1340</td>\n",
       "      <td>12233</td>\n",
       "    </tr>\n",
       "    <tr>\n",
       "      <th>4123</th>\n",
       "      <td>4123</td>\n",
       "      <td>20141104T000000</td>\n",
       "      <td>12.542548</td>\n",
       "      <td>1</td>\n",
       "      <td>0.00</td>\n",
       "      <td>600</td>\n",
       "      <td>24501</td>\n",
       "      <td>1.0</td>\n",
       "      <td>0</td>\n",
       "      <td>0</td>\n",
       "      <td>...</td>\n",
       "      <td>3</td>\n",
       "      <td>600</td>\n",
       "      <td>0</td>\n",
       "      <td>1950</td>\n",
       "      <td>0</td>\n",
       "      <td>98045</td>\n",
       "      <td>47.5316</td>\n",
       "      <td>-121.749</td>\n",
       "      <td>990</td>\n",
       "      <td>22549</td>\n",
       "    </tr>\n",
       "  </tbody>\n",
       "</table>\n",
       "<p>2 rows × 21 columns</p>\n",
       "</div>"
      ],
      "text/plain": [
       "        id             date      price  bedrooms  bathrooms  sqft_living  \\\n",
       "2302  2302  20150225T000000  12.476104         1       0.75          520   \n",
       "4123  4123  20141104T000000  12.542548         1       0.00          600   \n",
       "\n",
       "      sqft_lot  floors  waterfront  view  ...  grade  sqft_above  \\\n",
       "2302     12981     1.0           0     0  ...      3         520   \n",
       "4123     24501     1.0           0     0  ...      3         600   \n",
       "\n",
       "      sqft_basement  yr_built  yr_renovated  zipcode      lat     long  \\\n",
       "2302              0      1920             0    98022  47.2082 -121.995   \n",
       "4123              0      1950             0    98045  47.5316 -121.749   \n",
       "\n",
       "      sqft_living15  sqft_lot15  \n",
       "2302           1340       12233  \n",
       "4123            990       22549  \n",
       "\n",
       "[2 rows x 21 columns]"
      ]
     },
     "execution_count": 13,
     "metadata": {},
     "output_type": "execute_result"
    }
   ],
   "source": [
    "df_train.loc[(df_train['price']>12) & (df_train['grade'] == 3)]"
   ]
  },
  {
   "cell_type": "code",
   "execution_count": 14,
   "id": "f05c6be6",
   "metadata": {},
   "outputs": [
    {
     "data": {
      "text/html": [
       "<div>\n",
       "<style scoped>\n",
       "    .dataframe tbody tr th:only-of-type {\n",
       "        vertical-align: middle;\n",
       "    }\n",
       "\n",
       "    .dataframe tbody tr th {\n",
       "        vertical-align: top;\n",
       "    }\n",
       "\n",
       "    .dataframe thead th {\n",
       "        text-align: right;\n",
       "    }\n",
       "</style>\n",
       "<table border=\"1\" class=\"dataframe\">\n",
       "  <thead>\n",
       "    <tr style=\"text-align: right;\">\n",
       "      <th></th>\n",
       "      <th>id</th>\n",
       "      <th>date</th>\n",
       "      <th>price</th>\n",
       "      <th>bedrooms</th>\n",
       "      <th>bathrooms</th>\n",
       "      <th>sqft_living</th>\n",
       "      <th>sqft_lot</th>\n",
       "      <th>floors</th>\n",
       "      <th>waterfront</th>\n",
       "      <th>view</th>\n",
       "      <th>...</th>\n",
       "      <th>grade</th>\n",
       "      <th>sqft_above</th>\n",
       "      <th>sqft_basement</th>\n",
       "      <th>yr_built</th>\n",
       "      <th>yr_renovated</th>\n",
       "      <th>zipcode</th>\n",
       "      <th>lat</th>\n",
       "      <th>long</th>\n",
       "      <th>sqft_living15</th>\n",
       "      <th>sqft_lot15</th>\n",
       "    </tr>\n",
       "  </thead>\n",
       "  <tbody>\n",
       "    <tr>\n",
       "      <th>7173</th>\n",
       "      <td>7173</td>\n",
       "      <td>20140813T000000</td>\n",
       "      <td>14.808763</td>\n",
       "      <td>5</td>\n",
       "      <td>4.0</td>\n",
       "      <td>4230</td>\n",
       "      <td>27295</td>\n",
       "      <td>2.0</td>\n",
       "      <td>1</td>\n",
       "      <td>4</td>\n",
       "      <td>...</td>\n",
       "      <td>8</td>\n",
       "      <td>3230</td>\n",
       "      <td>1000</td>\n",
       "      <td>1949</td>\n",
       "      <td>1985</td>\n",
       "      <td>98033</td>\n",
       "      <td>47.6803</td>\n",
       "      <td>-122.214</td>\n",
       "      <td>2660</td>\n",
       "      <td>27295</td>\n",
       "    </tr>\n",
       "  </tbody>\n",
       "</table>\n",
       "<p>1 rows × 21 columns</p>\n",
       "</div>"
      ],
      "text/plain": [
       "        id             date      price  bedrooms  bathrooms  sqft_living  \\\n",
       "7173  7173  20140813T000000  14.808763         5        4.0         4230   \n",
       "\n",
       "      sqft_lot  floors  waterfront  view  ...  grade  sqft_above  \\\n",
       "7173     27295     2.0           1     4  ...      8        3230   \n",
       "\n",
       "      sqft_basement  yr_built  yr_renovated  zipcode      lat     long  \\\n",
       "7173           1000      1949          1985    98033  47.6803 -122.214   \n",
       "\n",
       "      sqft_living15  sqft_lot15  \n",
       "7173           2660       27295  \n",
       "\n",
       "[1 rows x 21 columns]"
      ]
     },
     "execution_count": 14,
     "metadata": {},
     "output_type": "execute_result"
    }
   ],
   "source": [
    "df_train.loc[(df_train['price']>14.7) & (df_train['grade'] == 8)]"
   ]
  },
  {
   "cell_type": "code",
   "execution_count": 15,
   "id": "144c1d6a",
   "metadata": {},
   "outputs": [
    {
     "data": {
      "text/html": [
       "<div>\n",
       "<style scoped>\n",
       "    .dataframe tbody tr th:only-of-type {\n",
       "        vertical-align: middle;\n",
       "    }\n",
       "\n",
       "    .dataframe tbody tr th {\n",
       "        vertical-align: top;\n",
       "    }\n",
       "\n",
       "    .dataframe thead th {\n",
       "        text-align: right;\n",
       "    }\n",
       "</style>\n",
       "<table border=\"1\" class=\"dataframe\">\n",
       "  <thead>\n",
       "    <tr style=\"text-align: right;\">\n",
       "      <th></th>\n",
       "      <th>id</th>\n",
       "      <th>date</th>\n",
       "      <th>price</th>\n",
       "      <th>bedrooms</th>\n",
       "      <th>bathrooms</th>\n",
       "      <th>sqft_living</th>\n",
       "      <th>sqft_lot</th>\n",
       "      <th>floors</th>\n",
       "      <th>waterfront</th>\n",
       "      <th>view</th>\n",
       "      <th>...</th>\n",
       "      <th>grade</th>\n",
       "      <th>sqft_above</th>\n",
       "      <th>sqft_basement</th>\n",
       "      <th>yr_built</th>\n",
       "      <th>yr_renovated</th>\n",
       "      <th>zipcode</th>\n",
       "      <th>lat</th>\n",
       "      <th>long</th>\n",
       "      <th>sqft_living15</th>\n",
       "      <th>sqft_lot15</th>\n",
       "    </tr>\n",
       "  </thead>\n",
       "  <tbody>\n",
       "    <tr>\n",
       "      <th>2775</th>\n",
       "      <td>2775</td>\n",
       "      <td>20140611T000000</td>\n",
       "      <td>15.77031</td>\n",
       "      <td>5</td>\n",
       "      <td>4.5</td>\n",
       "      <td>10040</td>\n",
       "      <td>37325</td>\n",
       "      <td>2.0</td>\n",
       "      <td>1</td>\n",
       "      <td>2</td>\n",
       "      <td>...</td>\n",
       "      <td>11</td>\n",
       "      <td>7680</td>\n",
       "      <td>2360</td>\n",
       "      <td>1940</td>\n",
       "      <td>2001</td>\n",
       "      <td>98004</td>\n",
       "      <td>47.65</td>\n",
       "      <td>-122.214</td>\n",
       "      <td>3930</td>\n",
       "      <td>25449</td>\n",
       "    </tr>\n",
       "  </tbody>\n",
       "</table>\n",
       "<p>1 rows × 21 columns</p>\n",
       "</div>"
      ],
      "text/plain": [
       "        id             date     price  bedrooms  bathrooms  sqft_living  \\\n",
       "2775  2775  20140611T000000  15.77031         5        4.5        10040   \n",
       "\n",
       "      sqft_lot  floors  waterfront  view  ...  grade  sqft_above  \\\n",
       "2775     37325     2.0           1     2  ...     11        7680   \n",
       "\n",
       "      sqft_basement  yr_built  yr_renovated  zipcode    lat     long  \\\n",
       "2775           2360      1940          2001    98004  47.65 -122.214   \n",
       "\n",
       "      sqft_living15  sqft_lot15  \n",
       "2775           3930       25449  \n",
       "\n",
       "[1 rows x 21 columns]"
      ]
     },
     "execution_count": 15,
     "metadata": {},
     "output_type": "execute_result"
    }
   ],
   "source": [
    "df_train.loc[(df_train['price']>15.5) & (df_train['grade'] == 11)]"
   ]
  },
  {
   "cell_type": "code",
   "execution_count": 16,
   "id": "443daae7",
   "metadata": {},
   "outputs": [],
   "source": [
    "df_train = df_train.loc[df_train['id']!=456]\n",
    "df_train = df_train.loc[df_train['id']!=2302]\n",
    "df_train = df_train.loc[df_train['id']!=4123]\n",
    "df_train = df_train.loc[df_train['id']!=7259]\n",
    "df_train = df_train.loc[df_train['id']!=2777]"
   ]
  },
  {
   "cell_type": "markdown",
   "id": "7754c707",
   "metadata": {},
   "source": [
    "## bedrooms"
   ]
  },
  {
   "cell_type": "code",
   "execution_count": 17,
   "id": "806d369b",
   "metadata": {},
   "outputs": [
    {
     "data": {
      "image/png": "[encoded data removed]",
      "text/plain": [
       "<Figure size 576x432 with 1 Axes>"
      ]
     },
     "metadata": {},
     "output_type": "display_data"
    }
   ],
   "source": [
    "data = pd.concat([df_train['price'], df_train['bedrooms']], axis=1)\n",
    "f, ax = plt.subplots(figsize=(8, 6))\n",
    "fig = sns.boxplot(x='bedrooms', y=\"price\", data=data)"
   ]
  },
  {
   "cell_type": "markdown",
   "id": "8cb8c41d",
   "metadata": {},
   "source": [
    "## Normalization"
   ]
  },
  {
   "cell_type": "code",
   "execution_count": 18,
   "id": "7d6ba3e5",
   "metadata": {},
   "outputs": [],
   "source": [
    "skew_columns = ['sqft_living', 'sqft_lot', 'sqft_above', 'sqft_basement']\n",
    "\n",
    "for c in skew_columns:\n",
    "    df_train[c] = np.log1p(df_train[c].values)\n",
    "    df_test[c] = np.log1p(df_test[c].values)"
   ]
  },
  {
   "cell_type": "markdown",
   "id": "6b76309d",
   "metadata": {},
   "source": [
    "## Variable modify"
   ]
  },
  {
   "cell_type": "code",
   "execution_count": 19,
   "id": "ec42975f",
   "metadata": {},
   "outputs": [],
   "source": [
    "for df in [df_train,df_test]:\n",
    "    df['date'] = df['date'].apply(lambda x: x[0:8])\n",
    "    df['yr_renovated'] = df['yr_renovated'].apply(lambda x: np.nan if x == 0 else x)\n",
    "    df['yr_renovated'] = df['yr_renovated'].fillna(df['yr_built'])"
   ]
  },
  {
   "cell_type": "markdown",
   "id": "1b28f226",
   "metadata": {},
   "source": [
    "## Create Variable"
   ]
  },
  {
   "cell_type": "code",
   "execution_count": 20,
   "id": "d21d2aa7",
   "metadata": {},
   "outputs": [
    {
     "data": {
      "text/html": [
       "<div>\n",
       "<style scoped>\n",
       "    .dataframe tbody tr th:only-of-type {\n",
       "        vertical-align: middle;\n",
       "    }\n",
       "\n",
       "    .dataframe tbody tr th {\n",
       "        vertical-align: top;\n",
       "    }\n",
       "\n",
       "    .dataframe thead th {\n",
       "        text-align: right;\n",
       "    }\n",
       "</style>\n",
       "<table border=\"1\" class=\"dataframe\">\n",
       "  <thead>\n",
       "    <tr style=\"text-align: right;\">\n",
       "      <th></th>\n",
       "      <th>id</th>\n",
       "      <th>date</th>\n",
       "      <th>price</th>\n",
       "      <th>bedrooms</th>\n",
       "      <th>bathrooms</th>\n",
       "      <th>sqft_living</th>\n",
       "      <th>sqft_lot</th>\n",
       "      <th>floors</th>\n",
       "      <th>waterfront</th>\n",
       "      <th>view</th>\n",
       "      <th>...</th>\n",
       "      <th>grade</th>\n",
       "      <th>sqft_above</th>\n",
       "      <th>sqft_basement</th>\n",
       "      <th>yr_built</th>\n",
       "      <th>yr_renovated</th>\n",
       "      <th>zipcode</th>\n",
       "      <th>lat</th>\n",
       "      <th>long</th>\n",
       "      <th>sqft_living15</th>\n",
       "      <th>sqft_lot15</th>\n",
       "    </tr>\n",
       "  </thead>\n",
       "  <tbody>\n",
       "    <tr>\n",
       "      <th>0</th>\n",
       "      <td>0</td>\n",
       "      <td>20141013</td>\n",
       "      <td>12.309987</td>\n",
       "      <td>3</td>\n",
       "      <td>1.00</td>\n",
       "      <td>7.074117</td>\n",
       "      <td>8.639588</td>\n",
       "      <td>1.0</td>\n",
       "      <td>0</td>\n",
       "      <td>0</td>\n",
       "      <td>...</td>\n",
       "      <td>7</td>\n",
       "      <td>7.074117</td>\n",
       "      <td>0.0</td>\n",
       "      <td>1955</td>\n",
       "      <td>1955.0</td>\n",
       "      <td>98178</td>\n",
       "      <td>47.5112</td>\n",
       "      <td>-122.257</td>\n",
       "      <td>1340</td>\n",
       "      <td>5650</td>\n",
       "    </tr>\n",
       "    <tr>\n",
       "      <th>1</th>\n",
       "      <td>1</td>\n",
       "      <td>20150225</td>\n",
       "      <td>12.100718</td>\n",
       "      <td>2</td>\n",
       "      <td>1.00</td>\n",
       "      <td>6.647688</td>\n",
       "      <td>9.210440</td>\n",
       "      <td>1.0</td>\n",
       "      <td>0</td>\n",
       "      <td>0</td>\n",
       "      <td>...</td>\n",
       "      <td>6</td>\n",
       "      <td>6.647688</td>\n",
       "      <td>0.0</td>\n",
       "      <td>1933</td>\n",
       "      <td>1933.0</td>\n",
       "      <td>98028</td>\n",
       "      <td>47.7379</td>\n",
       "      <td>-122.233</td>\n",
       "      <td>2720</td>\n",
       "      <td>8062</td>\n",
       "    </tr>\n",
       "    <tr>\n",
       "      <th>2</th>\n",
       "      <td>2</td>\n",
       "      <td>20150218</td>\n",
       "      <td>13.142168</td>\n",
       "      <td>3</td>\n",
       "      <td>2.00</td>\n",
       "      <td>7.427144</td>\n",
       "      <td>8.997271</td>\n",
       "      <td>1.0</td>\n",
       "      <td>0</td>\n",
       "      <td>0</td>\n",
       "      <td>...</td>\n",
       "      <td>8</td>\n",
       "      <td>7.427144</td>\n",
       "      <td>0.0</td>\n",
       "      <td>1987</td>\n",
       "      <td>1987.0</td>\n",
       "      <td>98074</td>\n",
       "      <td>47.6168</td>\n",
       "      <td>-122.045</td>\n",
       "      <td>1800</td>\n",
       "      <td>7503</td>\n",
       "    </tr>\n",
       "    <tr>\n",
       "      <th>3</th>\n",
       "      <td>3</td>\n",
       "      <td>20140627</td>\n",
       "      <td>12.458779</td>\n",
       "      <td>3</td>\n",
       "      <td>2.25</td>\n",
       "      <td>7.447751</td>\n",
       "      <td>8.827615</td>\n",
       "      <td>2.0</td>\n",
       "      <td>0</td>\n",
       "      <td>0</td>\n",
       "      <td>...</td>\n",
       "      <td>7</td>\n",
       "      <td>7.447751</td>\n",
       "      <td>0.0</td>\n",
       "      <td>1995</td>\n",
       "      <td>1995.0</td>\n",
       "      <td>98003</td>\n",
       "      <td>47.3097</td>\n",
       "      <td>-122.327</td>\n",
       "      <td>2238</td>\n",
       "      <td>6819</td>\n",
       "    </tr>\n",
       "    <tr>\n",
       "      <th>4</th>\n",
       "      <td>4</td>\n",
       "      <td>20150115</td>\n",
       "      <td>12.583999</td>\n",
       "      <td>3</td>\n",
       "      <td>1.50</td>\n",
       "      <td>6.966967</td>\n",
       "      <td>9.181118</td>\n",
       "      <td>1.0</td>\n",
       "      <td>0</td>\n",
       "      <td>0</td>\n",
       "      <td>...</td>\n",
       "      <td>7</td>\n",
       "      <td>6.966967</td>\n",
       "      <td>0.0</td>\n",
       "      <td>1963</td>\n",
       "      <td>1963.0</td>\n",
       "      <td>98198</td>\n",
       "      <td>47.4095</td>\n",
       "      <td>-122.315</td>\n",
       "      <td>1650</td>\n",
       "      <td>9711</td>\n",
       "    </tr>\n",
       "  </tbody>\n",
       "</table>\n",
       "<p>5 rows × 21 columns</p>\n",
       "</div>"
      ],
      "text/plain": [
       "   id      date      price  bedrooms  bathrooms  sqft_living  sqft_lot  \\\n",
       "0   0  20141013  12.309987         3       1.00     7.074117  8.639588   \n",
       "1   1  20150225  12.100718         2       1.00     6.647688  9.210440   \n",
       "2   2  20150218  13.142168         3       2.00     7.427144  8.997271   \n",
       "3   3  20140627  12.458779         3       2.25     7.447751  8.827615   \n",
       "4   4  20150115  12.583999         3       1.50     6.966967  9.181118   \n",
       "\n",
       "   floors  waterfront  view  ...  grade  sqft_above  sqft_basement  yr_built  \\\n",
       "0     1.0           0     0  ...      7    7.074117            0.0      1955   \n",
       "1     1.0           0     0  ...      6    6.647688            0.0      1933   \n",
       "2     1.0           0     0  ...      8    7.427144            0.0      1987   \n",
       "3     2.0           0     0  ...      7    7.447751            0.0      1995   \n",
       "4     1.0           0     0  ...      7    6.966967            0.0      1963   \n",
       "\n",
       "   yr_renovated  zipcode      lat     long  sqft_living15  sqft_lot15  \n",
       "0        1955.0    98178  47.5112 -122.257           1340        5650  \n",
       "1        1933.0    98028  47.7379 -122.233           2720        8062  \n",
       "2        1987.0    98074  47.6168 -122.045           1800        7503  \n",
       "3        1995.0    98003  47.3097 -122.327           2238        6819  \n",
       "4        1963.0    98198  47.4095 -122.315           1650        9711  \n",
       "\n",
       "[5 rows x 21 columns]"
      ]
     },
     "execution_count": 20,
     "metadata": {},
     "output_type": "execute_result"
    }
   ],
   "source": [
    "df_train.head()"
   ]
  },
  {
   "cell_type": "code",
   "execution_count": 21,
   "id": "6c894b61",
   "metadata": {},
   "outputs": [],
   "source": [
    "for df in [df_train,df_test]:\n",
    "    # 방의 전체 갯수 \n",
    "    df['total_rooms'] = df['bedrooms'] + df['bathrooms']\n",
    "    \n",
    "    # 거실의 비율 \n",
    "    df['sqft_ratio'] = df['sqft_living'] / df['sqft_lot']\n",
    "    \n",
    "    df['sqft_total_size'] = df['sqft_above'] + df['sqft_basement']\n",
    "    \n",
    "    # 면적 대비 거실의 비율 \n",
    "    df['sqft_ratio_1'] = df['sqft_living'] / df['sqft_total_size']\n",
    "    \n",
    "    df['sqft_ratio15'] = df['sqft_living15'] / df['sqft_lot15'] \n",
    "    \n",
    "    # 재건축 여부 \n",
    "    df['is_renovated'] = df['yr_renovated'] - df['yr_built']\n",
    "    df['is_renovated'] = df['is_renovated'].apply(lambda x: 0 if x == 0 else 1)\n",
    "    df['date'] = df['date'].astype('int')"
   ]
  },
  {
   "cell_type": "code",
   "execution_count": 22,
   "id": "afa57f28",
   "metadata": {},
   "outputs": [],
   "source": [
    "df_train['per_price'] = df_train['price']/df_train['sqft_total_size']\n",
    "zipcode_price = df_train.groupby(['zipcode'])['per_price'].agg({'mean','var'}).reset_index()\n",
    "df_train = pd.merge(df_train,zipcode_price,how='left',on='zipcode')\n",
    "df_test = pd.merge(df_test,zipcode_price,how='left',on='zipcode')\n",
    "\n",
    "for df in [df_train,df_test]:\n",
    "    df['zipcode_mean'] = df['mean'] * df['sqft_total_size']\n",
    "    df['zipcode_var'] = df['var'] * df['sqft_total_size']\n",
    "    del df['mean']; del df['var']"
   ]
  },
  {
   "cell_type": "markdown",
   "id": "0f4230e0",
   "metadata": {},
   "source": [
    "## LigthGBM"
   ]
  },
  {
   "cell_type": "code",
   "execution_count": 24,
   "id": "a8b94726",
   "metadata": {},
   "outputs": [
    {
     "name": "stdout",
     "output_type": "stream",
     "text": [
      "[LightGBM] [Warning] min_data_in_leaf is set=30, min_child_samples=20 will be ignored. Current value: min_data_in_leaf=30\n",
      "Training until validation scores don't improve for 100 rounds\n",
      "[500]\ttraining's rmse: 0.140092\tvalid_1's rmse: 0.156519\n",
      "[1000]\ttraining's rmse: 0.121221\tvalid_1's rmse: 0.153075\n",
      "[1500]\ttraining's rmse: 0.108602\tvalid_1's rmse: 0.152351\n",
      "Early stopping, best iteration is:\n",
      "[1505]\ttraining's rmse: 0.108489\tvalid_1's rmse: 0.152332\n",
      "[LightGBM] [Warning] min_data_in_leaf is set=30, min_child_samples=20 will be ignored. Current value: min_data_in_leaf=30\n",
      "Training until validation scores don't improve for 100 rounds\n",
      "[500]\ttraining's rmse: 0.139304\tvalid_1's rmse: 0.159886\n",
      "[1000]\ttraining's rmse: 0.120849\tvalid_1's rmse: 0.155975\n",
      "[1500]\ttraining's rmse: 0.108283\tvalid_1's rmse: 0.154827\n",
      "[2000]\ttraining's rmse: 0.0982398\tvalid_1's rmse: 0.154545\n",
      "Early stopping, best iteration is:\n",
      "[2130]\ttraining's rmse: 0.0959464\tvalid_1's rmse: 0.154486\n",
      "[LightGBM] [Warning] min_data_in_leaf is set=30, min_child_samples=20 will be ignored. Current value: min_data_in_leaf=30\n",
      "Training until validation scores don't improve for 100 rounds\n",
      "[500]\ttraining's rmse: 0.1399\tvalid_1's rmse: 0.162581\n",
      "[1000]\ttraining's rmse: 0.121196\tvalid_1's rmse: 0.158786\n",
      "[1500]\ttraining's rmse: 0.108567\tvalid_1's rmse: 0.157936\n",
      "Early stopping, best iteration is:\n",
      "[1809]\ttraining's rmse: 0.102182\tvalid_1's rmse: 0.157726\n",
      "[LightGBM] [Warning] min_data_in_leaf is set=30, min_child_samples=20 will be ignored. Current value: min_data_in_leaf=30\n",
      "Training until validation scores don't improve for 100 rounds\n",
      "[500]\ttraining's rmse: 0.138782\tvalid_1's rmse: 0.165126\n",
      "[1000]\ttraining's rmse: 0.120185\tvalid_1's rmse: 0.16157\n",
      "[1500]\ttraining's rmse: 0.107363\tvalid_1's rmse: 0.160296\n",
      "[2000]\ttraining's rmse: 0.0973663\tvalid_1's rmse: 0.159973\n",
      "Early stopping, best iteration is:\n",
      "[1960]\ttraining's rmse: 0.0980725\tvalid_1's rmse: 0.159955\n",
      "[LightGBM] [Warning] min_data_in_leaf is set=30, min_child_samples=20 will be ignored. Current value: min_data_in_leaf=30\n",
      "Training until validation scores don't improve for 100 rounds\n",
      "[500]\ttraining's rmse: 0.137296\tvalid_1's rmse: 0.170395\n",
      "[1000]\ttraining's rmse: 0.119015\tvalid_1's rmse: 0.166673\n",
      "[1500]\ttraining's rmse: 0.106879\tvalid_1's rmse: 0.165572\n",
      "[2000]\ttraining's rmse: 0.0970732\tvalid_1's rmse: 0.165218\n",
      "Early stopping, best iteration is:\n",
      "[2180]\ttraining's rmse: 0.0939945\tvalid_1's rmse: 0.1651\n",
      "0.1579817919742375\n"
     ]
    }
   ],
   "source": [
    "import lightgbm as lgb\n",
    "from sklearn.metrics import mean_squared_error\n",
    "from sklearn.linear_model import LinearRegression\n",
    "from sklearn.model_selection import KFold, cross_val_score\n",
    "from sklearn.model_selection import cross_val_predict\n",
    "from sklearn.preprocessing import RobustScaler\n",
    "from sklearn.pipeline import make_pipeline\n",
    "\n",
    "from sklearn.linear_model import RidgeCV\n",
    "\n",
    "param = {'num_leaves': 31,\n",
    "         'min_data_in_leaf': 30, \n",
    "         'objective':'regression',\n",
    "         'max_depth': -1,\n",
    "         'learning_rate': 0.015,\n",
    "         \"min_child_samples\": 20,\n",
    "         \"boosting\": \"gbdt\",\n",
    "         \"feature_fraction\": 0.9,\n",
    "         \"bagging_freq\": 1,\n",
    "         \"bagging_fraction\": 0.9 ,\n",
    "         \"bagging_seed\": 11,\n",
    "         \"metric\": 'rmse',\n",
    "         \"lambda_l1\": 0.1,\n",
    "         \"verbosity\": -1,\n",
    "         \"nthread\": 4,\n",
    "         \"random_state\": 4950}\n",
    "\n",
    "y_reg = df_train['price']\n",
    "\n",
    "#prepare fit model with cross-validation\n",
    "folds = KFold(n_splits=5, shuffle=True, random_state=42)\n",
    "oof = np.zeros(len(df_train))\n",
    "predictions = np.zeros(len(df_test))\n",
    "feature_importance_df = pd.DataFrame()\n",
    "train_columns = [c for c in df_train.columns if c not in ['id','price','per_price']]\n",
    "#run model\n",
    "for fold_, (trn_idx, val_idx) in enumerate(folds.split(df_train)):\n",
    "    trn_data = lgb.Dataset(df_train.iloc[trn_idx][train_columns], label=y_reg.iloc[trn_idx])#, categorical_feature=categorical_feats)\n",
    "    val_data = lgb.Dataset(df_train.iloc[val_idx][train_columns], label=y_reg.iloc[val_idx])#, categorical_feature=categorical_feats)\n",
    "\n",
    "    num_round = 10000\n",
    "    clf = lgb.train(param, trn_data, num_round, valid_sets = [trn_data, val_data], verbose_eval=500, early_stopping_rounds = 100)\n",
    "    oof[val_idx] = clf.predict(df_train.iloc[val_idx][train_columns], num_iteration=clf.best_iteration)\n",
    "    #feature importance\n",
    "    fold_importance_df = pd.DataFrame()\n",
    "    fold_importance_df[\"Feature\"] = train_columns\n",
    "    fold_importance_df[\"importance\"] = clf.feature_importance()\n",
    "    fold_importance_df[\"fold\"] = fold_ + 1\n",
    "    feature_importance_df = pd.concat([feature_importance_df, fold_importance_df], axis=0)\n",
    "    #predictions\n",
    "    predictions += clf.predict(df_test[train_columns], num_iteration=clf.best_iteration) / folds.n_splits\n",
    "    \n",
    "cv = np.sqrt(mean_squared_error(oof, y_reg))\n",
    "print(cv)"
   ]
  },
  {
   "cell_type": "code",
   "execution_count": 25,
   "id": "6b96f9fb",
   "metadata": {},
   "outputs": [
    {
     "name": "stdout",
     "output_type": "stream",
     "text": [
      "115960.42942127095\n"
     ]
    }
   ],
   "source": [
    "cv1 = np.sqrt(mean_squared_error(np.expm1(oof), np.expm1(y_reg)))\n",
    "print(cv1)"
   ]
  },
  {
   "cell_type": "markdown",
   "id": "68e8732f",
   "metadata": {},
   "source": [
    "## Ensemble"
   ]
  },
  {
   "cell_type": "code",
   "execution_count": 26,
   "id": "c074f207",
   "metadata": {},
   "outputs": [
    {
     "name": "stdout",
     "output_type": "stream",
     "text": [
      "115960.42942127095\n"
     ]
    }
   ],
   "source": [
    "lgb1_oof = pd.DataFrame()\n",
    "lgb1_oof['id'] = df_train.id\n",
    "lgb1_oof['price'] = oof\n",
    "\n",
    "lgb1_sub = pd.DataFrame()\n",
    "lgb1_sub['id'] = df_test.id\n",
    "lgb1_sub['price'] = predictions\n",
    "\n",
    "cv1 = np.sqrt(mean_squared_error(np.expm1(oof), np.expm1(y_reg)))\n",
    "print(cv1)"
   ]
  },
  {
   "cell_type": "code",
   "execution_count": 27,
   "id": "0ce5972f",
   "metadata": {},
   "outputs": [
    {
     "name": "stdout",
     "output_type": "stream",
     "text": [
      "[LightGBM] [Warning] min_data_in_leaf is set=30, min_child_samples=20 will be ignored. Current value: min_data_in_leaf=30\n",
      "Training until validation scores don't improve for 100 rounds\n",
      "[500]\ttraining's rmse: 135526\tvalid_1's rmse: 134961\n",
      "[1000]\ttraining's rmse: 110615\tvalid_1's rmse: 123725\n",
      "[1500]\ttraining's rmse: 99530.7\tvalid_1's rmse: 121525\n",
      "[2000]\ttraining's rmse: 91409.6\tvalid_1's rmse: 121040\n",
      "Early stopping, best iteration is:\n",
      "[2067]\ttraining's rmse: 90494.9\tvalid_1's rmse: 120880\n",
      "[LightGBM] [Warning] min_data_in_leaf is set=30, min_child_samples=20 will be ignored. Current value: min_data_in_leaf=30\n",
      "Training until validation scores don't improve for 100 rounds\n",
      "[500]\ttraining's rmse: 135171\tvalid_1's rmse: 134731\n",
      "[1000]\ttraining's rmse: 110537\tvalid_1's rmse: 117358\n",
      "[1500]\ttraining's rmse: 100159\tvalid_1's rmse: 114319\n",
      "Early stopping, best iteration is:\n",
      "[1845]\ttraining's rmse: 94511.6\tvalid_1's rmse: 113898\n",
      "[LightGBM] [Warning] min_data_in_leaf is set=30, min_child_samples=20 will be ignored. Current value: min_data_in_leaf=30\n",
      "Training until validation scores don't improve for 100 rounds\n",
      "[500]\ttraining's rmse: 134080\tvalid_1's rmse: 142891\n",
      "[1000]\ttraining's rmse: 109917\tvalid_1's rmse: 125104\n",
      "[1500]\ttraining's rmse: 99404.8\tvalid_1's rmse: 120986\n",
      "[2000]\ttraining's rmse: 92025.5\tvalid_1's rmse: 119565\n",
      "[2500]\ttraining's rmse: 86206.9\tvalid_1's rmse: 119071\n",
      "Early stopping, best iteration is:\n",
      "[2456]\ttraining's rmse: 86662.9\tvalid_1's rmse: 119048\n",
      "[LightGBM] [Warning] min_data_in_leaf is set=30, min_child_samples=20 will be ignored. Current value: min_data_in_leaf=30\n",
      "Training until validation scores don't improve for 100 rounds\n",
      "[500]\ttraining's rmse: 128380\tvalid_1's rmse: 174546\n",
      "[1000]\ttraining's rmse: 104295\tvalid_1's rmse: 154249\n",
      "[1500]\ttraining's rmse: 94848.1\tvalid_1's rmse: 150223\n",
      "[2000]\ttraining's rmse: 88077.4\tvalid_1's rmse: 147852\n",
      "[2500]\ttraining's rmse: 82833.3\tvalid_1's rmse: 146281\n",
      "[3000]\ttraining's rmse: 78504.4\tvalid_1's rmse: 145212\n",
      "[3500]\ttraining's rmse: 74781.1\tvalid_1's rmse: 144493\n",
      "[4000]\ttraining's rmse: 71477.8\tvalid_1's rmse: 143930\n",
      "[4500]\ttraining's rmse: 68506\tvalid_1's rmse: 143515\n",
      "[5000]\ttraining's rmse: 65810.3\tvalid_1's rmse: 143179\n",
      "Early stopping, best iteration is:\n",
      "[5074]\ttraining's rmse: 65429.5\tvalid_1's rmse: 143125\n",
      "[LightGBM] [Warning] min_data_in_leaf is set=30, min_child_samples=20 will be ignored. Current value: min_data_in_leaf=30\n",
      "Training until validation scores don't improve for 100 rounds\n",
      "[500]\ttraining's rmse: 130048\tvalid_1's rmse: 152549\n",
      "[1000]\ttraining's rmse: 104973\tvalid_1's rmse: 136884\n",
      "[1500]\ttraining's rmse: 94855.6\tvalid_1's rmse: 132179\n",
      "[2000]\ttraining's rmse: 87222\tvalid_1's rmse: 129927\n",
      "[2500]\ttraining's rmse: 81191.4\tvalid_1's rmse: 128826\n",
      "[3000]\ttraining's rmse: 76302.1\tvalid_1's rmse: 127945\n",
      "[3500]\ttraining's rmse: 72152.5\tvalid_1's rmse: 127384\n",
      "[4000]\ttraining's rmse: 68657.4\tvalid_1's rmse: 126918\n",
      "[4500]\ttraining's rmse: 65518.5\tvalid_1's rmse: 126604\n",
      "[5000]\ttraining's rmse: 62739.2\tvalid_1's rmse: 126417\n",
      "[5500]\ttraining's rmse: 60252.4\tvalid_1's rmse: 126159\n",
      "Early stopping, best iteration is:\n",
      "[5821]\ttraining's rmse: 58742.2\tvalid_1's rmse: 126012\n",
      "124996.83409814813\n"
     ]
    }
   ],
   "source": [
    "import lightgbm as lgb\n",
    "from sklearn.metrics import mean_squared_error\n",
    "from sklearn.linear_model import LinearRegression\n",
    "from sklearn.model_selection import KFold, cross_val_score\n",
    "from sklearn.model_selection import cross_val_predict\n",
    "from sklearn.preprocessing import RobustScaler\n",
    "from sklearn.pipeline import make_pipeline\n",
    "\n",
    "from sklearn.linear_model import RidgeCV\n",
    "\n",
    "param = {'num_leaves': 31,\n",
    "         'min_data_in_leaf': 30, \n",
    "         'objective':'regression',\n",
    "         'max_depth': -1,\n",
    "         'learning_rate': 0.005,\n",
    "         \"min_child_samples\": 20,\n",
    "         \"boosting\": \"gbdt\",\n",
    "         \"feature_fraction\": 0.9,\n",
    "         \"bagging_freq\": 1,\n",
    "         \"bagging_fraction\": 0.9 ,\n",
    "         \"bagging_seed\": 11,\n",
    "         \"metric\": 'rmse',\n",
    "         \"lambda_l1\": 0.1,\n",
    "         \"verbosity\": -1,\n",
    "         \"nthread\": 4,\n",
    "         \"random_state\": 4950}\n",
    "\n",
    "y_reg = np.expm1(df_train['price'])\n",
    "\n",
    "#prepare fit model with cross-validation\n",
    "folds = KFold(n_splits=5, shuffle=True, random_state=42)\n",
    "oof = np.zeros(len(df_train))\n",
    "predictions = np.zeros(len(df_test))\n",
    "feature_importance_df = pd.DataFrame()\n",
    "\n",
    "#run model\n",
    "for fold_, (trn_idx, val_idx) in enumerate(folds.split(df_train)):\n",
    "    trn_data = lgb.Dataset(df_train.iloc[trn_idx][train_columns], label=y_reg.iloc[trn_idx])#, categorical_feature=categorical_feats)\n",
    "    val_data = lgb.Dataset(df_train.iloc[val_idx][train_columns], label=y_reg.iloc[val_idx])#, categorical_feature=categorical_feats)\n",
    "\n",
    "    num_round = 10000\n",
    "    clf = lgb.train(param, trn_data, num_round, valid_sets = [trn_data, val_data], verbose_eval=500, early_stopping_rounds = 100)\n",
    "    oof[val_idx] = clf.predict(df_train.iloc[val_idx][train_columns], num_iteration=clf.best_iteration)\n",
    "    #feature importance\n",
    "    fold_importance_df = pd.DataFrame()\n",
    "    fold_importance_df[\"Feature\"] = train_columns\n",
    "    fold_importance_df[\"importance\"] = clf.feature_importance()\n",
    "    fold_importance_df[\"fold\"] = fold_ + 1\n",
    "    feature_importance_df = pd.concat([feature_importance_df, fold_importance_df], axis=0)\n",
    "    #predictions\n",
    "    predictions += clf.predict(df_test[train_columns], num_iteration=clf.best_iteration) / folds.n_splits\n",
    "    \n",
    "cv = np.sqrt(mean_squared_error(oof, y_reg))\n",
    "print(cv)"
   ]
  },
  {
   "cell_type": "code",
   "execution_count": 28,
   "id": "b3f7cb6d",
   "metadata": {},
   "outputs": [
    {
     "name": "stdout",
     "output_type": "stream",
     "text": [
      "124996.83409814813\n"
     ]
    }
   ],
   "source": [
    "lgb2_oof = pd.DataFrame()\n",
    "lgb2_oof['id'] = df_train.id\n",
    "lgb2_oof['price'] = oof\n",
    "\n",
    "lgb2_sub = pd.DataFrame()\n",
    "lgb2_sub['id'] = df_test.id\n",
    "lgb2_sub['price'] = predictions\n",
    "\n",
    "cv2 = np.sqrt(mean_squared_error(oof, y_reg))\n",
    "print(cv2)"
   ]
  },
  {
   "cell_type": "code",
   "execution_count": 29,
   "id": "dc299659",
   "metadata": {},
   "outputs": [
    {
     "name": "stdout",
     "output_type": "stream",
     "text": [
      "Transform DMatrix...\n",
      "Start Cross Validation...\n",
      "[03:14:37] WARNING: ../src/objective/regression_obj.cu:171: reg:linear is now deprecated in favor of reg:squarederror.\n",
      "[03:14:37] WARNING: ../src/learner.cc:573: \n",
      "Parameters: { \"silent\" } might not be used.\n",
      "\n",
      "  This may not be accurate due to some parameters are only used in language bindings but\n",
      "  passed down to XGBoost core.  Or some parameters are not used but slip through this\n",
      "  verification. Please open an issue if you find above cases.\n",
      "\n",
      "\n",
      "[03:14:37] WARNING: ../src/objective/regression_obj.cu:171: reg:linear is now deprecated in favor of reg:squarederror.\n",
      "[03:14:37] WARNING: ../src/learner.cc:573: \n",
      "Parameters: { \"silent\" } might not be used.\n",
      "\n",
      "  This may not be accurate due to some parameters are only used in language bindings but\n",
      "  passed down to XGBoost core.  Or some parameters are not used but slip through this\n",
      "  verification. Please open an issue if you find above cases.\n",
      "\n",
      "\n",
      "[03:14:37] WARNING: ../src/objective/regression_obj.cu:171: reg:linear is now deprecated in favor of reg:squarederror.\n",
      "[03:14:37] WARNING: ../src/learner.cc:573: \n",
      "Parameters: { \"silent\" } might not be used.\n",
      "\n",
      "  This may not be accurate due to some parameters are only used in language bindings but\n",
      "  passed down to XGBoost core.  Or some parameters are not used but slip through this\n",
      "  verification. Please open an issue if you find above cases.\n",
      "\n",
      "\n",
      "best num_boost_rounds =  3106\n",
      "[03:16:56] WARNING: ../src/objective/regression_obj.cu:171: reg:linear is now deprecated in favor of reg:squarederror.\n",
      "[03:16:56] WARNING: ../src/learner.cc:573: \n",
      "Parameters: { \"silent\" } might not be used.\n",
      "\n",
      "  This may not be accurate due to some parameters are only used in language bindings but\n",
      "  passed down to XGBoost core.  Or some parameters are not used but slip through this\n",
      "  verification. Please open an issue if you find above cases.\n",
      "\n",
      "\n"
     ]
    }
   ],
   "source": [
    "import xgboost as xgb\n",
    "\n",
    "xgb_params = {\n",
    "    'eta': 0.01,\n",
    "    'max_depth': 6,\n",
    "    'subsample': 0.8,\n",
    "    'colsample_bytree': 0.8,\n",
    "    'objective': 'reg:linear',\n",
    "    'eval_metric': 'rmse',\n",
    "    'silent': 1\n",
    "}\n",
    "\n",
    "log_y_reg = np.log1p(y_reg)\n",
    "print('Transform DMatrix...')\n",
    "dtrain = xgb.DMatrix(df_train[train_columns], log_y_reg)\n",
    "dtest = xgb.DMatrix(df_test[train_columns])\n",
    "\n",
    "print('Start Cross Validation...')\n",
    "\n",
    "cv_output = xgb.cv(xgb_params, dtrain, num_boost_round=5000, early_stopping_rounds=50,verbose_eval=500, show_stdv=False)\n",
    "print('best num_boost_rounds = ', len(cv_output))\n",
    "rounds = len(cv_output)\n",
    "\n",
    "model = xgb.train(xgb_params, dtrain, num_boost_round = rounds)\n",
    "preds = model.predict(dtest)\n",
    "\n",
    "xgb1_sub = df_test[['id']]\n",
    "xgb1_sub['price'] = preds"
   ]
  },
  {
   "cell_type": "code",
   "execution_count": 30,
   "id": "aa46a4bc",
   "metadata": {},
   "outputs": [
    {
     "name": "stdout",
     "output_type": "stream",
     "text": [
      "Transform DMatrix...\n",
      "Start Cross Validation...\n",
      "[03:21:34] WARNING: ../src/objective/regression_obj.cu:171: reg:linear is now deprecated in favor of reg:squarederror.\n",
      "[03:21:34] WARNING: ../src/learner.cc:573: \n",
      "Parameters: { \"silent\" } might not be used.\n",
      "\n",
      "  This may not be accurate due to some parameters are only used in language bindings but\n",
      "  passed down to XGBoost core.  Or some parameters are not used but slip through this\n",
      "  verification. Please open an issue if you find above cases.\n",
      "\n",
      "\n",
      "[03:21:34] WARNING: ../src/objective/regression_obj.cu:171: reg:linear is now deprecated in favor of reg:squarederror.\n",
      "[03:21:34] WARNING: ../src/learner.cc:573: \n",
      "Parameters: { \"silent\" } might not be used.\n",
      "\n",
      "  This may not be accurate due to some parameters are only used in language bindings but\n",
      "  passed down to XGBoost core.  Or some parameters are not used but slip through this\n",
      "  verification. Please open an issue if you find above cases.\n",
      "\n",
      "\n",
      "[03:21:34] WARNING: ../src/objective/regression_obj.cu:171: reg:linear is now deprecated in favor of reg:squarederror.\n",
      "[03:21:34] WARNING: ../src/learner.cc:573: \n",
      "Parameters: { \"silent\" } might not be used.\n",
      "\n",
      "  This may not be accurate due to some parameters are only used in language bindings but\n",
      "  passed down to XGBoost core.  Or some parameters are not used but slip through this\n",
      "  verification. Please open an issue if you find above cases.\n",
      "\n",
      "\n",
      "best num_boost_rounds =  4400\n",
      "[03:24:54] WARNING: ../src/objective/regression_obj.cu:171: reg:linear is now deprecated in favor of reg:squarederror.\n",
      "[03:24:54] WARNING: ../src/learner.cc:573: \n",
      "Parameters: { \"silent\" } might not be used.\n",
      "\n",
      "  This may not be accurate due to some parameters are only used in language bindings but\n",
      "  passed down to XGBoost core.  Or some parameters are not used but slip through this\n",
      "  verification. Please open an issue if you find above cases.\n",
      "\n",
      "\n"
     ]
    }
   ],
   "source": [
    "import xgboost as xgb\n",
    "\n",
    "xgb_params = {\n",
    "    'eta': 0.01,\n",
    "    'max_depth': 6,\n",
    "    'subsample': 0.8,\n",
    "    'colsample_bytree': 0.8,\n",
    "    'objective': 'reg:linear',\n",
    "    'eval_metric': 'rmse',\n",
    "    'silent': 1\n",
    "}\n",
    "\n",
    "print('Transform DMatrix...')\n",
    "dtrain = xgb.DMatrix(df_train[train_columns], y_reg)\n",
    "dtest = xgb.DMatrix(df_test[train_columns])\n",
    "\n",
    "print('Start Cross Validation...')\n",
    "\n",
    "cv_output = xgb.cv(xgb_params, dtrain, num_boost_round=20000, early_stopping_rounds=50,verbose_eval=500, show_stdv=False)\n",
    "print('best num_boost_rounds = ', len(cv_output))\n",
    "rounds = len(cv_output)\n",
    "\n",
    "model = xgb.train(xgb_params, dtrain, num_boost_round = rounds)\n",
    "preds = model.predict(dtest)\n",
    "\n",
    "xgb2_sub = df_test[['id']]\n",
    "xgb2_sub['price'] = preds"
   ]
  },
  {
   "cell_type": "code",
   "execution_count": 31,
   "id": "fe3bb345",
   "metadata": {},
   "outputs": [
    {
     "name": "stdout",
     "output_type": "stream",
     "text": [
      "115824.77593122724\n"
     ]
    }
   ],
   "source": [
    "lgb_oof = pd.merge(lgb1_oof,lgb2_oof,how='left',on='id')\n",
    "lgb_train = df_train[['id','price']]\n",
    "lgb_oof = pd.merge(lgb_oof,lgb_train,how='left',on='id')\n",
    "lgb_oof.columns = ['id','price1','price2','price']\n",
    "\n",
    "lgb_ensemble = (0.9*np.expm1(lgb_oof['price1']) + 0.1*lgb_oof['price2']).values\n",
    "cv = np.sqrt(mean_squared_error(lgb_ensemble, np.expm1(lgb_oof['price']).values))\n",
    "print(cv)"
   ]
  },
  {
   "cell_type": "code",
   "execution_count": 32,
   "id": "dec024f8",
   "metadata": {},
   "outputs": [],
   "source": [
    "lgb_sub = pd.merge(lgb1_sub,lgb2_sub,how='left',on='id')\n",
    "lgb_sub.columns = ['id','price1','price2']\n",
    "lgb_sub['price'] = (0.9*np.expm1(lgb_sub['price1']) + 0.1*lgb_sub['price2'])\n",
    "lgb_sub = lgb_sub[['id','price']]"
   ]
  },
  {
   "cell_type": "code",
   "execution_count": 33,
   "id": "afcae737",
   "metadata": {},
   "outputs": [],
   "source": [
    "xgb_sub = pd.merge(xgb1_sub,xgb2_sub,how='left',on='id')\n",
    "xgb_sub.columns = ['id','price1','price2']\n",
    "xgb_sub['price'] = (0.9*np.expm1(xgb_sub['price1']) + 0.1*xgb_sub['price2'])\n",
    "xgb_sub = xgb_sub[['id','price']]"
   ]
  },
  {
   "cell_type": "code",
   "execution_count": 34,
   "id": "3b1365d2",
   "metadata": {},
   "outputs": [],
   "source": [
    "ensemble_sub = pd.merge(lgb_sub,xgb_sub,how='left',on='id')\n",
    "ensemble_sub.columns = ['id','price1','price2']\n",
    "ensemble_sub['price'] = 0.9*ensemble_sub['price1'] + 0.1*ensemble_sub['price2']\n",
    "ensemble_sub = ensemble_sub[['id','price']]\n",
    "ensemble_sub.to_csv(\"submission.csv\",index=False)"
   ]
  },
  {
   "cell_type": "markdown",
   "id": "a60c651f",
   "metadata": {},
   "source": [
    "## Score\n",
    "- 108286.01371\n",
    "\n",
    "## Reference\n",
    "\n",
    "- https://www.kaggle.com/chocozzz/house-price-prediction-eda-updated-2019-03-12"
   ]
  },
  {
   "cell_type": "code",
   "execution_count": null,
   "id": "41c94fa7",
   "metadata": {},
   "outputs": [],
   "source": []
  }
 ],
 "metadata": {
  "kernelspec": {
   "display_name": "Python 3 (ipykernel)",
   "language": "python",
   "name": "python3"
  },
  "language_info": {
   "codemirror_mode": {
    "name": "ipython",
    "version": 3
   },
   "file_extension": ".py",
   "mimetype": "text/x-python",
   "name": "python",
   "nbconvert_exporter": "python",
   "pygments_lexer": "ipython3",
   "version": "3.9.7"
  }
 },
 "nbformat": 4,
 "nbformat_minor": 5
}
