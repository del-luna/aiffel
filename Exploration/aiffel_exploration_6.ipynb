{
 "cells": [
  {
   "cell_type": "code",
   "execution_count": 1,
   "id": "3f37ab76",
   "metadata": {},
   "outputs": [
    {
     "data": {
      "text/html": [
       "<div>\n",
       "<style scoped>\n",
       "    .dataframe tbody tr th:only-of-type {\n",
       "        vertical-align: middle;\n",
       "    }\n",
       "\n",
       "    .dataframe tbody tr th {\n",
       "        vertical-align: top;\n",
       "    }\n",
       "\n",
       "    .dataframe thead th {\n",
       "        text-align: right;\n",
       "    }\n",
       "</style>\n",
       "<table border=\"1\" class=\"dataframe\">\n",
       "  <thead>\n",
       "    <tr style=\"text-align: right;\">\n",
       "      <th></th>\n",
       "      <th>id</th>\n",
       "      <th>document</th>\n",
       "      <th>label</th>\n",
       "    </tr>\n",
       "  </thead>\n",
       "  <tbody>\n",
       "    <tr>\n",
       "      <th>0</th>\n",
       "      <td>9976970</td>\n",
       "      <td>아 더빙.. 진짜 짜증나네요 목소리</td>\n",
       "      <td>0</td>\n",
       "    </tr>\n",
       "    <tr>\n",
       "      <th>1</th>\n",
       "      <td>3819312</td>\n",
       "      <td>흠...포스터보고 초딩영화줄....오버연기조차 가볍지 않구나</td>\n",
       "      <td>1</td>\n",
       "    </tr>\n",
       "    <tr>\n",
       "      <th>2</th>\n",
       "      <td>10265843</td>\n",
       "      <td>너무재밓었다그래서보는것을추천한다</td>\n",
       "      <td>0</td>\n",
       "    </tr>\n",
       "    <tr>\n",
       "      <th>3</th>\n",
       "      <td>9045019</td>\n",
       "      <td>교도소 이야기구먼 ..솔직히 재미는 없다..평점 조정</td>\n",
       "      <td>0</td>\n",
       "    </tr>\n",
       "    <tr>\n",
       "      <th>4</th>\n",
       "      <td>6483659</td>\n",
       "      <td>사이몬페그의 익살스런 연기가 돋보였던 영화!스파이더맨에서 늙어보이기만 했던 커스틴 ...</td>\n",
       "      <td>1</td>\n",
       "    </tr>\n",
       "  </tbody>\n",
       "</table>\n",
       "</div>"
      ],
      "text/plain": [
       "         id                                           document  label\n",
       "0   9976970                                아 더빙.. 진짜 짜증나네요 목소리      0\n",
       "1   3819312                  흠...포스터보고 초딩영화줄....오버연기조차 가볍지 않구나      1\n",
       "2  10265843                                  너무재밓었다그래서보는것을추천한다      0\n",
       "3   9045019                      교도소 이야기구먼 ..솔직히 재미는 없다..평점 조정      0\n",
       "4   6483659  사이몬페그의 익살스런 연기가 돋보였던 영화!스파이더맨에서 늙어보이기만 했던 커스틴 ...      1"
      ]
     },
     "execution_count": 1,
     "metadata": {},
     "output_type": "execute_result"
    }
   ],
   "source": [
    "import os\n",
    "import pandas as pd\n",
    "import urllib.request\n",
    "%matplotlib inline\n",
    "import matplotlib.pyplot as plt\n",
    "import re\n",
    "import tensorflow as tf\n",
    "from konlpy.tag import Okt\n",
    "from tensorflow import keras\n",
    "from tensorflow.keras.preprocessing.text import Tokenizer\n",
    "import numpy as np\n",
    "from tensorflow.keras.preprocessing.sequence import pad_sequences\n",
    "from collections import Counter\n",
    "\n",
    "\n",
    "train_data = pd.read_table('./data/ratings_train.txt')\n",
    "test_data = pd.read_table('./data/ratings_test.txt')\n",
    "\n",
    "train_data.head()"
   ]
  },
  {
   "cell_type": "code",
   "execution_count": 2,
   "id": "65c93b3a",
   "metadata": {},
   "outputs": [],
   "source": [
    "from konlpy.tag import Mecab\n",
    "tokenizer = Mecab()\n",
    "stopwords = ['의','가','이','은','들','는','좀','잘','걍','과','도','를','으로','자','에','와','한','하다']\n",
    "\n",
    "def load_data(train_data, test_data, num_words=10000):\n",
    "    train_data.drop_duplicates(subset=['document'], inplace=True)\n",
    "    train_data = train_data.dropna(how = 'any') \n",
    "    test_data.drop_duplicates(subset=['document'], inplace=True)\n",
    "    test_data = test_data.dropna(how = 'any') \n",
    "\n",
    "    X_train = []\n",
    "    for sentence in train_data['document']:\n",
    "        temp_X = tokenizer.morphs(sentence) # 토큰화\n",
    "        temp_X = [word for word in temp_X if not word in stopwords] # 불용어 제거\n",
    "        X_train.append(temp_X)\n",
    "\n",
    "    X_test = []\n",
    "    for sentence in test_data['document']:\n",
    "        temp_X = tokenizer.morphs(sentence) # 토큰화\n",
    "        temp_X = [word for word in temp_X if not word in stopwords] # 불용어 제거\n",
    "        X_test.append(temp_X)\n",
    "\n",
    "    words = np.concatenate(X_train).tolist()\n",
    "    counter = Counter(words)\n",
    "    counter = counter.most_common(10000-4)\n",
    "    vocab = ['<PAD>', '<BOS>', '<UNK>', '<UNUSED>'] + [key for key, _ in counter]\n",
    "    word_to_index = {word:index for index, word in enumerate(vocab)}\n",
    "\n",
    "    def wordlist_to_indexlist(wordlist):\n",
    "        return [word_to_index[word] if word in word_to_index else word_to_index['<UNK>'] for word in wordlist]\n",
    "\n",
    "    X_train = list(map(wordlist_to_indexlist, X_train))\n",
    "    X_test = list(map(wordlist_to_indexlist, X_test))\n",
    "\n",
    "    return X_train, np.array(list(train_data['label'])), X_test, np.array(list(test_data['label'])), word_to_index\n",
    "    \n",
    "X_train, y_train, X_test, y_test, word_to_index = load_data(train_data, test_data)"
   ]
  },
  {
   "cell_type": "code",
   "execution_count": 3,
   "id": "3d545276",
   "metadata": {},
   "outputs": [],
   "source": [
    "index_to_word = {index:word for word, index in word_to_index.items()}"
   ]
  },
  {
   "cell_type": "code",
   "execution_count": 4,
   "id": "d8784c32",
   "metadata": {},
   "outputs": [],
   "source": [
    "# 문장 1개를 활용할 딕셔너리와 함께 주면, 단어 인덱스 리스트 벡터로 변환해 주는 함수입니다. \n",
    "# 단, 모든 문장은 <BOS>로 시작하는 것으로 합니다. \n",
    "def get_encoded_sentence(sentence, word_to_index):\n",
    "    return [word_to_index['<BOS>']]+[word_to_index[word] if word in word_to_index else word_to_index['<UNK>'] for word in sentence.split()]\n",
    "\n",
    "# 여러 개의 문장 리스트를 한꺼번에 단어 인덱스 리스트 벡터로 encode해 주는 함수입니다. \n",
    "def get_encoded_sentences(sentences, word_to_index):\n",
    "    return [get_encoded_sentence(sentence, word_to_index) for sentence in sentences]\n",
    "\n",
    "# 숫자 벡터로 encode된 문장을 원래대로 decode하는 함수입니다. \n",
    "def get_decoded_sentence(encoded_sentence, index_to_word):\n",
    "    return ' '.join(index_to_word[index] if index in index_to_word else '<UNK>' for index in encoded_sentence[1:])  #[1:]를 통해 <BOS>를 제외\n",
    "\n",
    "# 여러 개의 숫자 벡터로 encode된 문장을 한꺼번에 원래대로 decode하는 함수입니다. \n",
    "def get_decoded_sentences(encoded_sentences, index_to_word):\n",
    "    return [get_decoded_sentence(encoded_sentence, index_to_word) for encoded_sentence in encoded_sentences]"
   ]
  },
  {
   "cell_type": "code",
   "execution_count": 5,
   "id": "8a2566fc",
   "metadata": {},
   "outputs": [
    {
     "data": {
      "text/plain": [
       "'이야기 구먼 . . 솔직히 재미 없 다 . . 평점 조정'"
      ]
     },
     "execution_count": 5,
     "metadata": {},
     "output_type": "execute_result"
    }
   ],
   "source": [
    "get_decoded_sentence(X_train[3],index_to_word)"
   ]
  },
  {
   "cell_type": "code",
   "execution_count": 6,
   "id": "3c6a95d9",
   "metadata": {},
   "outputs": [
    {
     "name": "stdout",
     "output_type": "stream",
     "text": [
      "문장길이 평균 :  15.96940191154864\n",
      "문장길이 최대 :  116\n",
      "문장길이 표준편차 :  12.843571191092\n",
      "pad_sequences maxlen :  41\n",
      "전체 문장의 0.9342988343341575%가 maxlen 설정값 이내에 포함됩니다. \n"
     ]
    }
   ],
   "source": [
    "total_data_text = list(X_train) + list(X_test)\n",
    "# 텍스트데이터 문장길이의 리스트를 생성한 후\n",
    "num_tokens = [len(tokens) for tokens in total_data_text]\n",
    "num_tokens = np.array(num_tokens)\n",
    "# 문장길이의 평균값, 최대값, 표준편차를 계산해 본다. \n",
    "print('문장길이 평균 : ', np.mean(num_tokens))\n",
    "print('문장길이 최대 : ', np.max(num_tokens))\n",
    "print('문장길이 표준편차 : ', np.std(num_tokens))\n",
    "\n",
    "# 예를들어, 최대 길이를 (평균 + 2*표준편차)로 한다면,  \n",
    "max_tokens = np.mean(num_tokens) + 2 * np.std(num_tokens)\n",
    "maxlen = int(max_tokens)\n",
    "print('pad_sequences maxlen : ', maxlen)\n",
    "print('전체 문장의 {}%가 maxlen 설정값 이내에 포함됩니다. '.format(np.sum(num_tokens < max_tokens) / len(num_tokens)))"
   ]
  },
  {
   "cell_type": "code",
   "execution_count": 7,
   "id": "77b7fede",
   "metadata": {},
   "outputs": [
    {
     "name": "stdout",
     "output_type": "stream",
     "text": [
      "(146182, 41)\n"
     ]
    }
   ],
   "source": [
    "X_train = keras.preprocessing.sequence.pad_sequences(X_train,\n",
    "                                                        value=word_to_index[\"<PAD>\"],\n",
    "                                                        padding='post', # 혹은 'pre'\n",
    "                                                        maxlen=maxlen)\n",
    "\n",
    "X_test = keras.preprocessing.sequence.pad_sequences(X_test,\n",
    "                                                       value=word_to_index[\"<PAD>\"],\n",
    "                                                       padding='post', # 혹은 'pre'\n",
    "                                                       maxlen=maxlen)\n",
    "\n",
    "print(X_train.shape)"
   ]
  },
  {
   "cell_type": "code",
   "execution_count": 8,
   "id": "d1e091cf",
   "metadata": {},
   "outputs": [
    {
     "name": "stdout",
     "output_type": "stream",
     "text": [
      "(126182, 41)\n",
      "(126182,)\n",
      "(20000, 41)\n",
      "(20000,)\n"
     ]
    }
   ],
   "source": [
    "# validation set 20000건 분리\n",
    "x_val = X_train[:20000]   \n",
    "y_val = y_train[:20000]\n",
    "\n",
    "# validation set을 제외한 나머지\n",
    "partial_X_train = X_train[20000:]  \n",
    "partial_y_train = y_train[20000:]\n",
    "\n",
    "print(partial_X_train.shape)\n",
    "print(partial_y_train.shape)\n",
    "print(x_val.shape)\n",
    "print(y_val.shape)"
   ]
  },
  {
   "cell_type": "code",
   "execution_count": 9,
   "id": "57a4eec9",
   "metadata": {},
   "outputs": [],
   "source": [
    "vocab_size = len(index_to_word)\n",
    "word_vector_dim = 300"
   ]
  },
  {
   "cell_type": "markdown",
   "id": "cb062451",
   "metadata": {},
   "source": [
    "## 1-D CNN"
   ]
  },
  {
   "cell_type": "code",
   "execution_count": 10,
   "id": "7639f482",
   "metadata": {
    "scrolled": true
   },
   "outputs": [
    {
     "name": "stdout",
     "output_type": "stream",
     "text": [
      "Model: \"CNN\"\n",
      "_________________________________________________________________\n",
      "Layer (type)                 Output Shape              Param #   \n",
      "=================================================================\n",
      "embedding (Embedding)        (None, None, 300)         3000000   \n",
      "_________________________________________________________________\n",
      "conv1d (Conv1D)              (None, None, 256)         537856    \n",
      "_________________________________________________________________\n",
      "max_pooling1d (MaxPooling1D) (None, None, 256)         0         \n",
      "_________________________________________________________________\n",
      "conv1d_1 (Conv1D)            (None, None, 64)          114752    \n",
      "_________________________________________________________________\n",
      "global_max_pooling1d (Global (None, 64)                0         \n",
      "_________________________________________________________________\n",
      "dense (Dense)                (None, 8)                 520       \n",
      "_________________________________________________________________\n",
      "dense_1 (Dense)              (None, 1)                 9         \n",
      "=================================================================\n",
      "Total params: 3,653,137\n",
      "Trainable params: 3,653,137\n",
      "Non-trainable params: 0\n",
      "_________________________________________________________________\n"
     ]
    }
   ],
   "source": [
    "CNN_model = keras.Sequential(name=\"CNN\")\n",
    "CNN_model.add(keras.layers.Embedding(vocab_size, word_vector_dim, input_shape=(None,)))\n",
    "CNN_model.add(keras.layers.Conv1D(256, 7, activation='relu'))\n",
    "CNN_model.add(keras.layers.MaxPooling1D(5))\n",
    "CNN_model.add(keras.layers.Conv1D(64, 7, activation='relu'))\n",
    "CNN_model.add(keras.layers.GlobalMaxPooling1D())\n",
    "CNN_model.add(keras.layers.Dense(8, activation='relu'))\n",
    "CNN_model.add(keras.layers.Dense(1, activation='sigmoid'))\n",
    "CNN_model.summary()"
   ]
  },
  {
   "cell_type": "markdown",
   "id": "4d786595",
   "metadata": {},
   "source": [
    "## LSTM"
   ]
  },
  {
   "cell_type": "code",
   "execution_count": 11,
   "id": "fd9298e2",
   "metadata": {},
   "outputs": [
    {
     "name": "stdout",
     "output_type": "stream",
     "text": [
      "Model: \"LSTM\"\n",
      "_________________________________________________________________\n",
      "Layer (type)                 Output Shape              Param #   \n",
      "=================================================================\n",
      "embedding_1 (Embedding)      (None, None, 300)         3000000   \n",
      "_________________________________________________________________\n",
      "lstm (LSTM)                  (None, 8)                 9888      \n",
      "_________________________________________________________________\n",
      "dense_2 (Dense)              (None, 8)                 72        \n",
      "_________________________________________________________________\n",
      "dense_3 (Dense)              (None, 1)                 9         \n",
      "=================================================================\n",
      "Total params: 3,009,969\n",
      "Trainable params: 3,009,969\n",
      "Non-trainable params: 0\n",
      "_________________________________________________________________\n"
     ]
    }
   ],
   "source": [
    "LSTM_model = keras.Sequential(name=\"LSTM\")\n",
    "LSTM_model.add(keras.layers.Embedding(vocab_size, word_vector_dim, input_shape=(None,)))\n",
    "LSTM_model.add(keras.layers.LSTM(8, dropout=0.7))\n",
    "LSTM_model.add(keras.layers.Dense(8, activation='relu'))\n",
    "LSTM_model.add(keras.layers.Dense(1, activation='sigmoid'))\n",
    "\n",
    "LSTM_model.summary()"
   ]
  },
  {
   "cell_type": "markdown",
   "id": "946369ed",
   "metadata": {},
   "source": [
    "## GMP"
   ]
  },
  {
   "cell_type": "code",
   "execution_count": 12,
   "id": "ef48128a",
   "metadata": {},
   "outputs": [
    {
     "name": "stdout",
     "output_type": "stream",
     "text": [
      "Model: \"GMP\"\n",
      "_________________________________________________________________\n",
      "Layer (type)                 Output Shape              Param #   \n",
      "=================================================================\n",
      "embedding_2 (Embedding)      (None, None, 300)         3000000   \n",
      "_________________________________________________________________\n",
      "global_max_pooling1d_1 (Glob (None, 300)               0         \n",
      "_________________________________________________________________\n",
      "dense_4 (Dense)              (None, 8)                 2408      \n",
      "_________________________________________________________________\n",
      "dense_5 (Dense)              (None, 1)                 9         \n",
      "=================================================================\n",
      "Total params: 3,002,417\n",
      "Trainable params: 3,002,417\n",
      "Non-trainable params: 0\n",
      "_________________________________________________________________\n"
     ]
    }
   ],
   "source": [
    "GMP_model = keras.Sequential(name=\"GMP\")\n",
    "GMP_model.add(keras.layers.Embedding(vocab_size, word_vector_dim, input_shape=(None,)))\n",
    "GMP_model.add(keras.layers.GlobalMaxPooling1D())\n",
    "GMP_model.add(keras.layers.Dense(8, activation='relu'))\n",
    "GMP_model.add(keras.layers.Dense(1, activation='sigmoid'))\n",
    "\n",
    "GMP_model.summary()"
   ]
  },
  {
   "cell_type": "code",
   "execution_count": 13,
   "id": "b5b05ee4",
   "metadata": {},
   "outputs": [
    {
     "data": {
      "text/plain": [
       "['CNN', 'LSTM', 'GMP']"
      ]
     },
     "execution_count": 13,
     "metadata": {},
     "output_type": "execute_result"
    }
   ],
   "source": [
    "model_lst = [CNN_model.name, LSTM_model.name, GMP_model.name]\n",
    "model_lst"
   ]
  },
  {
   "cell_type": "code",
   "execution_count": 14,
   "id": "99d7517d",
   "metadata": {},
   "outputs": [
    {
     "name": "stdout",
     "output_type": "stream",
     "text": [
      "----------------------------------------\n",
      "Start fitting CNN ...\n",
      "Epoch 1/20\n",
      "247/247 [==============================] - 9s 23ms/step - loss: 0.3948 - accuracy: 0.8155 - val_loss: 0.3266 - val_accuracy: 0.8590\n",
      "Epoch 2/20\n",
      "247/247 [==============================] - 5s 21ms/step - loss: 0.2739 - accuracy: 0.8867 - val_loss: 0.3177 - val_accuracy: 0.8644\n",
      "Epoch 3/20\n",
      "247/247 [==============================] - 5s 21ms/step - loss: 0.1790 - accuracy: 0.9315 - val_loss: 0.3754 - val_accuracy: 0.8547\n",
      "Epoch 4/20\n",
      "247/247 [==============================] - 5s 21ms/step - loss: 0.0960 - accuracy: 0.9659 - val_loss: 0.4618 - val_accuracy: 0.8528\n",
      "Epoch 5/20\n",
      "247/247 [==============================] - 5s 21ms/step - loss: 0.0538 - accuracy: 0.9818 - val_loss: 0.6006 - val_accuracy: 0.8512\n",
      "Epoch 6/20\n",
      "247/247 [==============================] - 5s 22ms/step - loss: 0.0396 - accuracy: 0.9860 - val_loss: 0.7007 - val_accuracy: 0.8450\n",
      "Epoch 7/20\n",
      "247/247 [==============================] - 5s 22ms/step - loss: 0.0324 - accuracy: 0.9885 - val_loss: 0.7761 - val_accuracy: 0.8468\n",
      "Epoch 8/20\n",
      "247/247 [==============================] - 5s 22ms/step - loss: 0.0339 - accuracy: 0.9877 - val_loss: 0.7731 - val_accuracy: 0.8461\n",
      "Epoch 9/20\n",
      "247/247 [==============================] - 6s 22ms/step - loss: 0.0235 - accuracy: 0.9916 - val_loss: 0.8917 - val_accuracy: 0.8426\n",
      "Epoch 10/20\n",
      "247/247 [==============================] - 6s 23ms/step - loss: 0.0215 - accuracy: 0.9920 - val_loss: 0.8966 - val_accuracy: 0.8447\n",
      "Epoch 11/20\n",
      "247/247 [==============================] - 6s 23ms/step - loss: 0.0185 - accuracy: 0.9930 - val_loss: 1.0046 - val_accuracy: 0.8440\n",
      "Epoch 12/20\n",
      "247/247 [==============================] - 6s 23ms/step - loss: 0.0181 - accuracy: 0.9932 - val_loss: 0.9917 - val_accuracy: 0.8381\n",
      "Epoch 13/20\n",
      "247/247 [==============================] - 6s 22ms/step - loss: 0.0187 - accuracy: 0.9930 - val_loss: 0.9973 - val_accuracy: 0.8423\n",
      "Epoch 14/20\n",
      "247/247 [==============================] - 5s 22ms/step - loss: 0.0172 - accuracy: 0.9935 - val_loss: 1.0290 - val_accuracy: 0.8424\n",
      "Epoch 15/20\n",
      "247/247 [==============================] - 5s 22ms/step - loss: 0.0137 - accuracy: 0.9944 - val_loss: 1.1160 - val_accuracy: 0.8433\n",
      "Epoch 16/20\n",
      "247/247 [==============================] - 5s 22ms/step - loss: 0.0106 - accuracy: 0.9956 - val_loss: 1.2433 - val_accuracy: 0.8421\n",
      "Epoch 17/20\n",
      "247/247 [==============================] - 5s 22ms/step - loss: 0.0141 - accuracy: 0.9945 - val_loss: 1.2136 - val_accuracy: 0.8450\n",
      "Epoch 18/20\n",
      "247/247 [==============================] - 5s 22ms/step - loss: 0.0173 - accuracy: 0.9933 - val_loss: 1.0371 - val_accuracy: 0.8444\n",
      "Epoch 19/20\n",
      "247/247 [==============================] - 5s 22ms/step - loss: 0.0116 - accuracy: 0.9955 - val_loss: 1.1380 - val_accuracy: 0.8408\n",
      "Epoch 20/20\n",
      "247/247 [==============================] - 5s 22ms/step - loss: 0.0097 - accuracy: 0.9960 - val_loss: 1.2522 - val_accuracy: 0.8408\n",
      "Start evaluating CNN ...\n",
      "1537/1537 - 3s - loss: 1.2901 - accuracy: 0.8382\n",
      "----------------------------------------\n",
      "Start fitting LSTM ...\n",
      "Epoch 1/20\n",
      "247/247 [==============================] - 4s 10ms/step - loss: 0.5830 - accuracy: 0.6534 - val_loss: 0.3975 - val_accuracy: 0.8236\n",
      "Epoch 2/20\n",
      "247/247 [==============================] - 2s 8ms/step - loss: 0.3712 - accuracy: 0.8416 - val_loss: 0.3511 - val_accuracy: 0.8503\n",
      "Epoch 3/20\n",
      "247/247 [==============================] - 2s 8ms/step - loss: 0.3269 - accuracy: 0.8622 - val_loss: 0.3401 - val_accuracy: 0.8533\n",
      "Epoch 4/20\n",
      "247/247 [==============================] - 2s 8ms/step - loss: 0.3083 - accuracy: 0.8703 - val_loss: 0.3394 - val_accuracy: 0.8551\n",
      "Epoch 5/20\n",
      "247/247 [==============================] - 2s 9ms/step - loss: 0.2918 - accuracy: 0.8782 - val_loss: 0.3377 - val_accuracy: 0.8557\n",
      "Epoch 6/20\n",
      "247/247 [==============================] - 2s 8ms/step - loss: 0.2795 - accuracy: 0.8831 - val_loss: 0.3392 - val_accuracy: 0.8571\n",
      "Epoch 7/20\n",
      "247/247 [==============================] - 2s 8ms/step - loss: 0.2651 - accuracy: 0.8892 - val_loss: 0.3449 - val_accuracy: 0.8592\n",
      "Epoch 8/20\n",
      "247/247 [==============================] - 2s 9ms/step - loss: 0.2531 - accuracy: 0.8951 - val_loss: 0.3402 - val_accuracy: 0.8588\n",
      "Epoch 9/20\n",
      "247/247 [==============================] - 2s 8ms/step - loss: 0.2434 - accuracy: 0.8987 - val_loss: 0.3472 - val_accuracy: 0.8575\n",
      "Epoch 10/20\n",
      "247/247 [==============================] - 2s 8ms/step - loss: 0.2344 - accuracy: 0.9029 - val_loss: 0.3655 - val_accuracy: 0.8574\n",
      "Epoch 11/20\n",
      "247/247 [==============================] - 2s 8ms/step - loss: 0.2276 - accuracy: 0.9064 - val_loss: 0.3590 - val_accuracy: 0.8565\n",
      "Epoch 12/20\n",
      "247/247 [==============================] - 2s 8ms/step - loss: 0.2196 - accuracy: 0.9103 - val_loss: 0.3773 - val_accuracy: 0.8569\n",
      "Epoch 13/20\n",
      "247/247 [==============================] - 2s 9ms/step - loss: 0.2123 - accuracy: 0.9135 - val_loss: 0.3809 - val_accuracy: 0.8584\n",
      "Epoch 14/20\n",
      "247/247 [==============================] - 2s 8ms/step - loss: 0.2065 - accuracy: 0.9159 - val_loss: 0.3785 - val_accuracy: 0.8584\n",
      "Epoch 15/20\n",
      "247/247 [==============================] - 2s 8ms/step - loss: 0.2017 - accuracy: 0.9183 - val_loss: 0.3877 - val_accuracy: 0.8579\n",
      "Epoch 16/20\n",
      "247/247 [==============================] - 2s 8ms/step - loss: 0.1967 - accuracy: 0.9203 - val_loss: 0.4033 - val_accuracy: 0.8556\n",
      "Epoch 17/20\n",
      "247/247 [==============================] - 2s 8ms/step - loss: 0.1900 - accuracy: 0.9238 - val_loss: 0.4119 - val_accuracy: 0.8547\n",
      "Epoch 18/20\n",
      "247/247 [==============================] - 2s 8ms/step - loss: 0.1865 - accuracy: 0.9249 - val_loss: 0.4229 - val_accuracy: 0.8547\n",
      "Epoch 19/20\n",
      "247/247 [==============================] - 2s 8ms/step - loss: 0.1828 - accuracy: 0.9270 - val_loss: 0.4167 - val_accuracy: 0.8539\n",
      "Epoch 20/20\n",
      "247/247 [==============================] - 2s 8ms/step - loss: 0.1777 - accuracy: 0.9297 - val_loss: 0.4223 - val_accuracy: 0.8550\n",
      "Start evaluating LSTM ...\n",
      "1537/1537 - 3s - loss: 0.4256 - accuracy: 0.8502\n",
      "----------------------------------------\n",
      "Start fitting GMP ...\n",
      "Epoch 1/20\n",
      "247/247 [==============================] - 2s 6ms/step - loss: 0.4990 - accuracy: 0.7606 - val_loss: 0.3481 - val_accuracy: 0.8469\n",
      "Epoch 2/20\n",
      "247/247 [==============================] - 1s 5ms/step - loss: 0.3118 - accuracy: 0.8698 - val_loss: 0.3334 - val_accuracy: 0.8561\n",
      "Epoch 3/20\n",
      "247/247 [==============================] - 1s 5ms/step - loss: 0.2606 - accuracy: 0.8952 - val_loss: 0.3375 - val_accuracy: 0.8569\n",
      "Epoch 4/20\n",
      "247/247 [==============================] - 1s 5ms/step - loss: 0.2138 - accuracy: 0.9183 - val_loss: 0.3563 - val_accuracy: 0.8548\n",
      "Epoch 5/20\n",
      "247/247 [==============================] - 1s 5ms/step - loss: 0.1663 - accuracy: 0.9413 - val_loss: 0.3849 - val_accuracy: 0.8537\n",
      "Epoch 6/20\n",
      "247/247 [==============================] - 1s 5ms/step - loss: 0.1195 - accuracy: 0.9625 - val_loss: 0.4194 - val_accuracy: 0.8526\n",
      "Epoch 7/20\n",
      "247/247 [==============================] - 1s 5ms/step - loss: 0.0809 - accuracy: 0.9782 - val_loss: 0.4644 - val_accuracy: 0.8483\n",
      "Epoch 8/20\n",
      "247/247 [==============================] - 1s 5ms/step - loss: 0.0545 - accuracy: 0.9865 - val_loss: 0.5037 - val_accuracy: 0.8468\n",
      "Epoch 9/20\n",
      "247/247 [==============================] - 1s 5ms/step - loss: 0.0378 - accuracy: 0.9913 - val_loss: 0.5430 - val_accuracy: 0.8448\n",
      "Epoch 10/20\n",
      "247/247 [==============================] - 1s 5ms/step - loss: 0.0278 - accuracy: 0.9933 - val_loss: 0.5777 - val_accuracy: 0.8443\n",
      "Epoch 11/20\n",
      "247/247 [==============================] - 1s 5ms/step - loss: 0.0218 - accuracy: 0.9946 - val_loss: 0.6096 - val_accuracy: 0.8456\n",
      "Epoch 12/20\n",
      "247/247 [==============================] - 1s 5ms/step - loss: 0.0175 - accuracy: 0.9953 - val_loss: 0.6347 - val_accuracy: 0.8451\n",
      "Epoch 13/20\n",
      "247/247 [==============================] - 1s 5ms/step - loss: 0.0148 - accuracy: 0.9957 - val_loss: 0.6639 - val_accuracy: 0.8443\n",
      "Epoch 14/20\n",
      "247/247 [==============================] - 1s 5ms/step - loss: 0.0124 - accuracy: 0.9961 - val_loss: 0.6899 - val_accuracy: 0.8438\n",
      "Epoch 15/20\n",
      "247/247 [==============================] - 1s 5ms/step - loss: 0.0116 - accuracy: 0.9960 - val_loss: 0.7123 - val_accuracy: 0.8432\n",
      "Epoch 16/20\n",
      "247/247 [==============================] - 1s 5ms/step - loss: 0.0104 - accuracy: 0.9964 - val_loss: 0.7431 - val_accuracy: 0.8435\n",
      "Epoch 17/20\n",
      "247/247 [==============================] - 1s 5ms/step - loss: 0.0094 - accuracy: 0.9964 - val_loss: 0.7581 - val_accuracy: 0.8406\n",
      "Epoch 18/20\n",
      "247/247 [==============================] - 1s 5ms/step - loss: 0.0084 - accuracy: 0.9967 - val_loss: 0.7715 - val_accuracy: 0.8442\n",
      "Epoch 19/20\n",
      "247/247 [==============================] - 1s 5ms/step - loss: 0.0081 - accuracy: 0.9967 - val_loss: 0.7934 - val_accuracy: 0.8415\n",
      "Epoch 20/20\n",
      "247/247 [==============================] - 1s 5ms/step - loss: 0.0076 - accuracy: 0.9968 - val_loss: 0.8138 - val_accuracy: 0.8431\n",
      "Start evaluating GMP ...\n",
      "1537/1537 - 2s - loss: 0.8210 - accuracy: 0.8417\n"
     ]
    }
   ],
   "source": [
    "model_result = {}\n",
    "\n",
    "for model_name in model_lst:\n",
    "    \n",
    "    if model_name == \"CNN\":\n",
    "        model = CNN_model\n",
    "    elif model_name == \"LSTM\":\n",
    "        model = LSTM_model\n",
    "    else :\n",
    "        model = GMP_model\n",
    "    \n",
    "    print('-'*40)\n",
    "    print(\"Start fitting {} ...\".format(model_name))\n",
    "    model.compile(optimizer='Adam',\n",
    "                  loss='binary_crossentropy',\n",
    "                  metrics=['accuracy'])\n",
    "\n",
    "    epochs=20\n",
    "\n",
    "    history = model.fit(partial_X_train,\n",
    "                        partial_y_train,\n",
    "                        epochs=epochs,\n",
    "                        batch_size=512,\n",
    "                        validation_data=(x_val, y_val),\n",
    "                        verbose=1)\n",
    "    \n",
    "    \n",
    "    print(\"Start evaluating {} ...\".format(model_name))\n",
    "    results = model.evaluate(X_test,  y_test, verbose=2)\n",
    "    model_result[model_name] = results"
   ]
  },
  {
   "cell_type": "code",
   "execution_count": 15,
   "id": "2062e1b4",
   "metadata": {},
   "outputs": [
    {
     "data": {
      "text/plain": [
       "{'CNN': [1.2901331186294556, 0.8381919264793396],\n",
       " 'LSTM': [0.4255813658237457, 0.8501739501953125],\n",
       " 'GMP': [0.8209972977638245, 0.8417112231254578]}"
      ]
     },
     "execution_count": 15,
     "metadata": {},
     "output_type": "execute_result"
    }
   ],
   "source": [
    "model_result"
   ]
  },
  {
   "cell_type": "code",
   "execution_count": 16,
   "id": "0f8aa96a",
   "metadata": {},
   "outputs": [],
   "source": [
    "word2vec_file_path = './data/ko.bin'"
   ]
  },
  {
   "cell_type": "code",
   "execution_count": 17,
   "id": "28107544",
   "metadata": {},
   "outputs": [],
   "source": [
    "from gensim.models import Word2Vec\n",
    "\n",
    "word2vec = Word2Vec.load(word2vec_file_path)"
   ]
  },
  {
   "cell_type": "code",
   "execution_count": 18,
   "id": "854512f9",
   "metadata": {},
   "outputs": [
    {
     "name": "stderr",
     "output_type": "stream",
     "text": [
      "/tmp/ipykernel_1174/503750501.py:1: DeprecationWarning: Call to deprecated `__getitem__` (Method will be removed in 4.0.0, use self.wv.__getitem__() instead).\n",
      "  v1 = word2vec['사랑']\n"
     ]
    },
    {
     "data": {
      "text/plain": [
       "array([-1.3740246 , -1.7353463 ,  3.3915305 , -2.569253  , -1.4016607 ,\n",
       "        1.4556127 ,  0.9414557 ,  1.9207907 ,  0.16471806,  0.4838317 ,\n",
       "       -0.8547181 ,  2.0879807 ,  0.86741775,  0.87539405, -0.09962013,\n",
       "        0.22928311, -1.1858722 ,  0.00858838,  1.4999928 , -0.16196461,\n",
       "       -0.35184434, -0.92390764,  1.0849575 ,  0.3025011 ,  2.7021565 ,\n",
       "       -1.0263684 ,  0.32864776, -0.76589465, -2.510981  , -0.66225356,\n",
       "        2.8434615 ,  0.50130975, -1.021874  , -1.4366034 ,  1.1110784 ,\n",
       "        0.5812605 , -0.5830406 , -0.5785423 ,  1.3634988 ,  2.3074338 ,\n",
       "       -1.4314893 ,  0.45745876,  1.1073523 , -3.2135262 , -0.2898375 ,\n",
       "       -1.1622221 ,  1.2369208 , -0.7622987 , -0.37757635,  1.1376442 ,\n",
       "        0.01065568, -0.69105595,  1.5159112 ,  1.1534518 , -1.0119992 ,\n",
       "       -0.5757404 ,  1.1349088 , -1.1289831 ,  0.13004152,  2.0451715 ,\n",
       "       -0.23940353,  1.3604902 ,  0.72700524,  0.32545742,  1.0612459 ,\n",
       "        0.42252553,  1.1442151 ,  2.8774905 ,  2.4377263 , -1.340305  ,\n",
       "        0.12629706, -0.07772489, -0.59053177, -0.19007324,  0.1396541 ,\n",
       "       -1.8655105 ,  0.9401054 ,  0.5150856 ,  0.7795373 , -0.86505556,\n",
       "        0.11842118, -1.8303713 ,  1.337177  , -1.0102932 , -0.37180334,\n",
       "        0.00893255, -0.49141577, -1.05802   , -2.5987291 ,  0.9731856 ,\n",
       "        0.34080654, -2.5973568 ,  1.0046519 , -1.3914212 , -0.6504351 ,\n",
       "       -0.9010805 , -1.1341541 ,  0.75565654,  1.2941337 ,  0.0880572 ,\n",
       "       -1.0341461 , -0.1750075 , -0.01880708, -1.0835075 , -2.0333962 ,\n",
       "        1.1372623 ,  1.0626172 , -1.8369784 , -2.2662086 , -3.382057  ,\n",
       "        1.6751666 , -0.2988223 , -0.25563756, -1.5594274 ,  0.6313433 ,\n",
       "       -1.2667153 , -1.6857744 , -1.0949599 ,  0.7742313 , -0.6095523 ,\n",
       "        3.19503   ,  0.13200459,  1.7937473 , -2.8782516 ,  1.3821276 ,\n",
       "        2.2895143 ,  0.0741943 , -0.41046414,  1.438796  ,  0.19373988,\n",
       "        1.4294034 ,  1.5025262 ,  1.4849502 ,  1.5754777 ,  2.7793512 ,\n",
       "       -0.6885003 , -0.30154693, -1.708323  ,  1.1030879 , -2.2597387 ,\n",
       "        1.1909146 ,  2.4399316 ,  0.3990314 ,  0.904154  ,  0.5454401 ,\n",
       "       -1.3235748 , -0.64812386,  0.22390233,  0.9657619 , -0.47360668,\n",
       "       -0.10278235, -1.0679734 , -0.91414386,  0.92069   ,  0.3549338 ,\n",
       "        0.32858834,  0.84870636,  3.596926  , -1.6651102 ,  0.23658653,\n",
       "        1.0515738 ,  0.40531915, -0.773514  , -0.93460965, -0.3946274 ,\n",
       "       -1.5657727 ,  1.183652  ,  2.5277    ,  0.57700926,  1.7051374 ,\n",
       "       -1.8249958 , -2.0328498 ,  0.6617798 ,  0.85747904,  0.31782728,\n",
       "       -1.1660796 ,  0.32923874,  2.2055087 , -0.12782003,  2.0455444 ,\n",
       "       -0.1724252 ,  0.46001154,  1.559042  , -1.6152996 , -0.84242785,\n",
       "        0.7553168 ,  0.39734274,  0.07714175,  0.05610155,  0.32837135,\n",
       "        1.0220716 ,  1.3816743 ,  0.8049544 ,  0.28728685, -0.97610044,\n",
       "        0.8861181 , -0.01250968, -1.4845604 , -1.5236791 , -1.5451258 ],\n",
       "      dtype=float32)"
      ]
     },
     "execution_count": 18,
     "metadata": {},
     "output_type": "execute_result"
    }
   ],
   "source": [
    "v1 = word2vec['사랑']\n",
    "v1"
   ]
  },
  {
   "cell_type": "code",
   "execution_count": 19,
   "id": "f87a8d24",
   "metadata": {
    "scrolled": true
   },
   "outputs": [
    {
     "name": "stderr",
     "output_type": "stream",
     "text": [
      "/tmp/ipykernel_1174/1073688978.py:8: DeprecationWarning: Call to deprecated `__contains__` (Method will be removed in 4.0.0, use self.wv.__contains__() instead).\n",
      "  if index_to_word[i] in word2vec:\n",
      "/tmp/ipykernel_1174/1073688978.py:9: DeprecationWarning: Call to deprecated `__getitem__` (Method will be removed in 4.0.0, use self.wv.__getitem__() instead).\n",
      "  embedding_matrix[i] = word2vec[index_to_word[i]]\n"
     ]
    }
   ],
   "source": [
    "vocab_size = 10000\n",
    "word_vector_dim = 200\n",
    "\n",
    "embedding_matrix = np.random.rand(vocab_size, word_vector_dim)\n",
    "\n",
    "# embedding_matrix에 Word2Vec 워드벡터를 단어 하나씩마다 차례차례 카피한다.\n",
    "for i in range(4,vocab_size):\n",
    "    if index_to_word[i] in word2vec:\n",
    "        embedding_matrix[i] = word2vec[index_to_word[i]]"
   ]
  },
  {
   "cell_type": "code",
   "execution_count": 20,
   "id": "5bb95ec0",
   "metadata": {},
   "outputs": [
    {
     "name": "stdout",
     "output_type": "stream",
     "text": [
      "Model: \"sequential\"\n",
      "_________________________________________________________________\n",
      "Layer (type)                 Output Shape              Param #   \n",
      "=================================================================\n",
      "embedding_3 (Embedding)      (None, 41, 200)           2000000   \n",
      "_________________________________________________________________\n",
      "lstm_1 (LSTM)                (None, 256)               467968    \n",
      "_________________________________________________________________\n",
      "dense_6 (Dense)              (None, 8)                 2056      \n",
      "_________________________________________________________________\n",
      "dense_7 (Dense)              (None, 1)                 9         \n",
      "=================================================================\n",
      "Total params: 2,470,033\n",
      "Trainable params: 2,470,033\n",
      "Non-trainable params: 0\n",
      "_________________________________________________________________\n"
     ]
    }
   ],
   "source": [
    "from keras.initializers import Constant\n",
    "\n",
    "vocab_size = 10000\n",
    "word_vector_dim = 200\n",
    "\n",
    "# 모델 구성\n",
    "model = keras.Sequential()\n",
    "model.add(keras.layers.Embedding(vocab_size, \n",
    "                                 word_vector_dim, \n",
    "                                 embeddings_initializer=Constant(embedding_matrix), \n",
    "                                 input_length=maxlen, \n",
    "                                 trainable=True))   # trainable을 True로 주면 Fine-tuning\n",
    "\n",
    "model.add(keras.layers.LSTM(256))\n",
    "model.add(keras.layers.Dense(8, activation='relu'))\n",
    "model.add(keras.layers.Dense(1, activation='sigmoid'))\n",
    "\n",
    "model.summary()"
   ]
  },
  {
   "cell_type": "code",
   "execution_count": 21,
   "id": "810d35c3",
   "metadata": {},
   "outputs": [
    {
     "name": "stdout",
     "output_type": "stream",
     "text": [
      "Epoch 1/20\n",
      "986/986 [==============================] - 12s 11ms/step - loss: 0.4990 - accuracy: 0.7341 - val_loss: 0.3670 - val_accuracy: 0.8450\n",
      "Epoch 2/20\n",
      "986/986 [==============================] - 10s 10ms/step - loss: 0.3270 - accuracy: 0.8588 - val_loss: 0.3194 - val_accuracy: 0.8615\n",
      "Epoch 3/20\n",
      "986/986 [==============================] - 10s 10ms/step - loss: 0.2803 - accuracy: 0.8816 - val_loss: 0.3150 - val_accuracy: 0.8666\n",
      "Epoch 4/20\n",
      "986/986 [==============================] - 10s 10ms/step - loss: 0.2481 - accuracy: 0.8972 - val_loss: 0.3178 - val_accuracy: 0.8688\n",
      "Epoch 5/20\n",
      "986/986 [==============================] - 10s 10ms/step - loss: 0.2168 - accuracy: 0.9118 - val_loss: 0.3282 - val_accuracy: 0.8655\n",
      "Epoch 6/20\n",
      "986/986 [==============================] - 10s 10ms/step - loss: 0.1861 - accuracy: 0.9258 - val_loss: 0.3391 - val_accuracy: 0.8686\n",
      "Epoch 7/20\n",
      "986/986 [==============================] - 10s 11ms/step - loss: 0.1575 - accuracy: 0.9387 - val_loss: 0.3928 - val_accuracy: 0.8651\n",
      "Epoch 8/20\n",
      "986/986 [==============================] - 10s 10ms/step - loss: 0.1325 - accuracy: 0.9495 - val_loss: 0.3879 - val_accuracy: 0.8601\n",
      "Epoch 9/20\n",
      "986/986 [==============================] - 10s 10ms/step - loss: 0.1097 - accuracy: 0.9596 - val_loss: 0.4629 - val_accuracy: 0.8612\n",
      "Epoch 10/20\n",
      "986/986 [==============================] - 10s 10ms/step - loss: 0.0922 - accuracy: 0.9667 - val_loss: 0.4688 - val_accuracy: 0.8619\n",
      "Epoch 11/20\n",
      "986/986 [==============================] - 10s 11ms/step - loss: 0.0769 - accuracy: 0.9728 - val_loss: 0.5252 - val_accuracy: 0.8569\n",
      "Epoch 12/20\n",
      "986/986 [==============================] - 10s 10ms/step - loss: 0.0677 - accuracy: 0.9760 - val_loss: 0.5587 - val_accuracy: 0.8579\n",
      "Epoch 13/20\n",
      "986/986 [==============================] - 10s 10ms/step - loss: 0.0593 - accuracy: 0.9791 - val_loss: 0.5828 - val_accuracy: 0.8583\n",
      "Epoch 14/20\n",
      "986/986 [==============================] - 10s 10ms/step - loss: 0.0530 - accuracy: 0.9812 - val_loss: 0.6461 - val_accuracy: 0.8577\n",
      "Epoch 15/20\n",
      "986/986 [==============================] - 10s 10ms/step - loss: 0.0472 - accuracy: 0.9827 - val_loss: 0.6570 - val_accuracy: 0.8562\n",
      "Epoch 16/20\n",
      "986/986 [==============================] - 10s 10ms/step - loss: 0.0430 - accuracy: 0.9840 - val_loss: 0.6933 - val_accuracy: 0.8540\n",
      "Epoch 17/20\n",
      "986/986 [==============================] - 10s 10ms/step - loss: 0.0415 - accuracy: 0.9842 - val_loss: 0.6793 - val_accuracy: 0.8581\n",
      "Epoch 18/20\n",
      "986/986 [==============================] - 10s 10ms/step - loss: 0.0365 - accuracy: 0.9860 - val_loss: 0.7267 - val_accuracy: 0.8572\n",
      "Epoch 19/20\n",
      "986/986 [==============================] - 10s 10ms/step - loss: 0.0341 - accuracy: 0.9870 - val_loss: 0.7110 - val_accuracy: 0.8559\n",
      "Epoch 20/20\n",
      "986/986 [==============================] - 10s 10ms/step - loss: 0.0310 - accuracy: 0.9881 - val_loss: 0.7617 - val_accuracy: 0.8575\n"
     ]
    }
   ],
   "source": [
    "model.compile(optimizer=tf.keras.optimizers.Adam(learning_rate=0.0005),\n",
    "              loss='binary_crossentropy',\n",
    "              metrics=['accuracy'])\n",
    "              \n",
    "epochs=20\n",
    "\n",
    "history = model.fit(partial_X_train,\n",
    "                    partial_y_train,\n",
    "                    epochs=epochs,\n",
    "                    batch_size=128,\n",
    "                    validation_data=(x_val, y_val),\n",
    "                    verbose=1)"
   ]
  },
  {
   "cell_type": "markdown",
   "id": "aa6471c0",
   "metadata": {},
   "source": [
    "- 0.848 -> 0.854로 성능 향상"
   ]
  },
  {
   "cell_type": "code",
   "execution_count": 22,
   "id": "880b823c",
   "metadata": {},
   "outputs": [
    {
     "name": "stdout",
     "output_type": "stream",
     "text": [
      "dict_keys(['loss', 'accuracy', 'val_loss', 'val_accuracy'])\n"
     ]
    }
   ],
   "source": [
    "history_dict = history.history\n",
    "print(history_dict.keys())"
   ]
  },
  {
   "cell_type": "code",
   "execution_count": 23,
   "id": "b2205cbd",
   "metadata": {},
   "outputs": [
    {
     "data": {
      "image/png": "[encoded data removed]",
      "text/plain": [
       "<Figure size 432x288 with 1 Axes>"
      ]
     },
     "metadata": {
      "needs_background": "light"
     },
     "output_type": "display_data"
    }
   ],
   "source": [
    "import matplotlib.pyplot as plt\n",
    "\n",
    "acc = history_dict['accuracy']\n",
    "val_acc = history_dict['val_accuracy']\n",
    "loss = history_dict['loss']\n",
    "val_loss = history_dict['val_loss']\n",
    "\n",
    "epochs = range(1, len(acc) + 1)\n",
    "\n",
    "\n",
    "plt.plot(epochs, loss, 'r', label='Training loss')\n",
    "plt.plot(epochs, val_loss, 'b', label='Validation loss')\n",
    "plt.title('Training and validation loss')\n",
    "plt.xlabel('Epochs')\n",
    "plt.ylabel('Loss')\n",
    "plt.grid()\n",
    "plt.legend()\n",
    "\n",
    "plt.show()"
   ]
  },
  {
   "cell_type": "code",
   "execution_count": null,
   "id": "2668bd58",
   "metadata": {},
   "outputs": [],
   "source": []
  }
 ],
 "metadata": {
  "kernelspec": {
   "display_name": "Python 3 (ipykernel)",
   "language": "python",
   "name": "python3"
  },
  "language_info": {
   "codemirror_mode": {
    "name": "ipython",
    "version": 3
   },
   "file_extension": ".py",
   "mimetype": "text/x-python",
   "name": "python",
   "nbconvert_exporter": "python",
   "pygments_lexer": "ipython3",
   "version": "3.9.7"
  }
 },
 "nbformat": 4,
 "nbformat_minor": 5
}
