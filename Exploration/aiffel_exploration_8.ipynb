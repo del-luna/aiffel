{
 "cells": [
  {
   "cell_type": "code",
   "execution_count": 1,
   "id": "314e1175",
   "metadata": {},
   "outputs": [
    {
     "name": "stderr",
     "output_type": "stream",
     "text": [
      "[nltk_data] Downloading package stopwords to /aiffel/nltk_data...\n",
      "[nltk_data]   Unzipping corpora/stopwords.zip.\n"
     ]
    }
   ],
   "source": [
    "import nltk\n",
    "nltk.download('stopwords')\n",
    "\n",
    "import numpy as np\n",
    "import pandas as pd\n",
    "import os\n",
    "import re\n",
    "import matplotlib.pyplot as plt\n",
    "from nltk.corpus import stopwords\n",
    "from bs4 import BeautifulSoup \n",
    "from tensorflow.keras.preprocessing.text import Tokenizer \n",
    "from tensorflow.keras.preprocessing.sequence import pad_sequences\n",
    "import urllib.request\n",
    "from tqdm.notebook import tqdm"
   ]
  },
  {
   "cell_type": "code",
   "execution_count": 2,
   "id": "954683d6",
   "metadata": {},
   "outputs": [],
   "source": [
    "import urllib.request\n",
    "urllib.request.urlretrieve(\"https://raw.githubusercontent.com/sunnysai12345/News_Summary/master/news_summary_more.csv\", filename=\"news_summary_more.csv\")\n",
    "data = pd.read_csv('news_summary_more.csv', encoding='iso-8859-1')"
   ]
  },
  {
   "cell_type": "markdown",
   "id": "808ca587",
   "metadata": {},
   "source": [
    "## Data Preprocessing"
   ]
  },
  {
   "cell_type": "code",
   "execution_count": 3,
   "id": "4b5362c5",
   "metadata": {},
   "outputs": [
    {
     "name": "stdout",
     "output_type": "stream",
     "text": [
      "unique samples : 98360\n",
      "unique samples : 98280\n"
     ]
    }
   ],
   "source": [
    "print('unique samples :', data['text'].nunique())\n",
    "print('unique samples :', data['headlines'].nunique())"
   ]
  },
  {
   "cell_type": "code",
   "execution_count": 4,
   "id": "fdfb1653",
   "metadata": {},
   "outputs": [
    {
     "name": "stdout",
     "output_type": "stream",
     "text": [
      "total samples : 98360\n"
     ]
    }
   ],
   "source": [
    "data.drop_duplicates(subset = ['text'], inplace = True)\n",
    "print('total samples :',(len(data)))"
   ]
  },
  {
   "cell_type": "markdown",
   "id": "6f87dfce",
   "metadata": {},
   "source": [
    "- No duplicate data"
   ]
  },
  {
   "cell_type": "code",
   "execution_count": 5,
   "id": "b4df0ef9",
   "metadata": {},
   "outputs": [
    {
     "name": "stdout",
     "output_type": "stream",
     "text": [
      "headlines    0\n",
      "text         0\n",
      "dtype: int64\n"
     ]
    }
   ],
   "source": [
    "print(data.isnull().sum())"
   ]
  },
  {
   "cell_type": "markdown",
   "id": "39bf1972",
   "metadata": {},
   "source": [
    "- No Null data"
   ]
  },
  {
   "cell_type": "code",
   "execution_count": 6,
   "id": "474d30ed",
   "metadata": {},
   "outputs": [
    {
     "name": "stdout",
     "output_type": "stream",
     "text": [
      "num of contraction:  120\n"
     ]
    }
   ],
   "source": [
    "contractions = {\"ain't\": \"is not\", \"aren't\": \"are not\",\"can't\": \"cannot\", \"'cause\": \"because\", \"could've\": \"could have\", \"couldn't\": \"could not\",\n",
    "                           \"didn't\": \"did not\",  \"doesn't\": \"does not\", \"don't\": \"do not\", \"hadn't\": \"had not\", \"hasn't\": \"has not\", \"haven't\": \"have not\",\n",
    "                           \"he'd\": \"he would\",\"he'll\": \"he will\", \"he's\": \"he is\", \"how'd\": \"how did\", \"how'd'y\": \"how do you\", \"how'll\": \"how will\", \"how's\": \"how is\",\n",
    "                           \"I'd\": \"I would\", \"I'd've\": \"I would have\", \"I'll\": \"I will\", \"I'll've\": \"I will have\",\"I'm\": \"I am\", \"I've\": \"I have\", \"i'd\": \"i would\",\n",
    "                           \"i'd've\": \"i would have\", \"i'll\": \"i will\",  \"i'll've\": \"i will have\",\"i'm\": \"i am\", \"i've\": \"i have\", \"isn't\": \"is not\", \"it'd\": \"it would\",\n",
    "                           \"it'd've\": \"it would have\", \"it'll\": \"it will\", \"it'll've\": \"it will have\",\"it's\": \"it is\", \"let's\": \"let us\", \"ma'am\": \"madam\",\n",
    "                           \"mayn't\": \"may not\", \"might've\": \"might have\",\"mightn't\": \"might not\",\"mightn't've\": \"might not have\", \"must've\": \"must have\",\n",
    "                           \"mustn't\": \"must not\", \"mustn't've\": \"must not have\", \"needn't\": \"need not\", \"needn't've\": \"need not have\",\"o'clock\": \"of the clock\",\n",
    "                           \"oughtn't\": \"ought not\", \"oughtn't've\": \"ought not have\", \"shan't\": \"shall not\", \"sha'n't\": \"shall not\", \"shan't've\": \"shall not have\",\n",
    "                           \"she'd\": \"she would\", \"she'd've\": \"she would have\", \"she'll\": \"she will\", \"she'll've\": \"she will have\", \"she's\": \"she is\",\n",
    "                           \"should've\": \"should have\", \"shouldn't\": \"should not\", \"shouldn't've\": \"should not have\", \"so've\": \"so have\",\"so's\": \"so as\",\n",
    "                           \"this's\": \"this is\",\"that'd\": \"that would\", \"that'd've\": \"that would have\", \"that's\": \"that is\", \"there'd\": \"there would\",\n",
    "                           \"there'd've\": \"there would have\", \"there's\": \"there is\", \"here's\": \"here is\",\"they'd\": \"they would\", \"they'd've\": \"they would have\",\n",
    "                           \"they'll\": \"they will\", \"they'll've\": \"they will have\", \"they're\": \"they are\", \"they've\": \"they have\", \"to've\": \"to have\",\n",
    "                           \"wasn't\": \"was not\", \"we'd\": \"we would\", \"we'd've\": \"we would have\", \"we'll\": \"we will\", \"we'll've\": \"we will have\", \"we're\": \"we are\",\n",
    "                           \"we've\": \"we have\", \"weren't\": \"were not\", \"what'll\": \"what will\", \"what'll've\": \"what will have\", \"what're\": \"what are\",\n",
    "                           \"what's\": \"what is\", \"what've\": \"what have\", \"when's\": \"when is\", \"when've\": \"when have\", \"where'd\": \"where did\", \"where's\": \"where is\",\n",
    "                           \"where've\": \"where have\", \"who'll\": \"who will\", \"who'll've\": \"who will have\", \"who's\": \"who is\", \"who've\": \"who have\",\n",
    "                           \"why's\": \"why is\", \"why've\": \"why have\", \"will've\": \"will have\", \"won't\": \"will not\", \"won't've\": \"will not have\",\n",
    "                           \"would've\": \"would have\", \"wouldn't\": \"would not\", \"wouldn't've\": \"would not have\", \"y'all\": \"you all\",\n",
    "                           \"y'all'd\": \"you all would\",\"y'all'd've\": \"you all would have\",\"y'all're\": \"you all are\",\"y'all've\": \"you all have\",\n",
    "                           \"you'd\": \"you would\", \"you'd've\": \"you would have\", \"you'll\": \"you will\", \"you'll've\": \"you will have\",\n",
    "                           \"you're\": \"you are\", \"you've\": \"you have\"}\n",
    "\n",
    "print(\"num of contraction: \",len(contractions))"
   ]
  },
  {
   "cell_type": "code",
   "execution_count": 7,
   "id": "05e9685f",
   "metadata": {},
   "outputs": [
    {
     "name": "stdout",
     "output_type": "stream",
     "text": [
      "num of stopwords : 179\n",
      "['i', 'me', 'my', 'myself', 'we', 'our', 'ours', 'ourselves', 'you', \"you're\", \"you've\", \"you'll\", \"you'd\", 'your', 'yours', 'yourself', 'yourselves', 'he', 'him', 'his', 'himself', 'she', \"she's\", 'her', 'hers', 'herself', 'it', \"it's\", 'its', 'itself', 'they', 'them', 'their', 'theirs', 'themselves', 'what', 'which', 'who', 'whom', 'this', 'that', \"that'll\", 'these', 'those', 'am', 'is', 'are', 'was', 'were', 'be', 'been', 'being', 'have', 'has', 'had', 'having', 'do', 'does', 'did', 'doing', 'a', 'an', 'the', 'and', 'but', 'if', 'or', 'because', 'as', 'until', 'while', 'of', 'at', 'by', 'for', 'with', 'about', 'against', 'between', 'into', 'through', 'during', 'before', 'after', 'above', 'below', 'to', 'from', 'up', 'down', 'in', 'out', 'on', 'off', 'over', 'under', 'again', 'further', 'then', 'once', 'here', 'there', 'when', 'where', 'why', 'how', 'all', 'any', 'both', 'each', 'few', 'more', 'most', 'other', 'some', 'such', 'no', 'nor', 'not', 'only', 'own', 'same', 'so', 'than', 'too', 'very', 's', 't', 'can', 'will', 'just', 'don', \"don't\", 'should', \"should've\", 'now', 'd', 'll', 'm', 'o', 're', 've', 'y', 'ain', 'aren', \"aren't\", 'couldn', \"couldn't\", 'didn', \"didn't\", 'doesn', \"doesn't\", 'hadn', \"hadn't\", 'hasn', \"hasn't\", 'haven', \"haven't\", 'isn', \"isn't\", 'ma', 'mightn', \"mightn't\", 'mustn', \"mustn't\", 'needn', \"needn't\", 'shan', \"shan't\", 'shouldn', \"shouldn't\", 'wasn', \"wasn't\", 'weren', \"weren't\", 'won', \"won't\", 'wouldn', \"wouldn't\"]\n"
     ]
    }
   ],
   "source": [
    "print('num of stopwords :', len(stopwords.words('english') ))\n",
    "print(stopwords.words('english'))"
   ]
  },
  {
   "cell_type": "code",
   "execution_count": 8,
   "id": "401a8cb4",
   "metadata": {},
   "outputs": [],
   "source": [
    "def preprocess_sentence(sentence, remove_stopwords=True):\n",
    "    sentence = sentence.lower() # 텍스트 소문자화\n",
    "    sentence = BeautifulSoup(sentence, \"lxml\").text # <br />, <a href = ...> 등의 html 태그 제거\n",
    "    sentence = re.sub(r'\\([^)]*\\)', '', sentence) # 괄호로 닫힌 문자열 (...) 제거 Ex) my husband (and myself!) for => my husband for\n",
    "    sentence = re.sub('\"','', sentence) # 쌍따옴표 \" 제거\n",
    "    sentence = ' '.join([contractions[t] if t in contractions else t for t in sentence.split(\" \")]) # 약어 정규화\n",
    "    sentence = re.sub(r\"'s\\b\",\"\",sentence) # 소유격 제거. Ex) roland's -> roland\n",
    "    sentence = re.sub(\"[^a-zA-Z]\", \" \", sentence) # 영어 외 문자(숫자, 특수문자 등) 공백으로 변환\n",
    "    sentence = re.sub('[m]{2,}', 'mm', sentence) # m이 3개 이상이면 2개로 변경. Ex) ummmmmmm yeah -> umm yeah\n",
    "    \n",
    "    # 불용어 제거 (Text)\n",
    "    if remove_stopwords :\n",
    "        if len(sentence.split()) > 44 :\n",
    "            tokens = ' '.join(word for word in sentence.split() if not word in stopwords.words('english')if len(word) > 1)\n",
    "        else :\n",
    "            tokens = ' '.join(word for word in sentence.split() if len(word) > 1)\n",
    "    # headlines의 경우 불용어제거를 수행하지 않음\n",
    "    else :\n",
    "        tokens = ' '.join(word for word in sentence.split() if len(word) > 1)\n",
    "\n",
    "    return tokens"
   ]
  },
  {
   "cell_type": "code",
   "execution_count": 9,
   "id": "93ddf3ef",
   "metadata": {},
   "outputs": [
    {
     "data": {
      "application/vnd.jupyter.widget-view+json": {
       "model_id": "169702e0b13e46b4b48fe3703251a213",
       "version_major": 2,
       "version_minor": 0
      },
      "text/plain": [
       "  0%|          | 0/98360 [00:00<?, ?it/s]"
      ]
     },
     "metadata": {},
     "output_type": "display_data"
    },
    {
     "data": {
      "text/plain": [
       "['saurav kant alumnus upgrad iiit pg program machine learning artificial intelligence sr systems engineer infosys almost years work experience program upgrad degree career support helped transition data scientist tech mahindra salary hike upgrad online power learning powered lakh careers',\n",
       " 'kunal shah credit card bill payment platform cred gave users chance win free food swiggy one year pranav kaushik delhi techie bagged reward spending cred coins users get one cred coin per rupee bill paid used avail rewards brands like ixigo bookmyshow ubereats cult fit',\n",
       " 'new zealand defeated india wickets fourth odi hamilton thursday win first match five match odi series india lost international match rohit sharma captaincy consecutive victories dating back march match witnessed india getting seventh lowest total odi cricket history',\n",
       " 'aegon life iterm insurance plan customers enjoy tax benefits premiums paid save taxes plan provides life cover age years also customers options insure critical illnesses disability accidental death benefit rider life cover age years',\n",
       " 'speaking sexual harassment allegations rajkumar hirani sonam kapoor said known hirani many years true metoo movement get derailed metoo movement always believe woman case need reserve judgment added hirani accused assistant worked sanju']"
      ]
     },
     "execution_count": 9,
     "metadata": {},
     "output_type": "execute_result"
    }
   ],
   "source": [
    "from tqdm.notebook import tqdm\n",
    "clean_text = []\n",
    "\n",
    "# 전체 Text 데이터에 대한 전처리 : 10분 이상 시간이 걸릴 수 있습니다. \n",
    "for s in tqdm(data['text']):\n",
    "    clean_text.append(preprocess_sentence(s))\n",
    "\n",
    "# 전처리 후 출력\n",
    "clean_text[:5]"
   ]
  },
  {
   "cell_type": "code",
   "execution_count": 10,
   "id": "8c0b1444",
   "metadata": {},
   "outputs": [
    {
     "data": {
      "application/vnd.jupyter.widget-view+json": {
       "model_id": "2fe95dcc713144f394b40415074cf843",
       "version_major": 2,
       "version_minor": 0
      },
      "text/plain": [
       "  0%|          | 0/98360 [00:00<?, ?it/s]"
      ]
     },
     "metadata": {},
     "output_type": "display_data"
    },
    {
     "data": {
      "text/plain": [
       "['upgrad learner switches to career in ml al with salary hike',\n",
       " 'delhi techie wins free food from swiggy for one year on cred',\n",
       " 'new zealand end rohit sharma led india match winning streak',\n",
       " 'aegon life iterm insurance plan helps customers save tax',\n",
       " 'have known hirani for yrs what if metoo claims are not true sonam']"
      ]
     },
     "execution_count": 10,
     "metadata": {},
     "output_type": "execute_result"
    }
   ],
   "source": [
    "clean_headlines = []\n",
    "\n",
    "# 전체 Summary 데이터에 대한 전처리 : 5분 이상 시간이 걸릴 수 있습니다. \n",
    "for s in tqdm(data['headlines']):\n",
    "    clean_headlines.append(preprocess_sentence(s, False))\n",
    "\n",
    "clean_headlines[:5]"
   ]
  },
  {
   "cell_type": "code",
   "execution_count": 11,
   "id": "5084fa8d",
   "metadata": {},
   "outputs": [
    {
     "data": {
      "text/plain": [
       "headlines    0\n",
       "text         0\n",
       "dtype: int64"
      ]
     },
     "execution_count": 11,
     "metadata": {},
     "output_type": "execute_result"
    }
   ],
   "source": [
    "data.isnull().sum()"
   ]
  },
  {
   "cell_type": "code",
   "execution_count": 12,
   "id": "d813340c",
   "metadata": {},
   "outputs": [
    {
     "name": "stdout",
     "output_type": "stream",
     "text": [
      "텍스트의 최소 길이 : 1\n",
      "텍스트의 최대 길이 : 91\n",
      "텍스트의 평균 길이 : 58.23813542090281\n",
      "요약의 최소 길이 : 1\n",
      "요약의 최대 길이 : 18\n",
      "요약의 평균 길이 : 9.553660024400163\n"
     ]
    },
    {
     "data": {
      "image/png": "[encoded data removed]",
      "text/plain": [
       "<Figure size 432x288 with 2 Axes>"
      ]
     },
     "metadata": {
      "needs_background": "light"
     },
     "output_type": "display_data"
    },
    {
     "data": {
      "image/png": "[encoded data removed]",
      "text/plain": [
       "<Figure size 432x288 with 1 Axes>"
      ]
     },
     "metadata": {
      "needs_background": "light"
     },
     "output_type": "display_data"
    },
    {
     "data": {
      "image/png": "[encoded data removed]",
      "text/plain": [
       "<Figure size 432x288 with 1 Axes>"
      ]
     },
     "metadata": {
      "needs_background": "light"
     },
     "output_type": "display_data"
    }
   ],
   "source": [
    "text_len = [len(s.split()) for s in data['text']]\n",
    "headline_len = [len(s.split()) for s in data['headlines']]\n",
    "\n",
    "print('텍스트의 최소 길이 : {}'.format(np.min(text_len)))\n",
    "print('텍스트의 최대 길이 : {}'.format(np.max(text_len)))\n",
    "print('텍스트의 평균 길이 : {}'.format(np.mean(text_len)))\n",
    "print('요약의 최소 길이 : {}'.format(np.min(headline_len)))\n",
    "print('요약의 최대 길이 : {}'.format(np.max(headline_len)))\n",
    "print('요약의 평균 길이 : {}'.format(np.mean(headline_len)))\n",
    "\n",
    "plt.subplot(1,2,1)\n",
    "plt.boxplot(headline_len)\n",
    "plt.title('Headlines')\n",
    "plt.subplot(1,2,2)\n",
    "plt.boxplot(text_len)\n",
    "plt.title('Text')\n",
    "plt.tight_layout()\n",
    "plt.show()\n",
    "\n",
    "plt.title('Summary')\n",
    "plt.hist(headline_len, bins = 40)\n",
    "plt.xlabel('length of samples')\n",
    "plt.ylabel('number of samples')\n",
    "plt.show()\n",
    "\n",
    "plt.title('Text')\n",
    "plt.hist(text_len, bins = 40)\n",
    "plt.xlabel('length of samples')\n",
    "plt.ylabel('number of samples')\n",
    "plt.show()"
   ]
  },
  {
   "cell_type": "code",
   "execution_count": 13,
   "id": "ebbd031e",
   "metadata": {},
   "outputs": [],
   "source": [
    "text_max_len = 60\n",
    "summary_max_len = 12\n",
    "\n",
    "def below_threshold_len(max_len, nested_list):\n",
    "    cnt = 0\n",
    "    for s in nested_list:\n",
    "        if(len(s.split()) <= max_len):\n",
    "            cnt = cnt + 1\n",
    "    print('전체 샘플 중 길이가 %s 이하인 샘플의 비율: %s'%(max_len, (cnt / len(nested_list))))"
   ]
  },
  {
   "cell_type": "code",
   "execution_count": 14,
   "id": "a0e1115f",
   "metadata": {},
   "outputs": [
    {
     "name": "stdout",
     "output_type": "stream",
     "text": [
      "전체 샘플 중 길이가 60 이하인 샘플의 비율: 0.997448149654331\n",
      "전체 샘플 중 길이가 12 이하인 샘플의 비율: 0.9768198454656364\n"
     ]
    }
   ],
   "source": [
    "below_threshold_len(text_max_len, data['text'])\n",
    "below_threshold_len(summary_max_len,  data['headlines'])"
   ]
  },
  {
   "cell_type": "code",
   "execution_count": 15,
   "id": "f88c85b2",
   "metadata": {},
   "outputs": [
    {
     "name": "stdout",
     "output_type": "stream",
     "text": [
      "total samples : 95838\n"
     ]
    }
   ],
   "source": [
    "data = data[data['text'].apply(lambda x: len(x.split()) <= text_max_len)]\n",
    "data = data[data['headlines'].apply(lambda x: len(x.split()) <= summary_max_len)]\n",
    "print('total samples :',(len(data)))"
   ]
  },
  {
   "cell_type": "code",
   "execution_count": 16,
   "id": "bca68231",
   "metadata": {},
   "outputs": [
    {
     "data": {
      "text/html": [
       "<div>\n",
       "<style scoped>\n",
       "    .dataframe tbody tr th:only-of-type {\n",
       "        vertical-align: middle;\n",
       "    }\n",
       "\n",
       "    .dataframe tbody tr th {\n",
       "        vertical-align: top;\n",
       "    }\n",
       "\n",
       "    .dataframe thead th {\n",
       "        text-align: right;\n",
       "    }\n",
       "</style>\n",
       "<table border=\"1\" class=\"dataframe\">\n",
       "  <thead>\n",
       "    <tr style=\"text-align: right;\">\n",
       "      <th></th>\n",
       "      <th>headlines</th>\n",
       "      <th>text</th>\n",
       "      <th>decoder_input</th>\n",
       "      <th>decoder_target</th>\n",
       "    </tr>\n",
       "  </thead>\n",
       "  <tbody>\n",
       "    <tr>\n",
       "      <th>1</th>\n",
       "      <td>Delhi techie wins free food from Swiggy for on...</td>\n",
       "      <td>Kunal Shah's credit card bill payment platform...</td>\n",
       "      <td>sostoken Delhi techie wins free food from Swig...</td>\n",
       "      <td>Delhi techie wins free food from Swiggy for on...</td>\n",
       "    </tr>\n",
       "    <tr>\n",
       "      <th>2</th>\n",
       "      <td>New Zealand end Rohit Sharma-led India's 12-ma...</td>\n",
       "      <td>New Zealand defeated India by 8 wickets in the...</td>\n",
       "      <td>sostoken New Zealand end Rohit Sharma-led Indi...</td>\n",
       "      <td>New Zealand end Rohit Sharma-led India's 12-ma...</td>\n",
       "    </tr>\n",
       "    <tr>\n",
       "      <th>3</th>\n",
       "      <td>Aegon life iTerm insurance plan helps customer...</td>\n",
       "      <td>With Aegon Life iTerm Insurance plan, customer...</td>\n",
       "      <td>sostoken Aegon life iTerm insurance plan helps...</td>\n",
       "      <td>Aegon life iTerm insurance plan helps customer...</td>\n",
       "    </tr>\n",
       "    <tr>\n",
       "      <th>5</th>\n",
       "      <td>Rahat Fateh Ali Khan denies getting notice for...</td>\n",
       "      <td>Pakistani singer Rahat Fateh Ali Khan has deni...</td>\n",
       "      <td>sostoken Rahat Fateh Ali Khan denies getting n...</td>\n",
       "      <td>Rahat Fateh Ali Khan denies getting notice for...</td>\n",
       "    </tr>\n",
       "    <tr>\n",
       "      <th>7</th>\n",
       "      <td>Govt directs Alok Verma to join work 1 day bef...</td>\n",
       "      <td>Weeks after ex-CBI Director Alok Verma told th...</td>\n",
       "      <td>sostoken Govt directs Alok Verma to join work ...</td>\n",
       "      <td>Govt directs Alok Verma to join work 1 day bef...</td>\n",
       "    </tr>\n",
       "  </tbody>\n",
       "</table>\n",
       "</div>"
      ],
      "text/plain": [
       "                                           headlines  \\\n",
       "1  Delhi techie wins free food from Swiggy for on...   \n",
       "2  New Zealand end Rohit Sharma-led India's 12-ma...   \n",
       "3  Aegon life iTerm insurance plan helps customer...   \n",
       "5  Rahat Fateh Ali Khan denies getting notice for...   \n",
       "7  Govt directs Alok Verma to join work 1 day bef...   \n",
       "\n",
       "                                                text  \\\n",
       "1  Kunal Shah's credit card bill payment platform...   \n",
       "2  New Zealand defeated India by 8 wickets in the...   \n",
       "3  With Aegon Life iTerm Insurance plan, customer...   \n",
       "5  Pakistani singer Rahat Fateh Ali Khan has deni...   \n",
       "7  Weeks after ex-CBI Director Alok Verma told th...   \n",
       "\n",
       "                                       decoder_input  \\\n",
       "1  sostoken Delhi techie wins free food from Swig...   \n",
       "2  sostoken New Zealand end Rohit Sharma-led Indi...   \n",
       "3  sostoken Aegon life iTerm insurance plan helps...   \n",
       "5  sostoken Rahat Fateh Ali Khan denies getting n...   \n",
       "7  sostoken Govt directs Alok Verma to join work ...   \n",
       "\n",
       "                                      decoder_target  \n",
       "1  Delhi techie wins free food from Swiggy for on...  \n",
       "2  New Zealand end Rohit Sharma-led India's 12-ma...  \n",
       "3  Aegon life iTerm insurance plan helps customer...  \n",
       "5  Rahat Fateh Ali Khan denies getting notice for...  \n",
       "7  Govt directs Alok Verma to join work 1 day bef...  "
      ]
     },
     "execution_count": 16,
     "metadata": {},
     "output_type": "execute_result"
    }
   ],
   "source": [
    "#요약 데이터에는 시작 토큰과 종료 토큰을 추가한다.\n",
    "data['decoder_input'] = data['headlines'].apply(lambda x : 'sostoken '+ x)\n",
    "data['decoder_target'] = data['headlines'].apply(lambda x : x + ' eostoken')\n",
    "data.head()"
   ]
  },
  {
   "cell_type": "code",
   "execution_count": 17,
   "id": "3fdc5f47",
   "metadata": {},
   "outputs": [],
   "source": [
    "encoder_input = np.array(data['text']) # 인코더의 입력\n",
    "decoder_input = np.array(data['decoder_input']) # 디코더의 입력\n",
    "decoder_target = np.array(data['decoder_target']) # 디코더의 레이블"
   ]
  },
  {
   "cell_type": "code",
   "execution_count": 18,
   "id": "156db16e",
   "metadata": {},
   "outputs": [
    {
     "name": "stdout",
     "output_type": "stream",
     "text": [
      "[49405 66812 53920 ... 51016 28138  4606]\n"
     ]
    }
   ],
   "source": [
    "indices = np.arange(encoder_input.shape[0])\n",
    "np.random.shuffle(indices)\n",
    "print(indices)"
   ]
  },
  {
   "cell_type": "code",
   "execution_count": 19,
   "id": "3ff682dc",
   "metadata": {},
   "outputs": [],
   "source": [
    "encoder_input = encoder_input[indices]\n",
    "decoder_input = decoder_input[indices]\n",
    "decoder_target = decoder_target[indices]"
   ]
  },
  {
   "cell_type": "code",
   "execution_count": 20,
   "id": "22ed7179",
   "metadata": {},
   "outputs": [
    {
     "name": "stdout",
     "output_type": "stream",
     "text": [
      "num of test data : 19167\n"
     ]
    }
   ],
   "source": [
    "n_of_val = int(len(encoder_input)*0.2)\n",
    "print('num of test data :',n_of_val)"
   ]
  },
  {
   "cell_type": "code",
   "execution_count": 21,
   "id": "98940ab2",
   "metadata": {},
   "outputs": [
    {
     "name": "stdout",
     "output_type": "stream",
     "text": [
      "num of train data : 76671\n",
      "num of train label : 76671\n",
      "num of test data : 19167\n",
      "num of test label : 19167\n"
     ]
    }
   ],
   "source": [
    "encoder_input_train = encoder_input[:-n_of_val]\n",
    "decoder_input_train = decoder_input[:-n_of_val]\n",
    "decoder_target_train = decoder_target[:-n_of_val]\n",
    "\n",
    "encoder_input_test = encoder_input[-n_of_val:]\n",
    "decoder_input_test = decoder_input[-n_of_val:]\n",
    "decoder_target_test = decoder_target[-n_of_val:]\n",
    "\n",
    "print('num of train data :', len(encoder_input_train))\n",
    "print('num of train label :',len(decoder_input_train))\n",
    "print('num of test data :',len(encoder_input_test))\n",
    "print('num of test label :',len(decoder_input_test))"
   ]
  },
  {
   "cell_type": "code",
   "execution_count": 22,
   "id": "b4cc31b9",
   "metadata": {},
   "outputs": [],
   "source": [
    "src_tokenizer = Tokenizer() # 토크나이저 정의\n",
    "src_tokenizer.fit_on_texts(encoder_input_train) # 입력된 데이터로부터 단어 집합 생성"
   ]
  },
  {
   "cell_type": "code",
   "execution_count": 23,
   "id": "42a221cb",
   "metadata": {},
   "outputs": [
    {
     "name": "stdout",
     "output_type": "stream",
     "text": [
      "단어 집합(vocabulary)의 크기 : 90192\n",
      "등장 빈도가 6번 이하인 희귀 단어의 수: 65675\n",
      "단어 집합에서 희귀 단어를 제외시킬 경우의 단어 집합의 크기 24517\n",
      "단어 집합에서 희귀 단어의 비율: 72.81687954585773\n",
      "전체 등장 빈도에서 희귀 단어 등장 빈도 비율: 2.763022276865739\n"
     ]
    }
   ],
   "source": [
    "threshold = 7\n",
    "total_cnt = len(src_tokenizer.word_index) # 단어의 수\n",
    "rare_cnt = 0 # 등장 빈도수가 threshold보다 작은 단어의 개수를 카운트\n",
    "total_freq = 0 # 훈련 데이터의 전체 단어 빈도수 총 합\n",
    "rare_freq = 0 # 등장 빈도수가 threshold보다 작은 단어의 등장 빈도수의 총 합\n",
    "\n",
    "# 단어와 빈도수의 쌍(pair)을 key와 value로 받는다.\n",
    "for key, value in src_tokenizer.word_counts.items():\n",
    "    total_freq = total_freq + value\n",
    "\n",
    "    # 단어의 등장 빈도수가 threshold보다 작으면\n",
    "    if(value < threshold):\n",
    "        rare_cnt = rare_cnt + 1\n",
    "        rare_freq = rare_freq + value\n",
    "\n",
    "print('단어 집합(vocabulary)의 크기 :',total_cnt)\n",
    "print('등장 빈도가 %s번 이하인 희귀 단어의 수: %s'%(threshold - 1, rare_cnt))\n",
    "print('단어 집합에서 희귀 단어를 제외시킬 경우의 단어 집합의 크기 %s'%(total_cnt - rare_cnt))\n",
    "print(\"단어 집합에서 희귀 단어의 비율:\", (rare_cnt / total_cnt)*100)\n",
    "print(\"전체 등장 빈도에서 희귀 단어 등장 빈도 비율:\", (rare_freq / total_freq)*100)"
   ]
  },
  {
   "cell_type": "code",
   "execution_count": 24,
   "id": "398fb051",
   "metadata": {},
   "outputs": [],
   "source": [
    "src_vocab = 24000\n",
    "src_tokenizer = Tokenizer(num_words = src_vocab) # 단어 집합의 크기를 24,000으로 제한\n",
    "src_tokenizer.fit_on_texts(encoder_input_train) # 단어 집합 재생성."
   ]
  },
  {
   "cell_type": "code",
   "execution_count": 25,
   "id": "05d7294a",
   "metadata": {},
   "outputs": [
    {
     "name": "stdout",
     "output_type": "stream",
     "text": [
      "[[280, 50, 247, 14, 78, 25, 4056, 2, 209, 9, 281, 756, 1120, 1649, 10, 11, 14, 78, 297, 415, 2, 1, 1247, 5, 24, 12695, 1120, 63, 10, 281, 3269, 209, 1379, 9, 1383, 819, 53, 978, 1383, 6553, 7, 1647, 544, 14, 10, 35, 65, 17, 2418, 7, 1, 3862, 292, 13813, 16, 13814, 2469, 15, 3986, 6717], [76, 193, 7105, 460, 1384, 301, 39, 456, 20, 5298, 12, 154, 4, 86, 9, 110, 1034, 97, 155, 19004, 12696, 12696, 12, 564, 598, 15, 54, 3844, 5094, 410, 4, 4098, 90, 35, 221, 2430, 12, 153, 15, 245, 102, 28, 12, 154, 7, 559, 330, 6, 3400, 385, 3, 1929, 5, 1077, 105, 9, 1034, 1, 155], [150, 1500, 2012, 4825, 7, 122, 640, 13437, 915, 30, 14832, 6797, 2749, 140, 1, 4148, 827, 606, 2, 12697, 7, 86, 1803, 9, 7581, 6, 20042, 4825, 2946, 2, 1, 473, 4148, 827, 1082, 6, 1, 4148, 827, 606, 30, 2920, 13815, 2, 13438, 89, 13437, 827, 172, 409, 827, 78, 38, 25, 640, 2, 25, 3196, 6339]]\n"
     ]
    }
   ],
   "source": [
    "# 텍스트 시퀀스를 정수 시퀀스로 변환\n",
    "encoder_input_train = src_tokenizer.texts_to_sequences(encoder_input_train) \n",
    "encoder_input_test = src_tokenizer.texts_to_sequences(encoder_input_test)\n",
    "\n",
    "#잘 진행되었는지 샘플 출력\n",
    "print(encoder_input_train[:3])"
   ]
  },
  {
   "cell_type": "code",
   "execution_count": 26,
   "id": "015a6252",
   "metadata": {},
   "outputs": [],
   "source": [
    "#For headlines\n",
    "tar_tokenizer = Tokenizer()\n",
    "tar_tokenizer.fit_on_texts(decoder_input_train)"
   ]
  },
  {
   "cell_type": "code",
   "execution_count": 27,
   "id": "0d5470cb",
   "metadata": {},
   "outputs": [
    {
     "name": "stdout",
     "output_type": "stream",
     "text": [
      "단어 집합(vocabulary)의 크기 : 40439\n",
      "등장 빈도가 5번 이하인 희귀 단어의 수: 29314\n",
      "단어 집합에서 희귀 단어를 제외시킬 경우의 단어 집합의 크기 11125\n",
      "단어 집합에서 희귀 단어의 비율: 72.48942852197136\n",
      "전체 등장 빈도에서 희귀 단어 등장 빈도 비율: 6.3258130143017635\n"
     ]
    }
   ],
   "source": [
    "threshold = 6\n",
    "total_cnt = len(tar_tokenizer.word_index) # 단어의 수\n",
    "rare_cnt = 0 # 등장 빈도수가 threshold보다 작은 단어의 개수를 카운트\n",
    "total_freq = 0 # 훈련 데이터의 전체 단어 빈도수 총 합\n",
    "rare_freq = 0 # 등장 빈도수가 threshold보다 작은 단어의 등장 빈도수의 총 합\n",
    "\n",
    "# 단어와 빈도수의 쌍(pair)을 key와 value로 받는다.\n",
    "for key, value in tar_tokenizer.word_counts.items():\n",
    "    total_freq = total_freq + value\n",
    "\n",
    "    # 단어의 등장 빈도수가 threshold보다 작으면\n",
    "    if(value < threshold):\n",
    "        rare_cnt = rare_cnt + 1\n",
    "        rare_freq = rare_freq + value\n",
    "\n",
    "print('단어 집합(vocabulary)의 크기 :',total_cnt)\n",
    "print('등장 빈도가 %s번 이하인 희귀 단어의 수: %s'%(threshold - 1, rare_cnt))\n",
    "print('단어 집합에서 희귀 단어를 제외시킬 경우의 단어 집합의 크기 %s'%(total_cnt - rare_cnt))\n",
    "print(\"단어 집합에서 희귀 단어의 비율:\", (rare_cnt / total_cnt)*100)\n",
    "print(\"전체 등장 빈도에서 희귀 단어 등장 빈도 비율:\", (rare_freq / total_freq)*100)"
   ]
  },
  {
   "cell_type": "code",
   "execution_count": 28,
   "id": "d49be90f",
   "metadata": {},
   "outputs": [
    {
     "name": "stdout",
     "output_type": "stream",
     "text": [
      "input\n",
      "input  [[1, 5, 303, 2126, 315, 3, 18, 1704, 6, 175, 824, 879], [1, 239, 735, 3647, 169, 136, 4, 33, 123, 352, 65], [1, 1600, 719, 476, 3, 22, 302, 5, 4, 29], [1, 118, 1996, 10120, 3, 454, 4, 53, 61], [1, 608, 3, 77, 4109, 5, 207, 49, 1168, 150, 353, 1511]]\n",
      "target\n",
      "decoder  [[5, 303, 2126, 315, 3, 18, 1704, 6, 175, 824, 879, 2], [239, 735, 3647, 169, 136, 4, 33, 123, 352, 65, 2], [1600, 719, 476, 3, 22, 302, 5, 4, 29, 2], [118, 1996, 10120, 3, 454, 4, 53, 61, 2], [608, 3, 77, 4109, 5, 207, 49, 1168, 150, 353, 1511, 2]]\n"
     ]
    }
   ],
   "source": [
    "tar_vocab = 11000\n",
    "tar_tokenizer = Tokenizer(num_words = tar_vocab) \n",
    "tar_tokenizer.fit_on_texts(decoder_input_train)\n",
    "tar_tokenizer.fit_on_texts(decoder_target_train)\n",
    "\n",
    "# 텍스트 시퀀스를 정수 시퀀스로 변환\n",
    "decoder_input_train = tar_tokenizer.texts_to_sequences(decoder_input_train) \n",
    "decoder_target_train = tar_tokenizer.texts_to_sequences(decoder_target_train)\n",
    "decoder_input_test = tar_tokenizer.texts_to_sequences(decoder_input_test)\n",
    "decoder_target_test = tar_tokenizer.texts_to_sequences(decoder_target_test)\n",
    "\n",
    "#잘 변환되었는지 확인\n",
    "print('input')\n",
    "print('input ',decoder_input_train[:5])\n",
    "print('target')\n",
    "print('decoder ',decoder_target_train[:5])"
   ]
  },
  {
   "cell_type": "markdown",
   "id": "33fad986",
   "metadata": {},
   "source": [
    "- Final data processing"
   ]
  },
  {
   "cell_type": "code",
   "execution_count": 29,
   "id": "05009e32",
   "metadata": {},
   "outputs": [
    {
     "name": "stdout",
     "output_type": "stream",
     "text": [
      "삭제할 훈련 데이터의 개수 : 1\n",
      "삭제할 테스트 데이터의 개수 : 0\n",
      "훈련 데이터의 개수 : 76670\n",
      "훈련 레이블의 개수 : 76670\n",
      "테스트 데이터의 개수 : 19167\n",
      "테스트 레이블의 개수 : 19167\n"
     ]
    },
    {
     "name": "stderr",
     "output_type": "stream",
     "text": [
      "/opt/conda/lib/python3.9/site-packages/numpy/lib/function_base.py:4454: VisibleDeprecationWarning: Creating an ndarray from ragged nested sequences (which is a list-or-tuple of lists-or-tuples-or ndarrays with different lengths or shapes) is deprecated. If you meant to do this, you must specify 'dtype=object' when creating the ndarray.\n",
      "  arr = asarray(arr)\n"
     ]
    }
   ],
   "source": [
    "drop_train = [index for index, sentence in enumerate(decoder_input_train) if len(sentence) == 1]\n",
    "drop_test = [index for index, sentence in enumerate(decoder_input_test) if len(sentence) == 1]\n",
    "\n",
    "print('삭제할 훈련 데이터의 개수 :',len(drop_train))\n",
    "print('삭제할 테스트 데이터의 개수 :',len(drop_test))\n",
    "\n",
    "encoder_input_train = np.delete(encoder_input_train, drop_train, axis=0)\n",
    "decoder_input_train = np.delete(decoder_input_train, drop_train, axis=0)\n",
    "decoder_target_train = np.delete(decoder_target_train, drop_train, axis=0)\n",
    "\n",
    "encoder_input_test = np.delete(encoder_input_test, drop_test, axis=0)\n",
    "decoder_input_test = np.delete(decoder_input_test, drop_test, axis=0)\n",
    "decoder_target_test = np.delete(decoder_target_test, drop_test, axis=0)\n",
    "\n",
    "print('훈련 데이터의 개수 :', len(encoder_input_train))\n",
    "print('훈련 레이블의 개수 :',len(decoder_input_train))\n",
    "print('테스트 데이터의 개수 :',len(encoder_input_test))\n",
    "print('테스트 레이블의 개수 :',len(decoder_input_test))"
   ]
  },
  {
   "cell_type": "code",
   "execution_count": 30,
   "id": "dd78d708",
   "metadata": {},
   "outputs": [],
   "source": [
    "encoder_input_train = pad_sequences(encoder_input_train, maxlen = text_max_len, padding='post')\n",
    "encoder_input_test = pad_sequences(encoder_input_test, maxlen = text_max_len, padding='post')\n",
    "decoder_input_train = pad_sequences(decoder_input_train, maxlen = summary_max_len, padding='post')\n",
    "decoder_target_train = pad_sequences(decoder_target_train, maxlen = summary_max_len, padding='post')\n",
    "decoder_input_test = pad_sequences(decoder_input_test, maxlen = summary_max_len, padding='post')\n",
    "decoder_target_test = pad_sequences(decoder_target_test, maxlen = summary_max_len, padding='post')"
   ]
  },
  {
   "cell_type": "markdown",
   "id": "77377d59",
   "metadata": {},
   "source": [
    "## Modeling"
   ]
  },
  {
   "cell_type": "code",
   "execution_count": 31,
   "id": "b9393e78",
   "metadata": {},
   "outputs": [
    {
     "name": "stdout",
     "output_type": "stream",
     "text": [
      "WARNING:tensorflow:Layer lstm will not use cuDNN kernels since it doesn't meet the criteria. It will use a generic GPU kernel as fallback when running on GPU.\n",
      "WARNING:tensorflow:Layer lstm_1 will not use cuDNN kernels since it doesn't meet the criteria. It will use a generic GPU kernel as fallback when running on GPU.\n",
      "WARNING:tensorflow:Layer lstm_2 will not use cuDNN kernels since it doesn't meet the criteria. It will use a generic GPU kernel as fallback when running on GPU.\n"
     ]
    }
   ],
   "source": [
    "from tensorflow.keras.layers import Input, LSTM, Embedding, Dense, Concatenate\n",
    "from tensorflow.keras.models import Model\n",
    "from tensorflow.keras.callbacks import EarlyStopping, ModelCheckpoint\n",
    "\n",
    "\n",
    "# 인코더 설계 시작\n",
    "embedding_dim = 128\n",
    "hidden_size = 256\n",
    "\n",
    "# 인코더\n",
    "encoder_inputs = Input(shape=(text_max_len,))\n",
    "\n",
    "# 인코더의 임베딩 층\n",
    "enc_emb = Embedding(src_vocab, embedding_dim)(encoder_inputs)\n",
    "\n",
    "# 인코더의 LSTM 1\n",
    "encoder_lstm1 = LSTM(hidden_size, return_sequences=True, return_state=True ,dropout = 0.4, recurrent_dropout = 0.4)\n",
    "encoder_output1, state_h1, state_c1 = encoder_lstm1(enc_emb)\n",
    "\n",
    "# 인코더의 LSTM 2\n",
    "encoder_lstm2 = LSTM(hidden_size, return_sequences=True, return_state=True, dropout=0.4, recurrent_dropout=0.4)\n",
    "encoder_output2, state_h2, state_c2 = encoder_lstm2(encoder_output1)\n",
    "\n",
    "# 인코더의 LSTM 3\n",
    "encoder_lstm3 = LSTM(hidden_size, return_state=True, return_sequences=True, dropout=0.4, recurrent_dropout=0.4)\n",
    "encoder_outputs, state_h, state_c= encoder_lstm3(encoder_output2)"
   ]
  },
  {
   "cell_type": "code",
   "execution_count": 32,
   "id": "8dcbe014",
   "metadata": {},
   "outputs": [
    {
     "name": "stdout",
     "output_type": "stream",
     "text": [
      "WARNING:tensorflow:Layer lstm_3 will not use cuDNN kernels since it doesn't meet the criteria. It will use a generic GPU kernel as fallback when running on GPU.\n"
     ]
    }
   ],
   "source": [
    "decoder_inputs = Input(shape=(None,))\n",
    "\n",
    "# 디코더의 임베딩 층\n",
    "dec_emb_layer = Embedding(tar_vocab, embedding_dim)\n",
    "dec_emb = dec_emb_layer(decoder_inputs)\n",
    "\n",
    "# 디코더의 LSTM\n",
    "decoder_lstm = LSTM(hidden_size, return_sequences = True, return_state = True, dropout = 0.4, recurrent_dropout=0.2)\n",
    "decoder_outputs, _, _ = decoder_lstm(dec_emb, initial_state = [state_h, state_c])"
   ]
  },
  {
   "cell_type": "code",
   "execution_count": 33,
   "id": "fcb502e4",
   "metadata": {},
   "outputs": [],
   "source": [
    "# 디코더의 출력층\n",
    "decoder_softmax_layer = Dense(tar_vocab, activation = 'softmax')\n",
    "decoder_softmax_outputs = decoder_softmax_layer(decoder_outputs) "
   ]
  },
  {
   "cell_type": "code",
   "execution_count": 34,
   "id": "4483513d",
   "metadata": {},
   "outputs": [
    {
     "data": {
      "text/plain": [
       "('attention.py', <http.client.HTTPMessage at 0x7feefb054640>)"
      ]
     },
     "execution_count": 34,
     "metadata": {},
     "output_type": "execute_result"
    }
   ],
   "source": [
    "urllib.request.urlretrieve(\"https://raw.githubusercontent.com/thushv89/attention_keras/master/src/layers/attention.py\", filename=\"attention.py\")"
   ]
  },
  {
   "cell_type": "code",
   "execution_count": 35,
   "id": "32ab9f6d",
   "metadata": {},
   "outputs": [
    {
     "name": "stdout",
     "output_type": "stream",
     "text": [
      "Model: \"model\"\n",
      "__________________________________________________________________________________________________\n",
      "Layer (type)                    Output Shape         Param #     Connected to                     \n",
      "==================================================================================================\n",
      "input_1 (InputLayer)            [(None, 60)]         0                                            \n",
      "__________________________________________________________________________________________________\n",
      "embedding (Embedding)           (None, 60, 128)      3072000     input_1[0][0]                    \n",
      "__________________________________________________________________________________________________\n",
      "lstm (LSTM)                     [(None, 60, 256), (N 394240      embedding[0][0]                  \n",
      "__________________________________________________________________________________________________\n",
      "input_2 (InputLayer)            [(None, None)]       0                                            \n",
      "__________________________________________________________________________________________________\n",
      "lstm_1 (LSTM)                   [(None, 60, 256), (N 525312      lstm[0][0]                       \n",
      "__________________________________________________________________________________________________\n",
      "embedding_1 (Embedding)         (None, None, 128)    1408000     input_2[0][0]                    \n",
      "__________________________________________________________________________________________________\n",
      "lstm_2 (LSTM)                   [(None, 60, 256), (N 525312      lstm_1[0][0]                     \n",
      "__________________________________________________________________________________________________\n",
      "lstm_3 (LSTM)                   [(None, None, 256),  394240      embedding_1[0][0]                \n",
      "                                                                 lstm_2[0][1]                     \n",
      "                                                                 lstm_2[0][2]                     \n",
      "__________________________________________________________________________________________________\n",
      "attention_layer (AdditiveAttent (None, None, 256)    256         lstm_3[0][0]                     \n",
      "                                                                 lstm_2[0][0]                     \n",
      "__________________________________________________________________________________________________\n",
      "concat_layer (Concatenate)      (None, None, 512)    0           lstm_3[0][0]                     \n",
      "                                                                 attention_layer[0][0]            \n",
      "__________________________________________________________________________________________________\n",
      "dense_1 (Dense)                 (None, None, 11000)  5643000     concat_layer[0][0]               \n",
      "==================================================================================================\n",
      "Total params: 11,962,360\n",
      "Trainable params: 11,962,360\n",
      "Non-trainable params: 0\n",
      "__________________________________________________________________________________________________\n"
     ]
    }
   ],
   "source": [
    "from tensorflow.keras.layers import AdditiveAttention\n",
    "\n",
    "# 어텐션 층(어텐션 함수)\n",
    "attn_layer = AdditiveAttention(name='attention_layer')\n",
    "\n",
    "# 인코더와 디코더의 모든 time step의 hidden state를 어텐션 층에 전달하고 결과를 리턴\n",
    "attn_out = attn_layer([decoder_outputs, encoder_outputs])\n",
    "\n",
    "\n",
    "# 어텐션의 결과와 디코더의 hidden state들을 연결\n",
    "decoder_concat_input = Concatenate(axis=-1, name='concat_layer')([decoder_outputs, attn_out])\n",
    "\n",
    "# 디코더의 출력층\n",
    "decoder_softmax_layer = Dense(tar_vocab, activation='softmax')\n",
    "decoder_softmax_outputs = decoder_softmax_layer(decoder_concat_input)\n",
    "\n",
    "# 모델 정의\n",
    "model = Model([encoder_inputs, decoder_inputs], decoder_softmax_outputs)\n",
    "model.summary()"
   ]
  },
  {
   "cell_type": "markdown",
   "id": "40b90f6d",
   "metadata": {},
   "source": [
    "## Model Train"
   ]
  },
  {
   "cell_type": "code",
   "execution_count": 36,
   "id": "e65b5fbc",
   "metadata": {},
   "outputs": [
    {
     "name": "stdout",
     "output_type": "stream",
     "text": [
      "Epoch 1/50\n",
      "300/300 [==============================] - 261s 840ms/step - loss: 5.9032 - val_loss: 5.4962\n",
      "Epoch 2/50\n",
      "300/300 [==============================] - 249s 830ms/step - loss: 5.3732 - val_loss: 5.0873\n",
      "Epoch 3/50\n",
      "300/300 [==============================] - 248s 828ms/step - loss: 5.0015 - val_loss: 4.8252\n",
      "Epoch 4/50\n",
      "300/300 [==============================] - 248s 827ms/step - loss: 4.7214 - val_loss: 4.6226\n",
      "Epoch 5/50\n",
      "300/300 [==============================] - 248s 828ms/step - loss: 4.4975 - val_loss: 4.4530\n",
      "Epoch 6/50\n",
      "300/300 [==============================] - 248s 827ms/step - loss: 4.3113 - val_loss: 4.3393\n",
      "Epoch 7/50\n",
      "300/300 [==============================] - 248s 827ms/step - loss: 4.1531 - val_loss: 4.2288\n",
      "Epoch 8/50\n",
      "300/300 [==============================] - 249s 829ms/step - loss: 4.0194 - val_loss: 4.1625\n",
      "Epoch 9/50\n",
      "300/300 [==============================] - 248s 828ms/step - loss: 3.8998 - val_loss: 4.0843\n",
      "Epoch 10/50\n",
      "300/300 [==============================] - 249s 829ms/step - loss: 3.7980 - val_loss: 4.0297\n",
      "Epoch 11/50\n",
      "300/300 [==============================] - 248s 826ms/step - loss: 3.7077 - val_loss: 3.9998\n",
      "Epoch 12/50\n",
      "300/300 [==============================] - 247s 822ms/step - loss: 3.6235 - val_loss: 3.9518\n",
      "Epoch 13/50\n",
      "300/300 [==============================] - 247s 822ms/step - loss: 3.5469 - val_loss: 3.9221\n",
      "Epoch 14/50\n",
      "300/300 [==============================] - 247s 823ms/step - loss: 3.4757 - val_loss: 3.8956\n",
      "Epoch 15/50\n",
      "300/300 [==============================] - 249s 831ms/step - loss: 3.4091 - val_loss: 3.8679\n",
      "Epoch 16/50\n",
      "300/300 [==============================] - 248s 825ms/step - loss: 3.3519 - val_loss: 3.8547\n",
      "Epoch 17/50\n",
      "300/300 [==============================] - 248s 828ms/step - loss: 3.2965 - val_loss: 3.8370\n",
      "Epoch 18/50\n",
      "300/300 [==============================] - 248s 826ms/step - loss: 3.2420 - val_loss: 3.8208\n",
      "Epoch 19/50\n",
      "300/300 [==============================] - 247s 823ms/step - loss: 3.1903 - val_loss: 3.8136\n",
      "Epoch 20/50\n",
      "300/300 [==============================] - 247s 823ms/step - loss: 3.1452 - val_loss: 3.7982\n",
      "Epoch 21/50\n",
      "300/300 [==============================] - 247s 823ms/step - loss: 3.1024 - val_loss: 3.7997\n",
      "Epoch 22/50\n",
      "300/300 [==============================] - 247s 824ms/step - loss: 3.0620 - val_loss: 3.7932\n",
      "Epoch 23/50\n",
      "300/300 [==============================] - 250s 833ms/step - loss: 3.0247 - val_loss: 3.7759\n",
      "Epoch 24/50\n",
      "300/300 [==============================] - 251s 836ms/step - loss: 2.9882 - val_loss: 3.7742\n",
      "Epoch 25/50\n",
      "300/300 [==============================] - 250s 832ms/step - loss: 2.9486 - val_loss: 3.7717\n",
      "Epoch 26/50\n",
      "300/300 [==============================] - 250s 833ms/step - loss: 2.9135 - val_loss: 3.7646\n",
      "Epoch 27/50\n",
      "300/300 [==============================] - 248s 828ms/step - loss: 2.8787 - val_loss: 3.7782\n",
      "Epoch 28/50\n",
      "300/300 [==============================] - 247s 825ms/step - loss: 2.8456 - val_loss: 3.7637\n",
      "Epoch 29/50\n",
      "300/300 [==============================] - 250s 833ms/step - loss: 2.8143 - val_loss: 3.7610\n",
      "Epoch 30/50\n",
      "300/300 [==============================] - 250s 834ms/step - loss: 2.7849 - val_loss: 3.7628\n",
      "Epoch 31/50\n",
      "300/300 [==============================] - 248s 828ms/step - loss: 2.7582 - val_loss: 3.7627\n",
      "Epoch 00031: early stopping\n"
     ]
    }
   ],
   "source": [
    "model.compile(optimizer='rmsprop', loss='sparse_categorical_crossentropy')\n",
    "es = EarlyStopping(monitor='val_loss', mode='min', verbose=1, patience = 2)\n",
    "history = model.fit(x = [encoder_input_train, decoder_input_train], y = decoder_target_train, \\\n",
    "          validation_data = ([encoder_input_test, decoder_input_test], decoder_target_test),\n",
    "          batch_size = 256, callbacks=[es], epochs = 50)"
   ]
  },
  {
   "cell_type": "code",
   "execution_count": 37,
   "id": "0cbdd84c",
   "metadata": {},
   "outputs": [
    {
     "data": {
      "image/png": "[encoded data removed]",
      "text/plain": [
       "<Figure size 432x288 with 1 Axes>"
      ]
     },
     "metadata": {
      "needs_background": "light"
     },
     "output_type": "display_data"
    }
   ],
   "source": [
    "plt.plot(history.history['loss'], label='train')\n",
    "plt.plot(history.history['val_loss'], label='test')\n",
    "plt.legend()\n",
    "plt.show()"
   ]
  },
  {
   "cell_type": "code",
   "execution_count": 38,
   "id": "6d24b05e",
   "metadata": {},
   "outputs": [],
   "source": [
    "src_index_to_word = src_tokenizer.index_word # 원문 단어 집합에서 정수 -> 단어를 얻음\n",
    "tar_word_to_index = tar_tokenizer.word_index # 요약 단어 집합에서 단어 -> 정수를 얻음\n",
    "tar_index_to_word = tar_tokenizer.index_word # 요약 단어 집합에서 정수 -> 단어를 얻음"
   ]
  },
  {
   "cell_type": "code",
   "execution_count": 39,
   "id": "0f033d31",
   "metadata": {},
   "outputs": [],
   "source": [
    "# 인코더 설계\n",
    "encoder_model = Model(inputs=encoder_inputs, outputs=[encoder_outputs, state_h, state_c])\n",
    "\n",
    "# 이전 시점의 상태들을 저장하는 텐서\n",
    "decoder_state_input_h = Input(shape=(hidden_size,))\n",
    "decoder_state_input_c = Input(shape=(hidden_size,))\n",
    "\n",
    "dec_emb2 = dec_emb_layer(decoder_inputs)\n",
    "# 문장의 다음 단어를 예측하기 위해서 초기 상태(initial_state)를 이전 시점의 상태로 사용. 이는 뒤의 함수 decode_sequence()에 구현\n",
    "# 훈련 과정에서와 달리 LSTM의 리턴하는 은닉 상태와 셀 상태인 state_h와 state_c를 버리지 않음.\n",
    "decoder_outputs2, state_h2, state_c2 = decoder_lstm(dec_emb2, initial_state=[decoder_state_input_h, decoder_state_input_c])"
   ]
  },
  {
   "cell_type": "code",
   "execution_count": 41,
   "id": "8dc58cff",
   "metadata": {},
   "outputs": [
    {
     "name": "stdout",
     "output_type": "stream",
     "text": [
      "=3\n"
     ]
    }
   ],
   "source": [
    "# 어텐션 함수\n",
    "decoder_hidden_state_input = Input(shape=(text_max_len, hidden_size))\n",
    "attn_out_inf = attn_layer([decoder_outputs2, decoder_hidden_state_input])\n",
    "decoder_inf_concat = Concatenate(axis=-1, name='concat')([decoder_outputs2, attn_out_inf])\n",
    "\n",
    "# 디코더의 출력층\n",
    "decoder_outputs2 = decoder_softmax_layer(decoder_inf_concat) \n",
    "\n",
    "# 최종 디코더 모델\n",
    "decoder_model = Model(\n",
    "    [decoder_inputs] + [decoder_hidden_state_input,decoder_state_input_h, decoder_state_input_c],\n",
    "    [decoder_outputs2] + [state_h2, state_c2])\n",
    "\n",
    "print('=3')"
   ]
  },
  {
   "cell_type": "code",
   "execution_count": 42,
   "id": "953ed387",
   "metadata": {},
   "outputs": [],
   "source": [
    "def decode_sequence(input_seq):\n",
    "    # 입력으로부터 인코더의 상태를 얻음\n",
    "    e_out, e_h, e_c = encoder_model.predict(input_seq)\n",
    "\n",
    "     # <SOS>에 해당하는 토큰 생성\n",
    "    target_seq = np.zeros((1,1))\n",
    "    target_seq[0, 0] = tar_word_to_index['sostoken']\n",
    "\n",
    "    stop_condition = False\n",
    "    decoded_sentence = ''\n",
    "    while not stop_condition: # stop_condition이 True가 될 때까지 루프 반복\n",
    "\n",
    "        output_tokens, h, c = decoder_model.predict([target_seq] + [e_out, e_h, e_c])\n",
    "        sampled_token_index = np.argmax(output_tokens[0, -1, :])\n",
    "        sampled_token = tar_index_to_word[sampled_token_index]\n",
    "\n",
    "        if(sampled_token!='eostoken'):\n",
    "            decoded_sentence += ' '+sampled_token\n",
    "\n",
    "        #  <eos>에 도달하거나 최대 길이를 넘으면 중단.\n",
    "        if (sampled_token == 'eostoken'  or len(decoded_sentence.split()) >= (summary_max_len-1)):\n",
    "            stop_condition = True\n",
    "\n",
    "        # 길이가 1인 타겟 시퀀스를 업데이트\n",
    "        target_seq = np.zeros((1,1))\n",
    "        target_seq[0, 0] = sampled_token_index\n",
    "\n",
    "        # 상태를 업데이트 합니다.\n",
    "        e_h, e_c = h, c\n",
    "\n",
    "    return decoded_sentence"
   ]
  },
  {
   "cell_type": "code",
   "execution_count": 43,
   "id": "295d4b8f",
   "metadata": {},
   "outputs": [],
   "source": [
    "# 원문의 정수 시퀀스를 텍스트 시퀀스로 변환\n",
    "def seq2text(input_seq):\n",
    "    temp=''\n",
    "    for i in input_seq:\n",
    "        if(i!=0):\n",
    "            temp = temp + src_index_to_word[i]+' '\n",
    "    return temp\n",
    "\n",
    "# 요약문의 정수 시퀀스를 텍스트 시퀀스로 변환\n",
    "def seq2summary(input_seq):\n",
    "    temp=''\n",
    "    for i in input_seq:\n",
    "        if((i!=0 and i!=tar_word_to_index['sostoken']) and i!=tar_word_to_index['eostoken']):\n",
    "            temp = temp + tar_index_to_word[i] + ' '\n",
    "    return temp"
   ]
  },
  {
   "cell_type": "code",
   "execution_count": 44,
   "id": "0600b223",
   "metadata": {},
   "outputs": [
    {
     "name": "stdout",
     "output_type": "stream",
     "text": [
      "원문 : filmmaker karan johar on thursday announced he will be co producing a biopic on kargil war hero vikram batra sidharth malhotra will play the lead in the film which will be directed by vishnu vikram batra called sher shah of kargil was an officer of indian army who was martyred at the age of 24 during the 1999 kargil war \n",
      "실제 요약 : karan johar to produce biopic on kargil martyr vikram batra \n",
      "예측 요약 :  karan johar to star in karan johar biopic reports\n",
      "\n",
      "\n",
      "원문 : malaysian pm mahathir mohamad who is on a five day visit to china on tuesday announced suspension of china backed projects worth more than 22 billion signed under his predecessor najib razak he said the projects would be suspended until the country can afford them prior to his visit mahathir had vowed to discuss unfair chinese infrastructure deals \n",
      "실제 요약 : malaysia suspends 22 billion worth of china backed projects \n",
      "예측 요약 :  china announces its first major trip with china\n",
      "\n",
      "\n",
      "원문 : rising pune supergiant's ben stokes called ms dhoni a bollywood hero and australian captain steve smith a villain as part of a how well do you know your super giants activity stokes was required to name one player a hero and another a villain when he gave the titles ajinkya rahane and ms dhoni also participated in the activity \n",
      "실제 요약 : ms dhoni a bollywood hero steve smith a villain ben stokes \n",
      "예측 요약 :  smith is the right to smith tweets user\n",
      "\n",
      "\n",
      "원문 : run off two balls with one wicket remaining when windies' joe direct hit resulted in the first ever tied test the match's last over consisting of eight balls involved a leg bye bye caught behind dropped catch and two run outs the first ever tied test ended on december 14 1960 almost 84 years since the first test in 1877 \n",
      "실제 요약 : 1st tied test match was caused by direct hit off ball \n",
      "예측 요약 :  england lose test to hit test series against a ball\n",
      "\n",
      "\n",
      "원문 : the indian government has asked its missions abroad to decline offers of foreign aid for flood relief operations in kerala the external affairs ministry wrote to indian missions asking envoys to express appreciation for their offers but convey that india will rely solely on domestic efforts india made the policy to not accept foreign aid during the 2004 tsunami \n",
      "실제 요약 : india declines foreign aid for kerala flood relief \n",
      "예측 요약 :  kerala flood hit by northeast flood hit kerala govt\n",
      "\n",
      "\n",
      "원문 : a special women's court on wednesday sentenced mukesh mishra executive producer of television serial 'ek veer ki to seven years in prison for raping a junior artist the victim alleged mukesh gave her a lift to the studio followed her to the make up room and raped her she added mishra threatened her and sought sexual favours after the incident \n",
      "실제 요약 : tv producer gets 7 years in jail for raping female artist \n",
      "예측 요약 :  actor sentenced to death for raping minor in film\n",
      "\n",
      "\n",
      "원문 : indian cricketers ravichandran ashwin hardik pandya and bhuvneshwar kumar were mentioned in an episode of american sitcom 'the big bang theory' while explaining cricket indian character rajesh says that's ravichandran ashwin he's amazing he makes hardik pandya look like bhuvneshwar kumar to which his friend howard replies save some for the rest of us \n",
      "실제 요약 : the big bang theory jokes about ashwin pandya's names \n",
      "예측 요약 :  why is a cricket team and chahal on his bowling\n",
      "\n",
      "\n",
      "원문 : us president donald trump has said that ending the partial government shutdown is in no way a concession he added that ending the shutdown was taking care of millions of people who were getting badly hurt by it trump on friday agreed to end the shutdown without getting funds to build a wall along the border with mexico \n",
      "실제 요약 : ending government shutdown is no way a trump \n",
      "예측 요약 :  trump will not be able to build a wall trump\n",
      "\n",
      "\n",
      "원문 : sharing her son's first picture on social media sunidhi chauhan captioned it ready for my first as a mom sunidhi who married music composer hitesh in 2012 gave birth to their son on january 1 this year sunidhi is know for singing bollywood songs such as girl' and ki n \n",
      "실제 요약 : sunidhi chauhan shares first picture of her son \n",
      "예측 요약 :  my daughter to be a child debut for me esha\n",
      "\n",
      "\n",
      "원문 : congress tdp and cpi on tuesday announced maha grand alliance to defeat trs in the telangana assembly elections while the cpi has allied with both the parties in the past this is for the first time tdp has joined hands with congress this comes after cm k chandrashekar rao dissolved the assembly last week to have early elections \n",
      "실제 요약 : cong tdp cpi form grand alliance to fight telangana polls \n",
      "예측 요약 :  congress leader quits party in assembly assembly polls\n",
      "\n",
      "\n",
      "원문 : arbaaz khan while joking about why his brother salman khan doesn't kiss onscreen said woh itna hain off screen ki on screen hi nahi he does it so often off screen that he doesn't need to do it on screen he said this during their appearance on 'the kapil sharma show' earlier salman had said he is uncomfortable kissing onscreen \n",
      "실제 요약 : he does it a lot jokes arbaaz on salman's no kissing rule \n",
      "예측 요약 :  salman khan is my own but we don't know how salman\n",
      "\n",
      "\n",
      "원문 : punjab cabinet minister navjot singh sidhu on wednesday said he cannot be a transporter like sad leader sukhbir singh badal and said he appears on tv to earn money in order to run his family and meet expenditure i cannot be corrupt to mint money i can't ditch my people who voted me to power he added \n",
      "실제 요약 : can't be a like badal i do tv to earn sidhu \n",
      "예측 요약 :  sidhu will be sidhu on sidhu for hugging punjab minister\n",
      "\n",
      "\n",
      "원문 : the official website of the indian premier league wrongly mentioned royal challengers bangalore skipper virat kohli to be a left handed batsman whereas the player is actually a right hander on realising the the website later updated the player's profile and mentioned him as a right hander kohli played his first match in ipl 2017 against mumbai indians on friday \n",
      "실제 요약 : ipl site wrongly mentions kohli as a left handed batsman \n",
      "예측 요약 :  team india team kohli after kohli's appeal\n",
      "\n",
      "\n",
      "원문 : ur rehman alvi was elected the 13th president of pakistan after a vote in the parliament and provincial assemblies on tuesday alvi a dentist by profession was a founding member of pakistan prime minister imran khan's political party pakistan tehreek e insaf the 69 year old is expected to assume office on september 9 after incumbent president mamnoon term ends \n",
      "실제 요약 : dr elected 13th president of pakistan \n",
      "예측 요약 :  pak president candidate elected to pakistan prez\n",
      "\n",
      "\n",
      "원문 : us technology major oracle corporation has agreed to buy an australian company that makes cloud based collaboration software for construction projects for 1 2 billion oracle's offer represents a premium of 47 per share over friday closing price notably technology has been used on global projects including the panama canal extension \n",
      "실제 요약 : oracle to buy construction software maker for 1 2 bn \n",
      "예측 요약 :  buys 2 stake in startup for\n",
      "\n",
      "\n",
      "원문 : yoga guru ramdev's consumer goods company patanjali ayurved has announced plans to invest ã¢ââ¹100 crore to manufacture solar power equipment getting into solar is in line with the swadeshi movement with solar each household in india can have power supply md acharya balkrishna said earlier patanjali acquired advance navigation and solar technologies a manufacturer of navigation aid equipment \n",
      "실제 요약 : ramdev's patanjali to into solar power business \n",
      "예측 요약 :  patanjali to launch ã¢ââ¹10 000 crore in afghanistan\n",
      "\n",
      "\n",
      "원문 : an australian designer duo has launched a collection featuring clothing made using a special type of vera linen which the skin the designers said they discovered the fabric following a visit to a northern italian mill which specialises in the unique blend however the clothes lose their properties after a couple of \n",
      "실제 요약 : australian clothing brand launches clothes \n",
      "예측 요약 :  launches your own made\n",
      "\n",
      "\n",
      "원문 : a video showing madhya pradesh chief minister shivraj singh chouhan slapping a man during a roadshow in dhar district's has surfaced on social media however the reason behind the chief minister's act is currently unknown chouhan was holding the roadshow to campaign for the madhya pradesh civic elections scheduled to take place on january 17 \n",
      "실제 요약 : madhya pradesh cm shivraj chouhan slaps man during rally \n",
      "예측 요약 :  video shows cm yogi on camera while taking selfie\n",
      "\n",
      "\n",
      "원문 : former finance minister p chidambaram on tuesday claimed that us first daughter ivanka trump's remark stating that india has lifted 130 million citizens out of poverty was a compliment to the upa regime she was referring to the upa government's period of 2004 to 2014 the number was 140 million chidambaram tweeted \n",
      "실제 요약 : compliment on poverty was for upa govt chidambaram \n",
      "예측 요약 :  i am a mistake to be a muslim president trump\n",
      "\n",
      "\n",
      "원문 : markets regulator sebi on wednesday revoked the ban it imposed on 307 entities on suspicion of market manipulation and using stock exchanges for tax evasion the entities had been barred from trading in the securities market in 2014 and 2015 the 307 entities are different from the 331 suspected shell companies which were restricted from trading on august 7 \n",
      "실제 요약 : sebi lifts ban against entities barred from trading \n",
      "예측 요약 :  sebi imposes ban on sterlite steel\n",
      "\n",
      "\n",
      "원문 : adelaide 35 year old fast bowler ben pulled off a flying catch to dismiss perth michael in the big bash league on saturday a michael delivery towards mid off where jumped towards his right and caught the ball with both hands ben is the leading wicket taker in big bash league's history \n",
      "실제 요약 : 35 year old australian fielder pulls off catch \n",
      "예측 요약 :  fielder takes one handed catch with ball to dismiss de villiers\n",
      "\n",
      "\n",
      "원문 : us is the world's first country to withdraw from the un human rights council unhrc the us joined the unhrc in 2009 during the tenure of then president barack obama the us slammed the biased unhrc for its criticism of the alleged violations committed by the israeli forces on palestinians and called for reforms in the global human rights body \n",
      "실제 요약 : us is world's first country to quit un human rights council \n",
      "예측 요약 :  us 1st country to allow un to become 1st encounter\n",
      "\n",
      "\n",
      "원문 : zareen khan was mobbed in aurangabad where she had gone for a store launch on saturday the police had to resort to lathi charge to control the mob car was reportedly stuck between the crowd and they didn't let the car pass through a video shows a lady asking the mob to leave and not ruin the positive environment \n",
      "실제 요약 : zareen in police to charge \n",
      "예측 요약 :  zareen khan gets engaged to store in sequel\n",
      "\n",
      "\n",
      "원문 : the bride and groom along with 700 guests in maharashtra's nashik pledged to donate their organs during the wedding ceremony further 60 others also donated blood on the occasion we thought our wedding ceremony would be the right occasion as there would be a lot of guests and it would help create awareness for organ donation the bride said \n",
      "실제 요약 : couple 700 guests pledge to donate organs at wedding \n",
      "예측 요약 :  couple donates wedding to help flood victims\n",
      "\n",
      "\n",
      "원문 : after tanushree dutta said she has been offered protection by the mumbai police maharashtra minister of state home deepak said the protection has been given against certain incidents that had happened and not against nana patekar unless there's a complaint you can't accuse a person of his status nana's not only an actor but also a social worker added \n",
      "실제 요약 : protection to tanushree dutta not against nana patekar maha govt \n",
      "예측 요약 :  kamal haasan asked to mumbai encounter in encounter\n",
      "\n",
      "\n",
      "원문 : the indian men's hockey team beat malaysia 2 1 to reach the semifinal stage at the commonwealth games 2018 in australia on tuesday india's harmanpreet singh scored both goals one in the first quarter and then added another in the third quarter india are set to face england in their final pool match on wednesday \n",
      "실제 요약 : india beat malaysia 2 1 to reach commonwealth \n",
      "예측 요약 :  india beat england to win their first asian games in women's\n",
      "\n",
      "\n",
      "원문 : husband and businessman raj kundra has been summoned by the enforcement directorate for questioning in connection with a bitcoin scam reportedly he has been summoned for his links with scam accused amit bhardwaj who allegedly duped 8 000 people of ã¢ââ¹2 000 crore kundra has previously been involved in an ipl betting scandal and was banned from cricket for life \n",
      "실제 요약 : shilpa husband raj summoned over bitcoin scam \n",
      "예측 요약 :  dawood officer's wife files defamation case against wife\n",
      "\n",
      "\n",
      "원문 : actor ranbir kapoor has said that it is very important to have a solid friend circle especially in his profession he added they keep you grounded make you and give you a reality check ranbir also revealed that filmmaker ayan mukerji is one of his closest friends while the rest of his friends date back to his school days \n",
      "실제 요약 : friend very important in my profession ranbir \n",
      "예측 요약 :  ranbir kapoor is the biggest of the biggest time ranbir\n",
      "\n",
      "\n",
      "원문 : competing for kansas state university 19 year old shankar broke his own national record by clearing a height of 2 shankar had set the record at the 2 mark at the junior national championships in coimbatore in 2016 when he was a schoolboy the height cleared by shankar is the best this year amongst athletes from commonwealth countries \n",
      "실제 요약 : 19 yr old indian breaks his own national high jump record \n",
      "예측 요약 :  india's highest living in world record\n",
      "\n",
      "\n",
      "원문 : turkey's foreign minister has warned that europe is headed for a war of religions claiming dutch politicians are taking the continent to a cliff this comes amid a diplomatic spat between the two countries notably netherlands blocked turkish ministers from holding rallies supporting turkish president recep tayyip plans to make his position more powerful \n",
      "실제 요약 : turkey warns of 'war of in europe \n",
      "예측 요약 :  turkey to withdraw from un\n",
      "\n",
      "\n",
      "원문 : the swedish government is planning to build 50 000 nuclear bunkers in the country over a period of ten years sweden already has 65 000 emergency shelters capable of housing seven million people out of the country's nearly 10 million population the projected cost of the new facilities is 120 million over crore \n",
      "실제 요약 : sweden plans to build 50 000 new nuclear bunkers \n",
      "예측 요약 :  us to build nuclear system to reduce\n",
      "\n",
      "\n",
      "원문 : sanjay kapoor while talking about his daughter bollywood debut said that she is working towards it i really don't know when that will happen she has just finished her 12th standard he added he further said she hasn't signed anything till now she's too young hopefully soon enough sanjay said he advised not to take or criticism seriously \n",
      "실제 요약 : working towards it dad sanjay on her b'wood debut \n",
      "예측 요약 :  i am not want to be a single daughter kareena kapoor\n",
      "\n",
      "\n",
      "원문 : msk prasad the national cricket team's chief selector clarified that the selection panel and the indian cricket team management are on the same page with regards to policy' the statement has come after murali vijay and karun nair claimed that they had not received any communication from the selection committee and the management after getting dropped from the team \n",
      "실제 요약 : team management and selectors on same page chief selector \n",
      "예측 요약 :  indian cricket team india has not a policy gambhir\n",
      "\n",
      "\n",
      "원문 : police booked nine farmers of uttar pradesh's village for rioting and criminal intimidation after they allegedly stalled the construction work of the eastern peripheral expressway on friday and saturday the protestors demanded a compensation four times the market value of land police said the situation was normal on sunday and no arrest was made in connection with the case \n",
      "실제 요약 : nine up farmers booked for expressway project \n",
      "예측 요약 :  fir against up farmers for calling up farmers\n",
      "\n",
      "\n",
      "원문 : old woman who allegedly kidnapped a 17 year old boy and married him last year has been sent to a mumbai jail along with their 5 month old daughter the police complaint filed by the boy's mother alleged the woman was a two time and had her son the woman was charged for child marriage and sexually assaulting a minor \n",
      "실제 요약 : yr old woman marries 17 yr old boy jailed for sexual assault \n",
      "예측 요약 :  mumbai woman gives birth to minor girl in mumbai\n",
      "\n",
      "\n",
      "원문 : the central board of direct taxes told the supreme court that political candidates would soon be asked to disclose their wealth too when filing for poll nominations the election commission has also agreed to this in principle cbdt said this comes after the centre had informed the court about substantial increases in the assets of 105 mps and mlas \n",
      "실제 요약 : politicians will be asked to disclose income cbdt \n",
      "예측 요약 :  no plans to make for 6 months in 2017 sc\n",
      "\n",
      "\n",
      "원문 : bengal police have arrested two physical education teachers accused of sexually assaulting a four year old girl in a washroom at kolkata's gd birla centre for education the girl complained of severe pain and bleeding upon returning from school following which the parents rushed her to hospital they later lodged a police complaint after doctors confirmed it as sexual assault \n",
      "실제 요약 : 2 teachers held for 4 yr old's sexual assault in wb school \n",
      "예측 요약 :  minor boys arrested for sexually assaulting minor boys\n",
      "\n",
      "\n",
      "원문 : has said that it will carefully consider the asylum plea of saudi arabia's 18 year old rahaf mohammed al who fled alleged abuse by her family rahaf arrived at main airport from kuwait after running away from her family and said that she plans to seek asylum in australia she's now in the care of the un refugee agency unhcr \n",
      "실제 요약 : will consider 18 yr old saudi girl's asylum plea australia \n",
      "예측 요약 :  saudi to pay for missing after saudi visa row\n",
      "\n",
      "\n",
      "원문 : after bjp led nda candidate harivansh narayan singh was elected the rajya sabha's deputy chairman today upa chairperson sonia gandhi said sometimes we win and sometimes we lose singh defeated congress led upa's candidate bk by 20 votes meanwhile aap members didn't vote in the elections \n",
      "실제 요약 : we win some we lose some sonia on rs dy chairman elections \n",
      "예측 요약 :  liverpool have become cl win ex pm\n",
      "\n",
      "\n",
      "원문 : former australian football captain tim cahill who plays for isl side jamshedpur fc posted a video of him playing cricket during free time in india video in which he was seen batting was captioned little bit of cricket on my day off we don't like cricket we love it cahill had earlier said he is a virat kohli fan \n",
      "실제 요약 : former australia football captain plays cricket in india \n",
      "예측 요약 :  australian player once signed for ipl match for the first time\n",
      "\n",
      "\n",
      "원문 : reserved over ã¢ââ¹10 000 crore for internal security in j k northeastern and maoist hit areas under the ã¢ââ¹25 000 crore umbrella scheme for modernisation of police forces over ã¢ââ¹1 215 crore has been earmarked for the northeastern states for police infrastructure upgradation and ã¢ââ¹3 000 crore will be given to 35 worst maoist affected districts to address under development \n",
      "실제 요약 : govt reserves ã¢ââ¹10 000cr for security in j k maoist areas \n",
      "예측 요약 :  j k govt announces ã¢ââ¹10 000 crore for aid to\n",
      "\n",
      "\n",
      "원문 : african pacer dale steyn trolled indian captain virat kohli over his instagram post about doing single handed push ups impressive but how many no hand push ups can you do haha steyn commented on kohli's post rest day is a cheat day never stop working hard kohli had captioned an earlier photo on instagram which showed him in a gym \n",
      "실제 요약 : steyn trolls kohli over one handed push ups post \n",
      "예측 요약 :  kohli has a lot of my own room kohli on kohli's\n",
      "\n",
      "\n",
      "원문 : addressing the first parliamentarian conference in delhi pm narendra modi on tuesday asked global lawmakers of indian origin to be partners in india's development and facilitate the country's economic growth adding that india's relationship with a country is based on humanity and not give and take he said the indian values can guide a world in increasing instability \n",
      "실제 요약 : indian origin lawmakers can india's growth pm \n",
      "예측 요약 :  india country to become pm modi\n",
      "\n",
      "\n",
      "원문 : prime minister narendra modi on thursday took to twitter to share a 10 line poem titled ram he wrote in gujarati during an interactive event held in uk on wednesday pm modi had said that he writes poems in his mother tongue when requested to share a few lines he said he will share it on social media \n",
      "실제 요약 : pm modi shares poem he wrote in gujarati on twitter \n",
      "예측 요약 :  pm modi shares video of his name in gujarat\n",
      "\n",
      "\n",
      "원문 : china has sold an advanced missile tracking system to pakistan that would help the country to develop multi warheads according to reports a chinese team reportedly spent nearly three months in pakistan to assemble the tracking system and also trained the technical staff on how to use it notably china is the biggest arms supplier to pakistan \n",
      "실제 요약 : china selling missile technology to pakistan reports \n",
      "예측 요약 :  china to develop nuclear system to pakistan\n",
      "\n",
      "\n",
      "원문 : delhi bjp chief manoj tiwari has written a letter to cm arvind kejriwal asking him to return from bengaluru after receiving a 10 day treatment and supervise the of drains ahead of the monsoon season since you kejriwal have been declared fit by the doctors you must return to delhi at the earliest and resume work tiwari added \n",
      "실제 요약 : come back and work delhi bjp chief writes to cm kejriwal \n",
      "예측 요약 :  delhi cm kejriwal to be made for\n",
      "\n",
      "\n",
      "원문 : addressing a gathering of journalists on saturday pope francis said that journalists who indulge in fake and news commit a very serious sin that hurts people urging journalists not to fall prey to the sins of communication the pope said that the world needed reliable information with verified data and news which helps readers develop a healthy critical sense \n",
      "실제 요약 : pope terms fake news 'a very serious \n",
      "예측 요약 :  no one of fake news on social media says media\n",
      "\n",
      "\n",
      "원문 : us based study has simulated that the supervolcano beneath yellowstone national park us could be fuelled by the tectonic plate that began sinking and melting beneath north america several million years ago the study contradicts the previous belief that the volcano was powered by hot plumes from the earth's mantle core boundary the park is known for its grand spring \n",
      "실제 요약 : plate us study \n",
      "예측 요약 :  earth's could survive us study\n",
      "\n",
      "\n",
      "원문 : commonwealth games 2018 gold medal winning weightlifter yadav was attacked in varanasi's on saturday was reportedly at her house where she and her cousin were attacked by the neighbours with bricks and stones following an argument who lifted a total of 222 kg to win commonwealth gold escaped unhurt while around 6 other people sustained injuries \n",
      "실제 요약 : cwg gold medallist yadav attacked in varanasi \n",
      "예측 요약 :  olympic champ gold winner passes away at cwg\n",
      "\n",
      "\n",
      "원문 : lucknow district magistrate kaushal raj sharma on sunday said ã¢ââ¹25 lakh as compensation will be given to the family of the apple executive who was shot dead by a police constable a government job will be given to his wife sharma added notably the wife had demanded ã¢ââ¹1 crore as compensation in her letter to uttar pradesh cm yogi adityanath \n",
      "실제 요약 : ã¢ââ¹25l govt job to be given to apple exec's wife lucknow dm \n",
      "예측 요약 :  akshay offers ã¢ââ¹10 lakh to kin of mumbai school\n",
      "\n",
      "\n"
     ]
    }
   ],
   "source": [
    "for i in range(50, 100):\n",
    "    print(\"원문 :\", seq2text(encoder_input_test[i]))\n",
    "    print(\"실제 요약 :\", seq2summary(decoder_input_test[i]))\n",
    "    print(\"예측 요약 :\", decode_sequence(encoder_input_test[i].reshape(1, text_max_len)))\n",
    "    print(\"\\n\")"
   ]
  },
  {
   "cell_type": "markdown",
   "id": "897ea491",
   "metadata": {},
   "source": [
    "## Summa"
   ]
  },
  {
   "cell_type": "code",
   "execution_count": 45,
   "id": "08b52859",
   "metadata": {},
   "outputs": [],
   "source": [
    "import requests\n",
    "from summa.summarizer import summarize"
   ]
  },
  {
   "cell_type": "code",
   "execution_count": 46,
   "id": "41230388",
   "metadata": {},
   "outputs": [
    {
     "name": "stdout",
     "output_type": "stream",
     "text": [
      "1       Kunal Shah's credit card bill payment platform...\n",
      "2       New Zealand defeated India by 8 wickets in the...\n",
      "3       With Aegon Life iTerm Insurance plan, customer...\n",
      "5       Pakistani singer Rahat Fateh Ali Khan has deni...\n",
      "7       Weeks after ex-CBI Director Alok Verma told th...\n",
      "                              ...                        \n",
      "1600    France has triggered a plan for a no-deal Brex...\n",
      "1601    Chinese TV programmes appeared to be censoring...\n",
      "1603    Canada's 67-year-old poker player Scott Wellen...\n",
      "1606    Washington's 27-year-old Nick Naydev jumped st...\n",
      "1608    Citing an investigative news report, Congress ...\n",
      "Name: text, Length: 1500, dtype: object\n"
     ]
    }
   ],
   "source": [
    "input_text = data['text']\n",
    "print(input_text[:1500])"
   ]
  },
  {
   "cell_type": "code",
   "execution_count": 47,
   "id": "3846ecdd",
   "metadata": {},
   "outputs": [
    {
     "data": {
      "text/plain": [
       "\"Two minor cousins in Uttar Pradesh's Gorakhpur were allegedly repeatedly burnt with tongs and forced to eat human excreta by their family for being friends with two boys from the same school. The cousins revealed their ordeal to the police and Child Welfare Committee after being brought back to Gorakhpur from Nepal, where they had fled to escape the torture.\""
      ]
     },
     "execution_count": 47,
     "metadata": {},
     "output_type": "execute_result"
    }
   ],
   "source": [
    "input_text[10]"
   ]
  },
  {
   "cell_type": "code",
   "execution_count": 50,
   "id": "8c06586a",
   "metadata": {},
   "outputs": [
    {
     "name": "stdout",
     "output_type": "stream",
     "text": [
      "Original Sentence:\n",
      "The government has asked Coal India to focus on production enhancement, saying it cannot let the \"profitability tumble\" after the recent wage hike. The firm had signed the agreement proposing 20% hike in salaries for five years against workers' demand for a 50% raise. It'll have an estimated impact of Ã¢ÂÂ¹5,667 crore per year to the world's largest coal miner.\n",
      "\n",
      "Summary:\n",
      "The government has asked Coal India to focus on production enhancement, saying it cannot let the \"profitability tumble\" after the recent wage hike.\n",
      "----------------------------------------------------------------------------------------------------\n",
      "\n",
      "\n",
      "Original Sentence:\n",
      "Civil war and poverty may force up to 3 crore Africans to come to Europe within the next 10 years, posing new security challenges to the continent, European Parliament's President Antonio Tajani has said. To prevent this scenario from happening, Europe should invest billions into the economies of African nations, he added. Tajani further proposed creation of refugee cities.\n",
      "\n",
      "Summary:\n",
      "Civil war and poverty may force up to 3 crore Africans to come to Europe within the next 10 years, posing new security challenges to the continent, European Parliament's President Antonio Tajani has said.\n",
      "----------------------------------------------------------------------------------------------------\n",
      "\n",
      "\n",
      "Original Sentence:\n",
      "Venezuelan President NicolÃÂ¡s Maduro has claimed that his American counterpart Donald Trump ordered the Colombian government and the Colombian mafia to kill him. \"If something happens to me, Trump and Colombian President IvÃÂ¡n MÃÂ¡rquez will bear responsibility,\" he added. The US has blamed Maduro for the economic crisis in Venezuela and recognised opposition leader Juan GuaidÃÂ³ as interim President.\n",
      "\n",
      "Summary:\n",
      "Venezuelan President NicolÃÂ¡s Maduro has claimed that his American counterpart Donald Trump ordered the Colombian government and the Colombian mafia to kill him.\n",
      "----------------------------------------------------------------------------------------------------\n",
      "\n",
      "\n",
      "Original Sentence:\n",
      "The oldest known footprints on Earth, left by ancestors of modern-day insects at least 541 million years ago, have been discovered in China. Scientists couldn't ascertain what the creature looked like, but said nothing this old with legs had been discovered to date. The fossils, few millimetres in width, were spotted by tilting rock slabs at different angles against sunlight.\n",
      "\n",
      "Summary:\n",
      "The oldest known footprints on Earth, left by ancestors of modern-day insects at least 541 million years ago, have been discovered in China.\n",
      "----------------------------------------------------------------------------------------------------\n",
      "\n",
      "\n",
      "Original Sentence:\n",
      "Darren Sammy slammed 16*(4) despite injuring his leg to help Peshawar Zalmi defeat Quetta Gladiators in the PSL. During Gladiators' innings, Sammy couldn't complete his four overs as he pulled a calf muscle after bowling 2.4 overs. He came to bat when Zalmi needed 17 runs off nine balls, and blasted two sixes and a four to help them win.\n",
      "\n",
      "Summary:\n",
      "Darren Sammy slammed 16*(4) despite injuring his leg to help Peshawar Zalmi defeat Quetta Gladiators in the PSL.\n",
      "----------------------------------------------------------------------------------------------------\n",
      "\n",
      "\n",
      "Original Sentence:\n",
      "In an apparent dig at Congress President Rahul Gandhi, Prime Minister Narendra Modi on Tuesday said, \"Those who are born with a golden spoon never understand the difficulties of the poor.\" Speaking about the Congress, he added, \"They run a government and bring down a government for the family. They can go to any extent... to come to power.\"\n",
      "\n",
      "Summary:\n",
      "In an apparent dig at Congress President Rahul Gandhi, Prime Minister Narendra Modi on Tuesday said, \"Those who are born with a golden spoon never understand the difficulties of the poor.\" Speaking about the Congress, he added, \"They run a government and bring down a government for the family.\n",
      "----------------------------------------------------------------------------------------------------\n",
      "\n",
      "\n",
      "Original Sentence:\n",
      "Around one lakh employees of the Maharashtra State Road Transport Corporation (MSRTC) have gone on an indefinite strike from midnight of Monday. The employees are demanding implementation of the Seventh Pay Commission and an interim hike of 25% till the recommendations are implemented. The government has issued a notification to allow private vehicles, including school buses, to ferry passengers.\n",
      "\n",
      "Summary:\n",
      "Around one lakh employees of the Maharashtra State Road Transport Corporation (MSRTC) have gone on an indefinite strike from midnight of Monday.\n",
      "----------------------------------------------------------------------------------------------------\n",
      "\n",
      "\n",
      "Original Sentence:\n",
      "Speaking about his captaincy skills, India's current captain Virat Kohli stated that he has learned the most from former captain MS Dhoni. \"[S]tanding so close to him [Dhoni] at slip so many times and just observing him at close quarters,\" Kohli said. \"I love thinking about the game and that's why I enjoy captaincy so much,\" Kohli added.\n",
      "\n",
      "Summary:\n",
      "Speaking about his captaincy skills, India's current captain Virat Kohli stated that he has learned the most from former captain MS Dhoni.\n",
      "----------------------------------------------------------------------------------------------------\n",
      "\n",
      "\n",
      "Original Sentence:\n",
      "Designed by gay artist Gilbert Baker in 1978, LGBT pride's rainbow flag initially had eight colours. However, it reduced to six colours by removing the pink and turquoise and replacing indigo with basic blue. In the current flag, red represents life, orange represents healing, yellow stands for sunlight, green represents nature, blue represents art and violet stands for human spirit. \n",
      "\n",
      "Summary:\n",
      "However, it reduced to six colours by removing the pink and turquoise and replacing indigo with basic blue.\n",
      "----------------------------------------------------------------------------------------------------\n",
      "\n",
      "\n",
      "Original Sentence:\n",
      "The market share of Chinese smartphones in India increased by 340% in the first quarter of the 2017-18 fiscal, as compared to the same quarter last year. Chinese smartphones made up 15% of the Indian market in Q1 last year, as compared to 51% this year. Notably, the market share of Indian smartphones fell from 41% to 14%.\n",
      "\n",
      "Summary:\n",
      "Chinese smartphones made up 15% of the Indian market in Q1 last year, as compared to 51% this year.\n",
      "----------------------------------------------------------------------------------------------------\n",
      "\n",
      "\n"
     ]
    }
   ],
   "source": [
    "for _ in range(10) :\n",
    "    rnum = np.random.randint(len(input_text))\n",
    "    print(f'Original Sentence:\\n{input_text[rnum]}\\n')\n",
    "    print(f'Summary:\\n{summarize(input_text[rnum], ratio=0.4)}')\n",
    "    print('--'*50+'\\n\\n')"
   ]
  },
  {
   "cell_type": "code",
   "execution_count": null,
   "id": "8a4eb374",
   "metadata": {},
   "outputs": [],
   "source": []
  }
 ],
 "metadata": {
  "kernelspec": {
   "display_name": "Python 3 (ipykernel)",
   "language": "python",
   "name": "python3"
  },
  "language_info": {
   "codemirror_mode": {
    "name": "ipython",
    "version": 3
   },
   "file_extension": ".py",
   "mimetype": "text/x-python",
   "name": "python",
   "nbconvert_exporter": "python",
   "pygments_lexer": "ipython3",
   "version": "3.9.7"
  }
 },
 "nbformat": 4,
 "nbformat_minor": 5
}
